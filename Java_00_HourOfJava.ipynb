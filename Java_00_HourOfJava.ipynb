{
  "nbformat": 4,
  "nbformat_minor": 0,
  "metadata": {
    "colab": {
      "provenance": [],
      "include_colab_link": true
    },
    "kernelspec": {
      "name": "python3",
      "display_name": "Python 3"
    },
    "language_info": {
      "name": "python"
    }
  },
  "cells": [
    {
      "cell_type": "markdown",
      "metadata": {
        "id": "view-in-github",
        "colab_type": "text"
      },
      "source": [
        "<a href=\"https://colab.research.google.com/github/thegreekgeek/COMP_2243/blob/main/Java_00_HourOfJava.ipynb\" target=\"_parent\"><img src=\"https://colab.research.google.com/assets/colab-badge.svg\" alt=\"Open In Colab\"/></a>"
      ]
    },
    {
      "cell_type": "markdown",
      "source": [
        "# Lesson 0: An Hour of Java\n",
        "**Brendan Shea, PhD**\n",
        "\n",
        "Java is a programming language created in 1995 that runs on billions of devices worldwide. From your Android phone to Netflix's servers, Java powers the digital world around you.\n",
        "\n",
        "In this lesson, we'll be learning a little bit about what Java can do. Don't worry if some of this seems a bit mysterious--it takes time and practice to learn coding! At this point, your only goal is to play with the code and see what happens!\n",
        "\n",
        "## The Magic: \"Write Once, Run Anywhere\"\n",
        "\n",
        "Java's superpower is portability. When you write Java code, it gets compiled into something called \"bytecode\" that can run on any computer with Java installed - Windows, Mac, Linux, doesn't matter!\n",
        "\n",
        "Here's how it works:\n",
        "1. You write Java code (`.java` files)\n",
        "2. Java compiler turns it into bytecode (`.class` files)  \n",
        "3. The Java Virtual Machine (JVM) runs your bytecode on any system\n",
        "\n",
        "## Java is Everywhere\n",
        "\n",
        "**Android Apps**: Every Android app is written in Java or Kotlin (which runs on the JVM)\n",
        "\n",
        "**Web Servers**: Companies like Google, Amazon, and Twitter use Java for their backend systems\n",
        "\n",
        "**Desktop Software**: IntelliJ IDEA, Eclipse, Minecraft - all built with Java\n",
        "\n",
        "**Enterprise Software**: Banks, hospitals, and governments rely on Java for critical systems\n",
        "\n",
        "## Why Learn Java?\n",
        "\n",
        "- **Job Market**: Java consistently ranks as one of the most in-demand programming languages\n",
        "- **Strong Foundation**: Learning Java teaches you concepts that transfer to other languages\n",
        "- **Versatility**: Build anything from mobile apps to web servers to desktop games\n",
        "- **Community**: Huge community means lots of help and resources available\n",
        "\n",
        "## Try It Out!\n",
        "\n",
        "Take 2 minutes to think about and discuss:\n",
        "\n",
        "1. What Java applications do you already use? (Hint: Check your phone!)\n",
        "2. Why might \"write once, run anywhere\" be valuable for software companies?\n",
        "3. If you could build any type of software, what would it be?\n",
        "\n",
        "By the end of this class, you'll have created your own Java application that you can run on any computer. Let's get started!"
      ],
      "metadata": {
        "id": "XUdKORy9Jfe9"
      }
    },
    {
      "cell_type": "markdown",
      "source": [
        "# Setting Up Your Environment\n",
        "\n",
        "## Working in Google Colab\n",
        "\n",
        "Good news - Java is already installed in Google Colab! We'll use Colab's special features to write and run Java code.\n",
        "\n",
        "## The Development Workflow\n",
        "\n",
        "Here's how we'll work with Java in Colab:\n",
        "\n",
        "1. **Write** code using the `%%writefile` magic command\n",
        "2. **Compile** with `!javac filename.java`\n",
        "3. **Run** with `!java ClassName`\n",
        "\n",
        "## File Organization\n",
        "\n",
        "Java is picky about filenames:\n",
        "- File must end with `.java`\n",
        "- Filename must match the class name exactly\n",
        "- Case sensitive! `MyProgram.java` ≠ `myprogram.java`\n",
        "\n",
        "## Colab Magic Commands\n",
        "\n",
        "- `%%writefile filename.java` - creates a Java file with the code in the cell\n",
        "- `!javac filename.java` - compiles the Java file\n",
        "- `!java ClassName` - runs the compiled program\n",
        "\n",
        "## Try It Out!\n",
        "\n",
        "1. **Test Your Setup**: Create a new cell and run:\n"
      ],
      "metadata": {
        "id": "7Tbv43nBJebm"
      }
    },
    {
      "cell_type": "code",
      "source": [
        "!java -version"
      ],
      "metadata": {
        "colab": {
          "base_uri": "https://localhost:8080/"
        },
        "id": "MChTW97BKTCJ",
        "outputId": "f9b0375b-e0ef-49b9-f30f-67454e5fcdf0"
      },
      "execution_count": null,
      "outputs": [
        {
          "output_type": "stream",
          "name": "stdout",
          "text": [
            "openjdk version \"11.0.28\" 2025-07-15\n",
            "OpenJDK Runtime Environment (build 11.0.28+6-post-Ubuntu-1ubuntu122.04.1)\n",
            "OpenJDK 64-Bit Server VM (build 11.0.28+6-post-Ubuntu-1ubuntu122.04.1, mixed mode, sharing)\n"
          ]
        }
      ]
    },
    {
      "cell_type": "markdown",
      "source": [
        "2. **Write Your First Program**: In a new cell:"
      ],
      "metadata": {
        "id": "47TkHE-4KU_B"
      }
    },
    {
      "cell_type": "code",
      "source": [
        "%%writefile Test.java\n",
        "   public class Test {\n",
        "       public static void main(String[] args) {\n",
        "           System.out.println(\"Java is working in Colab!\");\n",
        "       }\n",
        "   }"
      ],
      "metadata": {
        "id": "EIzIcoCoKX8x",
        "colab": {
          "base_uri": "https://localhost:8080/"
        },
        "outputId": "1893cb00-e90c-4e9b-a143-3dd4f5d70c95"
      },
      "execution_count": 2,
      "outputs": [
        {
          "output_type": "stream",
          "name": "stdout",
          "text": [
            "Writing Test.java\n"
          ]
        }
      ]
    },
    {
      "cell_type": "markdown",
      "source": [
        "3. **Compile and Run**: In another cell:"
      ],
      "metadata": {
        "id": "mCsNUe3cKkld"
      }
    },
    {
      "cell_type": "code",
      "source": [
        "!javac Test.java\n",
        "!java Test"
      ],
      "metadata": {
        "colab": {
          "base_uri": "https://localhost:8080/"
        },
        "id": "f34E81nLKfs8",
        "outputId": "cd3b328f-ce5e-4df3-efd1-77869679d061"
      },
      "execution_count": null,
      "outputs": [
        {
          "output_type": "stream",
          "name": "stdout",
          "text": [
            "Java is working in Colab!\n"
          ]
        }
      ]
    },
    {
      "cell_type": "markdown",
      "source": [
        "# Hello World & Basic Syntax\n",
        "\n",
        "## Anatomy of a Java Program\n",
        "\n",
        "Let's break down the classic \"Hello World\" program:\n",
        "\n",
        "```java\n",
        "public class HelloWorld {\n",
        "    public static void main(String[] args) {\n",
        "        System.out.println(\"Hello, World!\");\n",
        "    }\n",
        "}\n",
        "```\n",
        "\n",
        "## Key Components\n",
        "\n",
        "**Class Declaration**: `public class HelloWorld`\n",
        "- Every Java program is built around classes\n",
        "- Class name must match the filename exactly\n",
        "- `public` means other programs can use this class\n",
        "\n",
        "**Main Method**: `public static void main(String[] args)`\n",
        "- This is where your program starts running\n",
        "- Think of it as the \"entry point\"\n",
        "- The exact spelling matters - Java looks for this specific method\n",
        "\n",
        "**Statements**: `System.out.println(\"Hello, World!\");`\n",
        "- Instructions that tell the computer what to do\n",
        "- Must end with a semicolon (`;`)\n",
        "- `System.out.println()` displays text and moves to the next line\n",
        "\n",
        "## Java Syntax Rules\n",
        "\n",
        "**Curly Braces `{}`**: Group code together\n",
        "- Opening brace starts a block\n",
        "- Closing brace ends a block\n",
        "- Everything inside belongs together\n",
        "\n",
        "**Semicolons `;`**: End most statements\n",
        "- Like periods at the end of sentences\n",
        "- Forgetting them causes compile errors\n",
        "\n",
        "**Case Sensitivity**: Java cares about uppercase/lowercase\n",
        "- `main` ≠ `Main`\n",
        "- `system` ≠ `System`\n",
        "\n",
        "## Comments\n",
        "\n",
        "Add notes to your code:\n",
        "```java\n",
        "// Single line comment\n",
        "/* Multi-line\n",
        "   comment */\n",
        "```\n",
        "\n",
        "## Try It Out!\n",
        "\n",
        "Create and run this program:"
      ],
      "metadata": {
        "id": "q6nDyl41KrFe"
      }
    },
    {
      "cell_type": "code",
      "source": [
        "%%writefile HelloWorld.java\n",
        "public class HelloWorld {\n",
        "    public static void main(String[] args) {\n",
        "        // Your first Java program!\n",
        "        System.out.println(\"Hello, \" + \"your name here!\");\n",
        "        System.out.println(\"Welcome to Java programming.\");\n",
        "    }\n",
        "}"
      ],
      "metadata": {
        "colab": {
          "base_uri": "https://localhost:8080/"
        },
        "id": "bxzTSr96K_B_",
        "outputId": "789ddb39-ce33-4992-936d-c61589b02feb"
      },
      "execution_count": null,
      "outputs": [
        {
          "output_type": "stream",
          "name": "stdout",
          "text": [
            "Writing HelloWorld.java\n"
          ]
        }
      ]
    },
    {
      "cell_type": "code",
      "source": [
        "!javac HelloWorld.java\n",
        "!java HelloWorld\n"
      ],
      "metadata": {
        "id": "ZgB0JJKqK7Kl"
      },
      "execution_count": null,
      "outputs": []
    },
    {
      "cell_type": "markdown",
      "source": [
        "\n",
        "**Challenge**: Modify the program to print your actual name and add a third line with your favorite hobby!"
      ],
      "metadata": {
        "id": "mhOoqBxGK5WF"
      }
    },
    {
      "cell_type": "markdown",
      "source": [
        "# Variables & Data Types\n",
        "\n",
        "## What are Variables?\n",
        "\n",
        "Variables are containers that store data. Think of them as labeled boxes where you can put different types of information.\n",
        "\n",
        "```java\n",
        "int age = 18;             // A box labeled \"age\" containing the number 18\n",
        "String name = \"Bojack\";   // A box labeled \"name\" containing the text \"Bojack\"\n",
        "```\n",
        "\n",
        "## Common Data Types\n",
        "\n",
        "**int**: Whole numbers\n",
        "```java\n",
        "int score = 100;\n",
        "int temperature = -5;\n",
        "```\n",
        "\n",
        "**double**: Decimal numbers\n",
        "```java\n",
        "double price = 19.99;\n",
        "double height = 5.8;\n",
        "```\n",
        "\n",
        "**String**: Text (must use double quotes)\n",
        "```java\n",
        "String greeting = \"Hello there!\";\n",
        "String color = \"blue\";\n",
        "```\n",
        "\n",
        "**boolean**: True or false values\n",
        "```java\n",
        "boolean isRaining = true;\n",
        "boolean gameOver = false;\n",
        "```\n",
        "\n",
        "## Variable Rules\n",
        "\n",
        "**Naming**: Use descriptive names\n",
        "- Good: `studentAge`, `finalScore`\n",
        "- Bad: `x`, `thing1`\n",
        "\n",
        "**Declaration**: Tell Java the type first\n",
        "```java\n",
        "int myNumber;        // Declare\n",
        "myNumber = 21;       // Assign value\n",
        "```\n",
        "\n",
        "**Initialization**: Declare and assign together\n",
        "```java\n",
        "int myNumber = 21;   // Declare and assign\n",
        "```\n",
        "\n",
        "## String Concatenation\n",
        "\n",
        "Join strings with the `+` operator:\n",
        "```java\n",
        "String firstName = \"Taylor\";\n",
        "String lastName = \"Swift\";\n",
        "String fullName = firstName + \" \" + lastName;\n",
        "// Result: \"Taylor Swift\"\n",
        "```\n",
        "\n",
        "## Try It Out!\n",
        "\n",
        "Create an \"About Me\" program:"
      ],
      "metadata": {
        "id": "Qr0nsp1MLYEu"
      }
    },
    {
      "cell_type": "code",
      "source": [
        "%%writefile AboutMe.java\n",
        "public class AboutMe {\n",
        "    public static void main(String[] args) {\n",
        "        // Create variables about yourself\n",
        "        // Try changing these values!\n",
        "        String name = \"Rob\";\n",
        "        int age = 36;\n",
        "        String favoriteColor = \"Blue\";\n",
        "        double height = 5.11;\n",
        "        boolean likesJava = false;\n",
        "\n",
        "        // Display the information\n",
        "        System.out.println(\"Name: \" + name);\n",
        "        System.out.println(\"Age: \" + age);\n",
        "        System.out.println(\"Favorite Color: \" + favoriteColor);\n",
        "        System.out.println(\"Height: \" + height + \" feet\");\n",
        "        System.out.println(\"Likes Java: \" + likesJava);\n",
        "    }\n",
        "}\n"
      ],
      "metadata": {
        "colab": {
          "base_uri": "https://localhost:8080/"
        },
        "id": "BEosEe9ELdab",
        "outputId": "2b519783-f9a0-4e79-a440-c1840e88f13e"
      },
      "execution_count": 26,
      "outputs": [
        {
          "output_type": "stream",
          "name": "stdout",
          "text": [
            "Overwriting AboutMe.java\n"
          ]
        }
      ]
    },
    {
      "cell_type": "code",
      "source": [
        "!javac AboutMe.java\n",
        "!java AboutMe"
      ],
      "metadata": {
        "colab": {
          "base_uri": "https://localhost:8080/"
        },
        "id": "FmBgqv4HLv8P",
        "outputId": "b607a19b-0d97-48a0-d51a-2ecd780229fe"
      },
      "execution_count": 27,
      "outputs": [
        {
          "output_type": "stream",
          "name": "stdout",
          "text": [
            "Name: Rob\n",
            "Age: 36\n",
            "Favorite Color: Blue\n",
            "Height: 5.11 feet\n",
            "Likes Java: false\n"
          ]
        }
      ]
    },
    {
      "cell_type": "markdown",
      "source": [
        "\n",
        "**Challenge**: Add three more variables about yourself and display them!"
      ],
      "metadata": {
        "id": "Kgmd101BLZcy"
      }
    },
    {
      "cell_type": "markdown",
      "source": [
        "# Getting User Input\n",
        "\n",
        "## Making Programs Interactive\n",
        "\n",
        "So far our programs just display information. Let's make them interactive by getting input from the user!\n",
        "\n",
        "## The Scanner Class\n",
        "\n",
        "Java provides a `Scanner` class to read user input. We need to:\n",
        "1. Import it at the top of our program\n",
        "2. Create a Scanner object\n",
        "3. Use it to read different types of input\n",
        "\n",
        "```java\n",
        "import java.util.Scanner;\n",
        "\n",
        "public class Interactive {\n",
        "    public static void main(String[] args) {\n",
        "        Scanner input = new Scanner(System.in);\n",
        "        // Now we can read user input!\n",
        "    }\n",
        "}\n",
        "```\n",
        "\n",
        "## Reading Different Types\n",
        "\n",
        "**Reading Strings**:\n",
        "```java\n",
        "System.out.print(\"Enter your name: \");\n",
        "String name = input.nextLine();\n",
        "```\n",
        "\n",
        "**Reading Integers**:\n",
        "```java\n",
        "System.out.print(\"Enter your age: \");\n",
        "int age = input.nextInt();\n",
        "```\n",
        "\n",
        "**Reading Decimals**:\n",
        "```java\n",
        "System.out.print(\"Enter your GPA: \");\n",
        "double gpa = input.nextDouble();\n",
        "```\n",
        "\n",
        "## Important Notes\n",
        "\n",
        "**System.out.print vs println**:\n",
        "- `print()` stays on the same line\n",
        "- `println()` moves to the next line\n",
        "\n",
        "**Scanner Methods**:\n",
        "- `nextLine()` - reads entire line of text\n",
        "- `nextInt()` - reads whole numbers\n",
        "- `nextDouble()` - reads decimal numbers\n",
        "\n",
        "## Try It Out!\n",
        "\n",
        "Create an interactive greeting program:\n"
      ],
      "metadata": {
        "id": "9KKqJiljL-ud"
      }
    },
    {
      "cell_type": "code",
      "source": [
        "%%writefile InteractiveGreeting.java\n",
        "import java.util.Scanner;\n",
        "\n",
        "public class InteractiveGreeting {\n",
        "    public static void main(String[] args) {\n",
        "        Scanner input = new Scanner(System.in);\n",
        "\n",
        "        System.out.print(\"What's your name? \");\n",
        "        String name = input.nextLine();\n",
        "\n",
        "        System.out.print(\"How old are you? \");\n",
        "        int age = input.nextInt();\n",
        "\n",
        "        System.out.print(\"What's your favorite number? \");\n",
        "        double favoriteNum = input.nextDouble();\n",
        "\n",
        "        // Display personalized message\n",
        "        System.out.println(\"\\nHi \" + name + \"!\");\n",
        "        System.out.println(\"You are \" + age + \" years old.\");\n",
        "        System.out.println(\"Your favorite number is \" + favoriteNum);\n",
        "        System.out.println(\"Nice to meet you!\");\n",
        "    }\n",
        "}\n"
      ],
      "metadata": {
        "colab": {
          "base_uri": "https://localhost:8080/"
        },
        "id": "SuzqTwgUMCzS",
        "outputId": "7e025bff-4b75-487c-ba1d-4e5ee49f9822"
      },
      "execution_count": 28,
      "outputs": [
        {
          "output_type": "stream",
          "name": "stdout",
          "text": [
            "Writing InteractiveGreeting.java\n"
          ]
        }
      ]
    },
    {
      "cell_type": "code",
      "source": [
        "!javac InteractiveGreeting.java\n",
        "!java InteractiveGreeting"
      ],
      "metadata": {
        "id": "QnkHOzYjMFEp",
        "colab": {
          "base_uri": "https://localhost:8080/"
        },
        "outputId": "4676b3a8-b637-4905-acbb-bcb1a6412663"
      },
      "execution_count": 30,
      "outputs": [
        {
          "output_type": "stream",
          "name": "stdout",
          "text": [
            "What's your name? Rob\n",
            "How old are you? 36\n",
            "What's your favorite number? 77\n",
            "\n",
            "Hi Rob!\n",
            "You are 36 years old.\n",
            "Your favorite number is 77.0\n",
            "Nice to meet you!\n"
          ]
        }
      ]
    },
    {
      "cell_type": "markdown",
      "source": [
        "\n",
        "**Challenge**: Add questions about their favorite color and hobby!"
      ],
      "metadata": {
        "id": "4c80PH4UL_yP"
      }
    },
    {
      "cell_type": "markdown",
      "source": [
        "# Basic Operations & Math\n",
        "\n",
        "## Arithmetic Operators\n",
        "\n",
        "Java can perform math just like a calculator:\n",
        "\n",
        "```java\n",
        "int a = 10;\n",
        "int b = 3;\n",
        "\n",
        "int sum = a + b;        // Addition: 13\n",
        "int difference = a - b;  // Subtraction: 7\n",
        "int product = a * b;     // Multiplication: 30\n",
        "int quotient = a / b;    // Division: 3 (integer division!)\n",
        "int remainder = a % b;   // Modulus (remainder): 1\n",
        "```\n",
        "\n",
        "## Division Gotcha!\n",
        "\n",
        "When dividing integers, Java drops the decimal:\n",
        "```java\n",
        "int result1 = 7 / 2;     // Result: 3 (not 3.5!)\n",
        "double result2 = 7.0 / 2; // Result: 3.5\n",
        "```\n",
        "\n",
        "## String Operations\n",
        "\n",
        "**Concatenation** - joining strings with `+`:\n",
        "```java\n",
        "String first = \"Java\";\n",
        "String second = \"Programming\";\n",
        "String combined = first + \" \" + second; // \"Java Programming\"\n",
        "```\n",
        "\n",
        "**Mixing Numbers and Strings**:\n",
        "```java\n",
        "int age = 16;\n",
        "String message = \"I am \" + age + \" years old\"; // \"I am 16 years old\"\n",
        "```\n",
        "\n",
        "## Order of Operations\n",
        "\n",
        "Java follows standard math rules (PEMDAS):\n",
        "```java\n",
        "int result = 2 + 3 * 4;      // Result: 14 (not 20!)\n",
        "int result2 = (2 + 3) * 4;   // Result: 20\n",
        "```\n",
        "\n",
        "## Useful Math Methods\n",
        "\n",
        "```java\n",
        "Math.pow(2, 3);    // 2³ = 8\n",
        "Math.sqrt(16);     // √16 = 4.0\n",
        "Math.abs(-5);      // |−5| = 5\n",
        "Math.max(10, 20);  // Returns 20\n",
        "Math.min(10, 20);  // Returns 10\n",
        "```\n",
        "\n",
        "## Try It Out!\n",
        "\n",
        "Build a basic calculator:"
      ],
      "metadata": {
        "id": "TBbIpQ0jMJtO"
      }
    },
    {
      "cell_type": "code",
      "source": [
        "%%writefile Calculator.java\n",
        "import java.util.Scanner;\n",
        "\n",
        "public class Calculator {\n",
        "    public static void main(String[] args) {\n",
        "        Scanner input = new Scanner(System.in);\n",
        "\n",
        "        System.out.println(\"=== Basic Calculator ===\");\n",
        "        System.out.print(\"Enter first number: \");\n",
        "        double num1 = input.nextDouble();\n",
        "\n",
        "        System.out.print(\"Enter second number: \");\n",
        "        double num2 = input.nextDouble();\n",
        "\n",
        "        // Perform all operations\n",
        "        System.out.println(\"\\nResults:\");\n",
        "        System.out.println(num1 + \" + \" + num2 + \" = \" + (num1 + num2));\n",
        "        System.out.println(num1 + \" - \" + num2 + \" = \" + (num1 - num2));\n",
        "        System.out.println(num1 + \" * \" + num2 + \" = \" + (num1 * num2));\n",
        "        System.out.println(num1 + \" / \" + num2 + \" = \" + (num1 / num2));\n",
        "\n",
        "        // Bonus: power and square root\n",
        "        System.out.println(num1 + \" ^ 2 = \" + Math.pow(num1, 2));\n",
        "        System.out.println(\"√\" + num1 + \" = \" + Math.sqrt(num1));\n",
        "    }\n",
        "}\n"
      ],
      "metadata": {
        "colab": {
          "base_uri": "https://localhost:8080/"
        },
        "id": "h5BHES4xMsNC",
        "outputId": "934a2465-e87f-42e9-af08-52cc5711a8ca"
      },
      "execution_count": null,
      "outputs": [
        {
          "output_type": "stream",
          "name": "stdout",
          "text": [
            "Writing Calculator.java\n"
          ]
        }
      ]
    },
    {
      "cell_type": "code",
      "source": [
        "!javac Calculator.java\n",
        "!java Calculator"
      ],
      "metadata": {
        "id": "2knSQbU5MvF5",
        "colab": {
          "base_uri": "https://localhost:8080/"
        },
        "outputId": "f3903379-ac21-43f6-a60d-23f5533aeb96"
      },
      "execution_count": null,
      "outputs": [
        {
          "output_type": "stream",
          "name": "stdout",
          "text": [
            "=== Basic Calculator ===\n",
            "Enter first number: 6\n",
            "Enter second number: 9\n",
            "\n",
            "Results:\n",
            "6.0 + 9.0 = 15.0\n",
            "6.0 - 9.0 = -3.0\n",
            "6.0 * 9.0 = 54.0\n",
            "6.0 / 9.0 = 0.6666666666666666\n",
            "6.0 ^ 2 = 36.0\n",
            "√6.0 = 2.449489742783178\n"
          ]
        }
      ]
    },
    {
      "cell_type": "markdown",
      "source": [
        "\n",
        "**Challenge**: Add operations for finding the maximum and minimum of the two numbers! You can use `Math.min(num1,num2)` and `Math.max(num1,num2)`."
      ],
      "metadata": {
        "id": "QaCZDvu7MokN"
      }
    },
    {
      "cell_type": "markdown",
      "source": [
        "# Making Decisions with If Statements\n",
        "\n",
        "\n",
        "Programs need to make choices based on different conditions. Should we display \"Pass\" or \"Fail\"? Is the user old enough? Is it safe to divide by zero?\n",
        "\n",
        "## Basic If Statement\n",
        "\n",
        "```java\n",
        "int score = 85;\n",
        "\n",
        "if (score >= 60) {\n",
        "    System.out.println(\"You passed!\");\n",
        "}\n",
        "```\n",
        "\n",
        "## If-Else Structure\n",
        "\n",
        "```java\n",
        "int age = 16;\n",
        "\n",
        "if (age >= 18) {\n",
        "    System.out.println(\"You can vote!\");\n",
        "} else {\n",
        "    System.out.println(\"Not old enough to vote yet.\");\n",
        "}\n",
        "```\n",
        "\n",
        "## Comparison Operators\n",
        "\n",
        "```java\n",
        "int a = 5, b = 10;\n",
        "\n",
        "a == b    // Equal to (false)\n",
        "a != b    // Not equal to (true)\n",
        "a < b     // Less than (true)\n",
        "a > b     // Greater than (false)\n",
        "a <= b    // Less than or equal to (true)\n",
        "a >= b    // Greater than or equal to (false)\n",
        "```\n",
        "\n",
        "## Multiple Conditions\n",
        "\n",
        "**else if** for multiple choices:\n",
        "```java\n",
        "int grade = 87;\n",
        "\n",
        "if (grade >= 90) {\n",
        "    System.out.println(\"A\");\n",
        "} else if (grade >= 80) {\n",
        "    System.out.println(\"B\");\n",
        "} else if (grade >= 70) {\n",
        "    System.out.println(\"C\");\n",
        "} else {\n",
        "    System.out.println(\"Need to study more!\");\n",
        "}\n",
        "```\n",
        "\n",
        "## Logical Operators\n",
        "\n",
        "**AND (&&)**: Both conditions must be true\n",
        "```java\n",
        "if (age >= 16 && hasLicense) {\n",
        "    System.out.println(\"Can drive!\");\n",
        "}\n",
        "```\n",
        "\n",
        "**OR (||)**: At least one condition must be true\n",
        "```java\n",
        "if (day.equals(\"Saturday\") || day.equals(\"Sunday\")) {\n",
        "    System.out.println(\"It's the weekend!\");\n",
        "}\n",
        "```\n",
        "\n",
        "## Try It Out!\n",
        "\n",
        "Enhance our calculator with safety checks:"
      ],
      "metadata": {
        "id": "Y8lkTXd6M96_"
      }
    },
    {
      "cell_type": "code",
      "source": [
        "%%writefile SafeCalculator.java\n",
        "import java.util.Scanner;\n",
        "\n",
        "public class SafeCalculator {\n",
        "    public static void main(String[] args) {\n",
        "        Scanner input = new Scanner(System.in);\n",
        "\n",
        "        System.out.print(\"Enter first number: \");\n",
        "        double num1 = input.nextDouble();\n",
        "\n",
        "        System.out.print(\"Enter second number: \");\n",
        "        double num2 = input.nextDouble();\n",
        "\n",
        "        System.out.println(\"\\n=== Results ===\");\n",
        "        System.out.println(\"Addition: \" + (num1 + num2));\n",
        "        System.out.println(\"Subtraction: \" + (num1 - num2));\n",
        "        System.out.println(\"Multiplication: \" + (num1 * num2));\n",
        "\n",
        "        // Safe division\n",
        "        if (num2 != 0) {\n",
        "            System.out.println(\"Division: \" + (num1 / num2));\n",
        "        } else {\n",
        "            System.out.println(\"Division: Cannot divide by zero!\");\n",
        "        }\n",
        "\n",
        "        // Bonus: Check which number is larger\n",
        "        if (num1 > num2) {\n",
        "            System.out.println(num1 + \" is larger\");\n",
        "        } else if (num2 > num1) {\n",
        "            System.out.println(num2 + \" is larger\");\n",
        "        } else {\n",
        "            System.out.println(\"Both numbers are equal\");\n",
        "        }\n",
        "    }\n",
        "}\n"
      ],
      "metadata": {
        "colab": {
          "base_uri": "https://localhost:8080/"
        },
        "id": "ox8cTcBKNC90",
        "outputId": "4622508e-f553-42de-a3e2-155821b5e610"
      },
      "execution_count": null,
      "outputs": [
        {
          "output_type": "stream",
          "name": "stdout",
          "text": [
            "Writing SafeCalculator.java\n"
          ]
        }
      ]
    },
    {
      "cell_type": "code",
      "source": [
        "!javac SafeCalculator.java\n",
        "!java SafeCalculator"
      ],
      "metadata": {
        "id": "vgmnn7GeNFV2"
      },
      "execution_count": null,
      "outputs": []
    },
    {
      "cell_type": "markdown",
      "source": [
        "\n",
        "**Challenge**: Add a check for square root that warns if the number is negative!"
      ],
      "metadata": {
        "id": "H_5bMmcLM_Pa"
      }
    },
    {
      "cell_type": "markdown",
      "source": [
        "# Loops for Repetition\n",
        "\n",
        "## Why Use Loops?\n",
        "\n",
        "Imagine printing \"Hello\" 100 times. You could write 100 `System.out.println()` statements... or use a loop to do it automatically!\n",
        "\n",
        "## For Loops - Count-Based Repetition\n",
        "\n",
        "When you know exactly how many times to repeat:\n",
        "\n",
        "```java\n",
        "for (int i = 1; i <= 5; i++) {\n",
        "    System.out.println(\"Count: \" + i);\n",
        "}\n",
        "// Prints: Count: 1, Count: 2, Count: 3, Count: 4, Count: 5\n",
        "```\n",
        "\n",
        "**Breaking it down**:\n",
        "- `int i = 1` - start with i equals 1\n",
        "- `i <= 5` - keep going while i is 5 or less\n",
        "- `i++` - add 1 to i after each loop\n",
        "\n",
        "## While Loops - Condition-Based Repetition\n",
        "\n",
        "When you want to keep going until something happens:\n",
        "\n",
        "```java\n",
        "int number = 1;\n",
        "while (number <= 10) {\n",
        "    System.out.println(number);\n",
        "    number = number + 2;\n",
        "}\n",
        "// Prints: 1, 3, 5, 7, 9\n",
        "```\n",
        "\n",
        "## For vs While - When to Use Each\n",
        "\n",
        "**Use for loops when**:\n",
        "- You know how many times to repeat\n",
        "- You're counting through numbers\n",
        "\n",
        "**Use while loops when**:\n",
        "- You're waiting for user input\n",
        "- You don't know exactly when to stop\n",
        "\n",
        "## Loop Examples\n",
        "\n",
        "**Countdown**:\n",
        "```java\n",
        "for (int i = 10; i >= 1; i--) {\n",
        "    System.out.println(i);\n",
        "}\n",
        "System.out.println(\"Blast off!\");\n",
        "```\n",
        "\n",
        "**User Input Until Correct**:\n",
        "```java\n",
        "Scanner input = new Scanner(System.in);\n",
        "int secret = 7;\n",
        "int guess = 0;\n",
        "\n",
        "while (guess != secret) {\n",
        "    System.out.print(\"Guess the number (1-10): \");\n",
        "    guess = input.nextInt();\n",
        "    if (guess != secret) {\n",
        "        System.out.println(\"Try again!\");\n",
        "    }\n",
        "}\n",
        "System.out.println(\"You got it!\");\n",
        "```\n",
        "\n",
        "## Try It Out!\n",
        "\n",
        "Create a simple guessing game:"
      ],
      "metadata": {
        "id": "KaSrbDDtNKRD"
      }
    },
    {
      "cell_type": "code",
      "source": [
        "%%writefile GuessingGame.java\n",
        "import java.util.Scanner;\n",
        "\n",
        "public class GuessingGame {\n",
        "    public static void main(String[] args) {\n",
        "        Scanner input = new Scanner(System.in);\n",
        "        int secretNumber = 21;\n",
        "        int guess = 0;\n",
        "        int attempts = 0;\n",
        "\n",
        "        System.out.println(\"=== Number Guessing Game ===\");\n",
        "        System.out.println(\"I'm thinking of a number between 1 and 100!\");\n",
        "\n",
        "        while (guess != secretNumber) {\n",
        "            System.out.print(\"Enter your guess: \");\n",
        "            guess = input.nextInt();\n",
        "            attempts++;\n",
        "\n",
        "            if (guess < secretNumber) {\n",
        "                System.out.println(\"Too low! Try higher.\");\n",
        "            } else if (guess > secretNumber) {\n",
        "                System.out.println(\"Too high! Try lower.\");\n",
        "            } else {\n",
        "                System.out.println(\"🎉 Congratulations! You got it!\");\n",
        "                System.out.println(\"It took you \" + attempts + \" attempts.\");\n",
        "            }\n",
        "        }\n",
        "\n",
        "        // Bonus: Rate their performance\n",
        "        if (attempts <= 3) {\n",
        "            System.out.println(\"Amazing! You're a guessing master!\");\n",
        "        } else if (attempts <= 6) {\n",
        "            System.out.println(\"Good job!\");\n",
        "        } else {\n",
        "            System.out.println(\"Better luck next time!\");\n",
        "        }\n",
        "    }\n",
        "}\n"
      ],
      "metadata": {
        "colab": {
          "base_uri": "https://localhost:8080/"
        },
        "id": "R_CvhSiUNh0_",
        "outputId": "2a0c56a2-cec0-40f4-f442-11ddee581857"
      },
      "execution_count": null,
      "outputs": [
        {
          "output_type": "stream",
          "name": "stdout",
          "text": [
            "Writing GuessingGame.java\n"
          ]
        }
      ]
    },
    {
      "cell_type": "code",
      "source": [
        "!javac GuessingGame.Java\n",
        "!java GuessingGame"
      ],
      "metadata": {
        "id": "2iQvY-D6Ni2L"
      },
      "execution_count": null,
      "outputs": []
    },
    {
      "cell_type": "markdown",
      "source": [
        "\n",
        "**Challenge**: Make the secret number random using `(int)(Math.random() * 100) + 1`!"
      ],
      "metadata": {
        "id": "w1Lbxk3CNeHk"
      }
    },
    {
      "cell_type": "markdown",
      "source": [
        "# Methods & Code Organization\n",
        "\n",
        "Methods are reusable blocks of code that perform specific tasks. Think of them as mini-programs within your program. Instead of writing the same code over and over, you create a method and call it whenever needed.\n",
        "\n",
        "## Basic Method Structure\n",
        "\n",
        "```java\n",
        "public static void sayHello() {\n",
        "    System.out.println(\"Hello there!\");\n",
        "    System.out.println(\"Welcome to Java!\");\n",
        "}\n",
        "```\n",
        "\n",
        "**Calling the method**:\n",
        "```java\n",
        "sayHello(); // Runs the code inside sayHello()\n",
        "```\n",
        "\n",
        "## Methods with Parameters\n",
        "\n",
        "Pass information into methods:\n",
        "\n",
        "```java\n",
        "public static void greetPerson(String name) {\n",
        "    System.out.println(\"Hello, \" + name + \"!\");\n",
        "    System.out.println(\"Nice to meet you!\");\n",
        "}\n",
        "```\n",
        "\n",
        "**Using parameters**:\n",
        "```java\n",
        "greetPerson(\"Bojack\");  // Output: Hello, Bojack!\n",
        "greetPerson(\"Sarah\");   // Output: Hello, Sarah!\n",
        "```\n",
        "\n",
        "## Methods that Return Values\n",
        "\n",
        "Some methods give back a result:\n",
        "\n",
        "```java\n",
        "public static int addNumbers(int a, int b) {\n",
        "    int sum = a + b;\n",
        "    return sum;  // Send the result back\n",
        "}\n",
        "```\n",
        "\n",
        "**Using return values**:\n",
        "```java\n",
        "int result = addNumbers(5, 3);  // result becomes 8\n",
        "System.out.println(\"5 + 3 = \" + result);\n",
        "```\n",
        "\n",
        "## Why Use Methods?\n",
        "\n",
        "**Avoid Repetition**: Write code once, use it many times\n",
        "**Organization**: Break big problems into smaller pieces  \n",
        "**Readability**: Code is easier to understand\n",
        "**Testing**: Test each piece separately\n",
        "\n",
        "## Method Examples\n",
        "\n",
        "```java\n",
        "public static double calculateArea(double radius) {\n",
        "    return Math.PI * radius * radius;\n",
        "}\n",
        "\n",
        "public static boolean isEven(int number) {\n",
        "    return number % 2 == 0;\n",
        "}\n",
        "\n",
        "public static void printStars(int count) {\n",
        "    for (int i = 0; i < count; i++) {\n",
        "        System.out.print(\"*\");\n",
        "    }\n",
        "    System.out.println();\n",
        "}\n",
        "```\n",
        "\n",
        "## Try It Out!\n",
        "\n",
        "Look at this simple program that uses methods:"
      ],
      "metadata": {
        "id": "C21EAiSPOB4q"
      }
    },
    {
      "cell_type": "code",
      "source": [
        "%%writefile MethodsExample.java\n",
        "public class MethodsExample {\n",
        "    public static void main(String[] args) {\n",
        "        // Call our methods\n",
        "        sayHello();\n",
        "        sayHello();  // We can call it multiple times!\n",
        "\n",
        "        int result = doubleNumber(5);\n",
        "        System.out.println(\"Double of 5 is: \" + result);\n",
        "\n",
        "        int bigger = doubleNumber(10);\n",
        "        System.out.println(\"Double of 10 is: \" + bigger);\n",
        "    }\n",
        "\n",
        "    // Method that prints a greeting\n",
        "    public static void sayHello() {\n",
        "        System.out.println(\"Hello from the method!\");\n",
        "    }\n",
        "\n",
        "    // Method that doubles a number and returns it\n",
        "    public static int doubleNumber(int number) {\n",
        "        return number * 2;\n",
        "    }\n",
        "}"
      ],
      "metadata": {
        "colab": {
          "base_uri": "https://localhost:8080/"
        },
        "id": "TBQa-PWPPS7B",
        "outputId": "89de9537-9b77-42ac-cca9-85f2f0018d1d"
      },
      "execution_count": null,
      "outputs": [
        {
          "output_type": "stream",
          "name": "stdout",
          "text": [
            "Overwriting MethodsExample.java\n"
          ]
        }
      ]
    },
    {
      "cell_type": "code",
      "source": [
        "!javac MethodsExample.java\n",
        "!java MethodsExample"
      ],
      "metadata": {
        "colab": {
          "base_uri": "https://localhost:8080/"
        },
        "id": "MTnsrpObPU-n",
        "outputId": "6b68fe83-93b5-4dca-9ff0-8ff27bf55412"
      },
      "execution_count": null,
      "outputs": [
        {
          "output_type": "stream",
          "name": "stdout",
          "text": [
            "Hello from the method!\n",
            "Hello from the method!\n",
            "Double of 5 is: 10\n",
            "Double of 10 is: 20\n"
          ]
        }
      ]
    },
    {
      "cell_type": "markdown",
      "source": [
        "\n",
        "**Challenge**:\n",
        "1. Change what the `sayHello()` method prints\n",
        "2. Call `sayHello()` one more time in main\n",
        "3. Try calling `double(7)` and print the result\n",
        "\n",
        "**Bonus Challenge**: Add your own method called `triple(int number)` that multiplies a number by 3, then call it in main!"
      ],
      "metadata": {
        "id": "txv9j-9PPP0d"
      }
    },
    {
      "cell_type": "markdown",
      "source": [
        "# Introduction to Swing GUI:  Beyond the Console\n",
        "\n",
        "So far, all our programs have been text-based. Now let's create programs with windows, buttons, and graphics using Java Swing!\n",
        "\n",
        "## What is Swing?\n",
        "\n",
        "Swing is Java's toolkit for creating graphical user interfaces (GUIs). It provides:\n",
        "- Windows (JFrame)\n",
        "- Buttons (JButton)\n",
        "- Text labels (JLabel)\n",
        "- Text input boxes (JTextField)\n",
        "- And much more!\n",
        "\n",
        "## Basic Window Components\n",
        "\n",
        "**JFrame**: The main window\n",
        "```java\n",
        "JFrame window = new JFrame(\"My First GUI\");\n",
        "window.setSize(400, 300);\n",
        "window.setDefaultCloseOperation(JFrame.EXIT_ON_CLOSE);\n",
        "```\n",
        "\n",
        "**JLabel**: Display text\n",
        "```java\n",
        "JLabel message = new JLabel(\"Hello, GUI World!\");\n",
        "```\n",
        "\n",
        "**JButton**: Clickable button\n",
        "```java\n",
        "JButton myButton = new JButton(\"Click Me!\");\n",
        "```\n",
        "\n",
        "## Event Handling\n",
        "\n",
        "When someone clicks a button, we need to respond to that \"event\":\n",
        "\n",
        "```java\n",
        "myButton.addActionListener(new ActionListener() {\n",
        "    public void actionPerformed(ActionEvent e) {\n",
        "        // This code runs when button is clicked\n",
        "        System.out.println(\"Button was clicked!\");\n",
        "    }\n",
        "});\n",
        "```\n",
        "\n",
        "## Layout Basics\n",
        "\n",
        "We need to arrange components in the window:\n",
        "```java\n",
        "window.setLayout(new FlowLayout()); // Simple left-to-right layout\n",
        "window.add(message);  // Add label to window\n",
        "window.add(myButton); // Add button to window\n",
        "```\n",
        "\n",
        "## Making the Window Visible\n",
        "\n",
        "Don't forget this final step:\n",
        "```java\n",
        "window.setVisible(true);\n",
        "```\n",
        "\n",
        "## Try It Out!\n",
        "\n",
        "Create your first GUI program:"
      ],
      "metadata": {
        "id": "vG4y5gjtQggt"
      }
    },
    {
      "cell_type": "code",
      "source": [
        "%%writefile FirstGUI.java\n",
        "import javax.swing.*;\n",
        "import java.awt.*;\n",
        "import java.awt.event.*;\n",
        "\n",
        "public class FirstGUI {\n",
        "    public static void main(String[] args) {\n",
        "        // Create the window\n",
        "        JFrame window = new JFrame(\"My First GUI\");\n",
        "        window.setSize(400, 200);\n",
        "        window.setDefaultCloseOperation(JFrame.EXIT_ON_CLOSE);\n",
        "        window.setLayout(new FlowLayout());\n",
        "\n",
        "        // Create components\n",
        "        JLabel greeting = new JLabel(\"Welcome to Java Swing!\");\n",
        "        JButton clickButton = new JButton(\"Click Me!\");\n",
        "        JLabel responseLabel = new JLabel(\"Click the button above!\");\n",
        "\n",
        "        // Add button click behavior\n",
        "        clickButton.addActionListener(new ActionListener() {\n",
        "            public void actionPerformed(ActionEvent e) {\n",
        "                responseLabel.setText(\"Hello! You clicked the button!\");\n",
        "            }\n",
        "        });\n",
        "\n",
        "        // Add components to window\n",
        "        window.add(greeting);\n",
        "        window.add(clickButton);\n",
        "        window.add(responseLabel);\n",
        "\n",
        "        // Show the window\n",
        "        window.setVisible(true);\n",
        "    }\n",
        "}"
      ],
      "metadata": {
        "colab": {
          "base_uri": "https://localhost:8080/"
        },
        "id": "qs0SHJo1QuL3",
        "outputId": "4f65eaf0-c2b0-405a-c119-aff2fb65773d"
      },
      "execution_count": null,
      "outputs": [
        {
          "output_type": "stream",
          "name": "stdout",
          "text": [
            "Writing FirstGUI.java\n"
          ]
        }
      ]
    },
    {
      "cell_type": "markdown",
      "source": [
        "**Challenge**:\n",
        "1. Change the window title and greeting text\n",
        "2. Add a second button that changes the response label to something different\n",
        "\n",
        "## Creating a JAR File\n",
        "\n",
        "To make your GUI program portable, create a JAR (Java Archive) file:\n"
      ],
      "metadata": {
        "id": "U2iepbUuQpmA"
      }
    },
    {
      "cell_type": "code",
      "source": [
        "# First compile the Java file\n",
        "!javac FirstGUI.java\n",
        "\n",
        "# Create a JAR file (include all .class files)\n",
        "!jar cfe FirstGUI.jar FirstGUI *.class\n",
        "\n",
        "# List files to verify JAR was created\n",
        "!ls -la *.jar\n"
      ],
      "metadata": {
        "colab": {
          "base_uri": "https://localhost:8080/"
        },
        "id": "-MsmyE05Qlvr",
        "outputId": "f59426c4-667c-437d-b999-7077cada86ff"
      },
      "execution_count": null,
      "outputs": [
        {
          "output_type": "stream",
          "name": "stdout",
          "text": [
            "-rw-r--r-- 1 root root 3636 Aug 26 12:08 FirstGUI.jar\n"
          ]
        }
      ]
    },
    {
      "cell_type": "markdown",
      "source": [
        "\n",
        "## Running Your JAR\n",
        "\n",
        "After creating the JAR file:\n",
        "1. Download the `FirstGUI.jar` file from Colab to your computer\n",
        "2. Make sure Java is installed on your computer\n",
        "3. Double-click the JAR file to run it, OR\n",
        "4. Open terminal/command prompt and run: `java -jar FirstGUI.jar`\n",
        "\n",
        "Your GUI program will now run on any computer with Java installed!\n",
        "\n",
        "**Note**: In Colab, the GUI window might not display, but you can still create the JAR file!"
      ],
      "metadata": {
        "id": "MPQvXI2SQiHS"
      }
    },
    {
      "cell_type": "markdown",
      "source": [
        "# Building Our Game\n",
        "\n",
        "Now let's build a complete game that uses variables, loops, if statements, methods, and GUI components all together!\n",
        "\n",
        "## Our Game: Click Counter Challenge\n",
        "\n",
        "We'll create a clicking game where:\n",
        "- Players click a button to earn points\n",
        "- They have a time limit to get as many clicks as possible\n",
        "- The game shows their score and gives feedback\n",
        "\n",
        "## Game Components Needed\n",
        "\n",
        "**Variables**: Store score, time remaining, game state\n",
        "**Methods**: Start game, update score, check time, end game\n",
        "**GUI**: Buttons, labels, layout\n",
        "**Logic**: If statements for game rules, loops for timing\n",
        "\n",
        "## Game State Management\n",
        "\n",
        "We need to track:\n",
        "```java\n",
        "static int score = 0;\n",
        "static int timeLeft = 10;\n",
        "static boolean gameActive = false;\n",
        "```\n",
        "\n",
        "## Timer for Game Logic\n",
        "\n",
        "Java provides a `Timer` class for repeated actions:\n",
        "```java\n",
        "Timer gameTimer = new Timer(1000, new ActionListener() {\n",
        "    public void actionPerformed(ActionEvent e) {\n",
        "        // This runs every 1000ms (1 second)\n",
        "        timeLeft--;\n",
        "        if (timeLeft <= 0) {\n",
        "            endGame();\n",
        "        }\n",
        "    }\n",
        "});\n",
        "```\n",
        "\n",
        "## Try It Out!\n",
        "\n",
        "Build the complete clicking game:\n"
      ],
      "metadata": {
        "id": "-UA7HYTeSc3Z"
      }
    },
    {
      "cell_type": "code",
      "source": [
        "%%writefile ClickGame.java\n",
        "import javax.swing.*;\n",
        "import java.awt.*;\n",
        "import java.awt.event.*;\n",
        "\n",
        "public class ClickGame {\n",
        "    static int score = 0;\n",
        "    static int timeLeft = 10;\n",
        "    static boolean gameActive = false;\n",
        "    static Timer gameTimer;\n",
        "\n",
        "    static JLabel scoreLabel;\n",
        "    static JLabel timeLabel;\n",
        "    static JLabel statusLabel;\n",
        "    static JButton clickButton;\n",
        "    static JButton startButton;\n",
        "\n",
        "    public static void main(String[] args) {\n",
        "        createGameWindow();\n",
        "    }\n",
        "\n",
        "    public static void createGameWindow() {\n",
        "        JFrame window = new JFrame(\"Click Counter Challenge\");\n",
        "        window.setSize(400, 300);\n",
        "        window.setDefaultCloseOperation(JFrame.EXIT_ON_CLOSE);\n",
        "        window.setLayout(new FlowLayout());\n",
        "\n",
        "        // Create game components\n",
        "        JLabel titleLabel = new JLabel(\"Click Counter Challenge!\");\n",
        "        scoreLabel = new JLabel(\"Score: 0\");\n",
        "        timeLabel = new JLabel(\"Time: 10\");\n",
        "        statusLabel = new JLabel(\"Click START to begin!\");\n",
        "\n",
        "        clickButton = new JButton(\"CLICK ME!\");\n",
        "        startButton = new JButton(\"START GAME\");\n",
        "\n",
        "        // Set up click button\n",
        "        clickButton.addActionListener(new ActionListener() {\n",
        "            public void actionPerformed(ActionEvent e) {\n",
        "                if (gameActive) {\n",
        "                    score++;\n",
        "                    updateDisplay();\n",
        "                }\n",
        "            }\n",
        "        });\n",
        "\n",
        "        // Set up start button\n",
        "        startButton.addActionListener(new ActionListener() {\n",
        "            public void actionPerformed(ActionEvent e) {\n",
        "                startGame();\n",
        "            }\n",
        "        });\n",
        "\n",
        "        // Add components to window\n",
        "        window.add(titleLabel);\n",
        "        window.add(scoreLabel);\n",
        "        window.add(timeLabel);\n",
        "        window.add(statusLabel);\n",
        "        window.add(clickButton);\n",
        "        window.add(startButton);\n",
        "\n",
        "        window.setVisible(true);\n",
        "    }\n",
        "\n",
        "    public static void startGame() {\n",
        "        score = 0;\n",
        "        timeLeft = 10;\n",
        "        gameActive = true;\n",
        "        statusLabel.setText(\"GO! Click as fast as you can!\");\n",
        "        startButton.setEnabled(false);\n",
        "\n",
        "        // Create and start timer\n",
        "        gameTimer = new Timer(1000, new ActionListener() {\n",
        "            public void actionPerformed(ActionEvent e) {\n",
        "                timeLeft--;\n",
        "                updateDisplay();\n",
        "\n",
        "                if (timeLeft <= 0) {\n",
        "                    endGame();\n",
        "                }\n",
        "            }\n",
        "        });\n",
        "        gameTimer.start();\n",
        "        updateDisplay();\n",
        "    }\n",
        "\n",
        "    public static void endGame() {\n",
        "        gameActive = false;\n",
        "        gameTimer.stop();\n",
        "        startButton.setEnabled(true);\n",
        "\n",
        "        // Give feedback based on score\n",
        "        if (score >= 20) {\n",
        "            statusLabel.setText(\"Amazing! You're super fast!\");\n",
        "        } else if (score >= 15) {\n",
        "            statusLabel.setText(\"Great job! Nice clicking!\");\n",
        "        } else if (score >= 10) {\n",
        "            statusLabel.setText(\"Good work! Keep practicing!\");\n",
        "        } else {\n",
        "            statusLabel.setText(\"Try again! Click faster next time!\");\n",
        "        }\n",
        "    }\n",
        "\n",
        "    public static void updateDisplay() {\n",
        "        scoreLabel.setText(\"Score: \" + score);\n",
        "        timeLabel.setText(\"Time: \" + timeLeft);\n",
        "    }\n",
        "}"
      ],
      "metadata": {
        "colab": {
          "base_uri": "https://localhost:8080/"
        },
        "id": "dGfkUrDVSsdL",
        "outputId": "27954c6f-8fac-4cb0-94f2-f828a60bd9f6"
      },
      "execution_count": null,
      "outputs": [
        {
          "output_type": "stream",
          "name": "stdout",
          "text": [
            "Writing ClickGame.java\n"
          ]
        }
      ]
    },
    {
      "cell_type": "markdown",
      "source": [
        "\n",
        "**Challenge**:\n",
        "1. Change the game duration to 15 seconds\n",
        "2. Modify the scoring feedback messages\n",
        "3. Add a \"High Score\" feature that remembers the best score\n",
        "\n",
        "## Create Your Game JAR"
      ],
      "metadata": {
        "id": "rwPIgTWYSmO5"
      }
    },
    {
      "cell_type": "code",
      "source": [
        "!javac ClickGame.java\n",
        "!jar cfe ClickGame.jar ClickGame *.class"
      ],
      "metadata": {
        "id": "irkUHKHzSiXC"
      },
      "execution_count": null,
      "outputs": []
    },
    {
      "cell_type": "markdown",
      "source": [
        "\n",
        "Now you have a complete, playable game that you can share with anyone!"
      ],
      "metadata": {
        "id": "z_cj1MccSecU"
      }
    },
    {
      "cell_type": "markdown",
      "source": [
        "# Packaging & Conclusion\n",
        "\n",
        "\n",
        "Congratulations! In just one hour, you've learned to:\n",
        "- Write Java programs from scratch\n",
        "- Use variables, loops, and conditional logic\n",
        "- Get user input and perform calculations\n",
        "- Organize code with methods\n",
        "- Create interactive GUI applications\n",
        "- Package programs as distributable JAR files\n",
        "\n",
        "You've gone from \"Hello World\" to building a complete game!\n",
        "\n",
        "## The Power of JAR Files\n",
        "\n",
        "JAR files make your Java programs:\n",
        "- **Portable**: Run on any computer with Java installed\n",
        "- **Professional**: Easy to share and distribute\n",
        "- **Complete**: All code bundled into one file\n",
        "\n",
        "## JAR Creation Summary\n",
        "\n",
        "The complete process we've learned:\n",
        "```python\n",
        "# 1. Write your Java code\n",
        "%%writefile MyProgram.java\n",
        "// Your Java code here\n",
        "\n",
        "# 2. Compile to bytecode\n",
        "!javac MyProgram.java\n",
        "\n",
        "# 3. Package into JAR\n",
        "!jar cfe MyProgram.jar MyProgram *.class\n",
        "\n",
        "# 4. Download and share!\n",
        "```\n",
        "\n",
        "## Java's \"Write Once, Run Anywhere\" Promise\n",
        "\n",
        "Your JAR files will run on:\n",
        "- Windows computers\n",
        "- Mac computers  \n",
        "- Linux computers\n",
        "- Any system with Java installed\n",
        "\n",
        "That's the power of the Java Virtual Machine!\n",
        "\n",
        "## What's Next?\n",
        "\n",
        "You now have the foundation to explore:\n",
        "- **Object-Oriented Programming**: Classes, objects, inheritance\n",
        "- **Advanced GUIs**: More Swing components, custom layouts\n",
        "- **File Handling**: Reading and writing files\n",
        "- **Networking**: Building client-server applications\n",
        "- **Web Development**: Spring framework for web apps\n",
        "- **Mobile Development**: Android app development\n",
        "\n",
        "## Try It Out!\n",
        "\n",
        "Create your own personalized program:"
      ],
      "metadata": {
        "id": "vKq4vDjeTfTK"
      }
    },
    {
      "cell_type": "code",
      "source": [
        "%%writefile MyMasterpiece.java\n",
        "import javax.swing.*;\n",
        "import java.awt.*;\n",
        "import java.awt.event.*;\n",
        "\n",
        "public class MyMasterpiece {\n",
        "    public static void main(String[] args) {\n",
        "        JFrame window = new JFrame(\"My Java Masterpiece\");\n",
        "        window.setSize(500, 300);\n",
        "        window.setDefaultCloseOperation(JFrame.EXIT_ON_CLOSE);\n",
        "        window.setLayout(new FlowLayout());\n",
        "\n",
        "        JLabel title = new JLabel(\"I learned Java programming!\");\n",
        "        JLabel subtitle = new JLabel(\"This is my first GUI application.\");\n",
        "\n",
        "        JButton actionButton = new JButton(\"Click to see my message!\");\n",
        "        JLabel messageLabel = new JLabel(\"\");\n",
        "\n",
        "        actionButton.addActionListener(new ActionListener() {\n",
        "            public void actionPerformed(ActionEvent e) {\n",
        "                messageLabel.setText(\"I can write Java programs now!\");\n",
        "            }\n",
        "        });\n",
        "\n",
        "        window.add(title);\n",
        "        window.add(subtitle);\n",
        "        window.add(actionButton);\n",
        "        window.add(messageLabel);\n",
        "\n",
        "        window.setVisible(true);\n",
        "    }\n",
        "}\n"
      ],
      "metadata": {
        "id": "1lOrRHglTusC"
      },
      "execution_count": null,
      "outputs": []
    },
    {
      "cell_type": "markdown",
      "source": [
        "## Final Challenge\n",
        "\n",
        "1. Customize the \"MyMasterpiece\" program with your own:\n",
        "   - Window title\n",
        "   - Personal message\n",
        "   - Button text\n",
        "   - Add a second button with different functionality\n",
        "\n",
        "2. Package it as a JAR:\n"
      ],
      "metadata": {
        "id": "a0PtJbtkTqDm"
      }
    },
    {
      "cell_type": "code",
      "source": [
        "!javac MyMasterpiece.java\n",
        "!jar cfe MyMasterpiece.jar MyMasterpiece *.class"
      ],
      "metadata": {
        "id": "r-PgZlGXTllA"
      },
      "execution_count": null,
      "outputs": []
    },
    {
      "cell_type": "markdown",
      "source": [
        "\n",
        "3. Download your JAR and run it on your computer!\n",
        "\n",
        "## Congratulations!\n",
        "\n",
        "You've started your Java programming journey. You've started to learn the skills to to:\n",
        "- Think like a programmer\n",
        "- Write clean, organized code\n",
        "- Build interactive applications\n",
        "- Share your creations with the world\n",
        "\n",
        "Welcome to the community of Java developers. The possibilities are endless – what will you build next?\n",
        "\n",
        "*Remember: Every expert programmer started exactly where you are now. Keep coding, keep learning, and most importantly, keep having fun with it!*"
      ],
      "metadata": {
        "id": "5PmNhuEXTiMy"
      }
    },
    {
      "cell_type": "markdown",
      "source": [
        "## Review Game: Loop of the Recursive Dragon\n",
        "I wrote a review game for the class. I hope you enjoy it!\n",
        "\n",
        "https://brendanpshea.github.io/LotRD/?set=java_00_hour_of_java.json"
      ],
      "metadata": {
        "id": "PYgF5bwT3Ejt"
      }
    },
    {
      "cell_type": "markdown",
      "source": [
        "## Review Game: Code Jumbler\n",
        "https://brendanpshea.github.io/code_jumbler/?jumble_00.json"
      ],
      "metadata": {
        "id": "Dea9Liu79avw"
      }
    },
    {
      "cell_type": "markdown",
      "source": [
        "# Java Code Glossary - Hour of Java\n",
        "\n",
        "| Code Line | Description |\n",
        "|-----------|-------------|\n",
        "| `public class HelloWorld {` | Declares a public class named HelloWorld - class name must match filename |\n",
        "| `public static void main(String[] args) {` | Main method - entry point where Java programs start execution |\n",
        "| `System.out.println(\"Hello, World!\");` | Prints text to console and moves to next line |\n",
        "| `System.out.print(\"Enter name: \");` | Prints text to console without moving to next line |\n",
        "| `int age = 18;` | Declares an integer variable named age and assigns it the value 18 |\n",
        "| `String name = \"Bojack\";` | Declares a String variable and assigns it text value |\n",
        "| `double price = 19.99;` | Declares a double variable for decimal numbers |\n",
        "| `boolean isRaining = true;` | Declares a boolean variable that stores true or false |\n",
        "| `Scanner input = new Scanner(System.in);` | Creates Scanner object to read user input from keyboard |\n",
        "| `String name = input.nextLine();` | Reads entire line of text input from user |\n",
        "| `int number = input.nextInt();` | Reads integer input from user |\n",
        "| `if (score >= 60) {` | If statement - executes code block if condition is true |\n",
        "| `} else {` | Else clause - executes when if condition is false |\n",
        "| `for (int i = 1; i <= 5; i++) {` | For loop - repeats code block with counter variable |\n",
        "| `while (number <= 10) {` | While loop - repeats code block while condition is true |\n",
        "| `public static void sayHello() {` | Method declaration that performs actions but returns nothing |\n",
        "| `public static int addNumbers(int a, int b) {` | Method that takes parameters and returns an integer value |\n",
        "| `return sum;` | Returns a value from a method back to the caller |\n",
        "| `JFrame window = new JFrame(\"Title\");` | Creates GUI window with specified title |\n",
        "| `!javac HelloWorld.java` | Command to compile Java source code into bytecode |"
      ],
      "metadata": {
        "id": "AJfsmsPL8yLc"
      }
    },
    {
      "cell_type": "code",
      "source": [
        "!java -version"
      ],
      "metadata": {
        "id": "It50n45i41jj",
        "outputId": "4fa96631-7abd-4a9b-e561-2b975fe992a7",
        "colab": {
          "base_uri": "https://localhost:8080/"
        }
      },
      "execution_count": 1,
      "outputs": [
        {
          "output_type": "stream",
          "name": "stdout",
          "text": [
            "openjdk version \"11.0.28\" 2025-07-15\n",
            "OpenJDK Runtime Environment (build 11.0.28+6-post-Ubuntu-1ubuntu122.04.1)\n",
            "OpenJDK 64-Bit Server VM (build 11.0.28+6-post-Ubuntu-1ubuntu122.04.1, mixed mode, sharing)\n"
          ]
        }
      ]
    },
    {
      "cell_type": "code",
      "source": [
        "%%writefile Test.java\n",
        "  public class Test {\n",
        "    public static voic main(String[] args) {\n",
        "      System.out.println(\"Java is working after a fashionn in colab!\");\n",
        "    }\n",
        "\n",
        "  }"
      ],
      "metadata": {
        "id": "ROgjRCHzCg5E",
        "outputId": "50dcc78f-75b3-4738-855a-f876834bcc14",
        "colab": {
          "base_uri": "https://localhost:8080/"
        }
      },
      "execution_count": 3,
      "outputs": [
        {
          "output_type": "stream",
          "name": "stdout",
          "text": [
            "Overwriting Test.java\n"
          ]
        }
      ]
    },
    {
      "cell_type": "code",
      "source": [
        "%%writefile Test.java\n",
        "   public class Test {\n",
        "       public static void main(String[] args) {\n",
        "           System.out.println(\"Java is working in Colab!\");\n",
        "       }\n",
        "   }"
      ],
      "metadata": {
        "id": "IN0DLdQdC6hb"
      },
      "execution_count": null,
      "outputs": []
    },
    {
      "cell_type": "code",
      "source": [
        "%%writefile HelloWorld.java\n",
        "  public class HelloWorld {\n",
        "    public static void main(String[] args) {\n",
        "      System.out.println(\"Hello \" + \"<INSERT NAME HERE>\");\n",
        "    }\n",
        "  }"
      ],
      "metadata": {
        "id": "Wjl5o6CuDQWY",
        "outputId": "791151fc-603c-46b4-f927-99fa41e4db10",
        "colab": {
          "base_uri": "https://localhost:8080/"
        }
      },
      "execution_count": 20,
      "outputs": [
        {
          "output_type": "stream",
          "name": "stdout",
          "text": [
            "Overwriting HelloWorld.java\n"
          ]
        }
      ]
    },
    {
      "cell_type": "code",
      "source": [
        "!javac HelloWorld.java\n",
        "!java HelloWorld"
      ],
      "metadata": {
        "id": "8In8m9ijDmkf",
        "outputId": "e2a4210d-4071-49b4-f3a7-670edf154cf0",
        "colab": {
          "base_uri": "https://localhost:8080/"
        }
      },
      "execution_count": 21,
      "outputs": [
        {
          "output_type": "stream",
          "name": "stdout",
          "text": [
            "Hello <INSERT NAME HERE>\n"
          ]
        }
      ]
    }
  ]
}