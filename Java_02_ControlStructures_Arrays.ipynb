{
  "nbformat": 4,
  "nbformat_minor": 0,
  "metadata": {
    "colab": {
      "provenance": [],
      "include_colab_link": true
    },
    "kernelspec": {
      "name": "python3",
      "display_name": "Python 3"
    },
    "language_info": {
      "name": "python"
    }
  },
  "cells": [
    {
      "cell_type": "markdown",
      "metadata": {
        "id": "view-in-github",
        "colab_type": "text"
      },
      "source": [
        "<a href=\"https://colab.research.google.com/github/thegreekgeek/COMP_2243/blob/main/Java_02_ControlStructures_Arrays.ipynb\" target=\"_parent\"><img src=\"https://colab.research.google.com/assets/colab-badge.svg\" alt=\"Open In Colab\"/></a>"
      ]
    },
    {
      "cell_type": "markdown",
      "source": [
        "# Control Structures and Arrays at Moe's Tavern! 🍻\n",
        "### Brendan Shea, PhD\n",
        "\n",
        "Great job completing your first Java programming lesson! Let's quickly review what you've mastered:\n",
        "\n",
        "**Variables and Data Types:**\n",
        "- `int` - whole numbers (customer ages, drink quantities)\n",
        "- `double` - decimal numbers (prices, tab totals)\n",
        "- `String` - text (customer names, drink orders)\n",
        "- `boolean` - true/false values (is the tavern open?)\n",
        "\n",
        "**Basic Operations:**\n",
        "- Arithmetic with `+`, `-`, `*`, `/`\n",
        "- Storing and using information in variables\n",
        "- Displaying output with `System.out.println()`\n",
        "\n",
        "### Today's Programming Adventure at Moe's 🎯\n",
        "\n",
        "Welcome to **Moe's Tavern** - Springfield's finest (and only) neighborhood bar! Today we're going to make our programs much smarter by learning how to make decisions and handle multiple pieces of information.\n",
        "\n",
        "**By the end of this lesson, you'll be able to:**\n",
        "- Make your programs choose different actions based on conditions\n",
        "- Check customer ages and IDs automatically\n",
        "- Store and manage multiple drink orders at once\n",
        "- Repeat tasks efficiently (like checking all customers)\n",
        "- Build a complete tavern management system\n",
        "\n",
        "### Why These Skills Matter 💡\n",
        "\n",
        "Just like Moe needs to make decisions every day at his tavern, your programs need to be smart enough to:\n",
        "- **Check IDs** - Only serve customers who are 21 or older\n",
        "- **Calculate prices** - Different rates for happy hour vs regular time\n",
        "- **Manage inventory** - Keep track of multiple beers on tap\n",
        "- **Handle rush periods** - Process many customer orders efficiently\n",
        "\n",
        "Think of today's lesson as upgrading from a simple cash register to a smart point-of-sale system that can think and make decisions on its own!\n",
        "\n",
        "**Ready to make Moe's Tavern the smartest bar in Springfield?** Let's get started! 🍺"
      ],
      "metadata": {
        "id": "WgnXj2NrigFY"
      }
    },
    {
      "cell_type": "markdown",
      "source": [
        "## Brendan's Lecture"
      ],
      "metadata": {
        "id": "XkceiAHBojfm"
      }
    },
    {
      "cell_type": "code",
      "source": [
        "from IPython.display import YouTubeVideo\n",
        "YouTubeVideo('2peivqXW-y8', width=800, height=500)"
      ],
      "metadata": {
        "id": "mKcYu1dTolYp"
      },
      "execution_count": null,
      "outputs": []
    },
    {
      "cell_type": "markdown",
      "source": [
        "## Why Do We Need Conditionals? 🤔\n",
        "Understanding Decision-Making in Programming\n",
        "\n",
        "### Real-World Decisions at Moe's Tavern\n",
        "\n",
        "Every day, Moe makes countless decisions to run his tavern effectively:\n",
        "\n",
        "**Customer Service Decisions:**\n",
        "- Is this customer old enough to drink? (21+ required!)\n",
        "- Is this person already a regular customer?\n",
        "- Has someone had too much to drink?\n",
        "\n",
        "**Business Decisions:**\n",
        "- Is it happy hour? (50% off drinks 5-7 PM)\n",
        "- Should we stay open late tonight?\n",
        "- Do we have enough inventory for the weekend rush?\n",
        "\n",
        "**Safety and Legal Decisions:**\n",
        "- Does this customer have proper ID?\n",
        "- Is the tavern at maximum capacity?\n",
        "- Is it time for last call?\n",
        "\n",
        "### Why Programs Need to Make Decisions Too\n",
        "\n",
        "Just like Moe can't treat every customer and situation exactly the same, our programs need to be smart enough to respond differently based on the circumstances.\n",
        "\n",
        "**Without Decision-Making (Dumb Program):**\n",
        "```java\n",
        "System.out.println(\"Welcome to Moe's!\");\n",
        "System.out.println(\"That'll be $5.00 for your beer.\");\n",
        "```\n",
        "*This treats everyone the same - even minors and people without money!*\n",
        "\n",
        "**With Decision-Making (Smart Program):**\n",
        "```java\n",
        "if (customerAge >= 21) {\n",
        "    System.out.println(\"Welcome to Moe's! What'll it be?\");\n",
        "} else {\n",
        "    System.out.println(\"Sorry kid, come back when you're 21.\");\n",
        "}\n",
        "```\n",
        "*Now our program can make appropriate decisions!*\n",
        "\n",
        "### The Power of Conditional Programming\n",
        "\n",
        "Conditionals (if statements) are like giving your program a brain. They allow your code to:\n",
        "- **Respond appropriately** to different situations\n",
        "- **Enforce rules** automatically (like age limits)\n",
        "- **Provide personalized experiences** for different users\n",
        "- **Handle errors gracefully** instead of crashing\n",
        "\n",
        "Think of conditionals as the difference between a vending machine (same response every time) and a smart bartender who adapts to each customer and situation.\n",
        "\n",
        "**Ready to make your programs as smart as Moe?** Let's learn how! 🧠"
      ],
      "metadata": {
        "id": "GbBVztvWimU7"
      }
    },
    {
      "cell_type": "markdown",
      "source": [
        "## Basic if Statements 📋\n",
        "Your First Decision-Making Code\n",
        "\n",
        "### The if Statement Structure\n",
        "\n",
        "An `if` statement is like asking a yes/no question. If the answer is \"yes\" (true), the code inside the braces runs. If the answer is \"no\" (false), the code is skipped.\n",
        "\n",
        "**Basic Syntax:**\n",
        "```java\n",
        "if (condition) {\n",
        "    // Code that runs if condition is true\n",
        "}\n",
        "```\n",
        "\n",
        "### Breaking Down the Parts\n",
        "\n",
        "**1. The Keyword:** `if` tells Java we're making a decision\n",
        "\n",
        "**2. The Condition:** Goes inside parentheses `(condition)`\n",
        "   - Must be something that's either true or false\n",
        "   - Usually involves a boolean variable or comparison\n",
        "\n",
        "**3. The Braces:** `{ }` contain the code that runs if the condition is true\n",
        "\n",
        "**4. The Code:** Instructions that execute only when the condition is met\n",
        "\n",
        "### Simple Moe's Tavern Example\n",
        "\n",
        "Let's say we want to greet regular customers differently:\n",
        "\n",
        "```java\n",
        "boolean isRegular = true;\n",
        "if (isRegular) {\n",
        "    System.out.println(\"Hey there, usual customer! The usual?\");\n",
        "}\n",
        "```\n",
        "\n",
        "**What happens here:**\n",
        "- We have a boolean variable `isRegular` set to `true`\n",
        "- The `if` statement checks: \"Is `isRegular` true?\"\n",
        "- Since it is true, the greeting gets printed\n",
        "- If `isRegular` were `false`, nothing would print\n",
        "\n",
        "### Another Example - Checking Customer Age\n",
        "\n",
        "```java\n",
        "int customerAge = 25;\n",
        "boolean canDrink = customerAge >= 21;\n",
        "\n",
        "if (canDrink) {\n",
        "    System.out.println(\"Welcome to Moe's! What can I get you?\");\n",
        "}\n",
        "```\n",
        "\n",
        "**Step by step:**\n",
        "1. Customer's age is 25\n",
        "2. We check if 25 >= 21 (true)\n",
        "3. `canDrink` becomes `true`\n",
        "4. The welcome message prints\n",
        "\n",
        "### Important Rules for if Statements\n",
        "\n",
        "**The condition must be boolean:**\n",
        "- ✅ `if (isRegular)` - boolean variable\n",
        "- ✅ `if (age >= 21)` - comparison that results in true/false\n",
        "- ❌ `if (customerName)` - String is not true/false\n",
        "- ❌ `if (25)` - numbers are not true/false\n",
        "\n",
        "**Always use parentheses and braces:**\n",
        "- ✅ `if (condition) { code; }`\n",
        "- ❌ `if condition { code; }` - missing parentheses\n",
        "\n",
        "Think of an `if` statement like Moe checking someone's ID - if they pass the test, they get served; if not, the code (serving drinks) doesn't happen!"
      ],
      "metadata": {
        "id": "voCCvEdRip2o"
      }
    },
    {
      "cell_type": "code",
      "source": [
        "# @title\n",
        "import base64\n",
        "import requests\n",
        "from IPython.display import SVG, display\n",
        "\n",
        "def mm(graph: str) -> None:\n",
        "    \"\"\"\n",
        "    Fetch and display a Mermaid diagram as SVG.\n",
        "\n",
        "    Parameters:\n",
        "      graph (str): Mermaid graph definition.\n",
        "    \"\"\"\n",
        "    # 1. Encode the graph to Base64\n",
        "    b64 = base64.urlsafe_b64encode(graph.encode('utf-8')).decode('ascii')\n",
        "    # 2. Construct the SVG URL\n",
        "    url = f'https://mermaid.ink/svg/{b64}'\n",
        "    # 3. Fetch SVG content\n",
        "    svg_data = requests.get(url).text\n",
        "    # 4. Render inline in Jupyter\n",
        "    display(SVG(data=svg_data))\n",
        "\n",
        "\n",
        "mm(\"\"\"\n",
        "graph TD\n",
        "    A[Program Starts] --> B{Check Condition}\n",
        "    B -->|True| C[Execute Code Block]\n",
        "    B -->|False| D[Skip Code Block]\n",
        "    C --> E[Continue Program]\n",
        "    D --> E[Continue Program]\n",
        "\n",
        "    style B fill:#e1f5fe\n",
        "    style C fill:#c8e6c9\n",
        "    style D fill:#ffcdd2\"\"\")"
      ],
      "metadata": {
        "cellView": "form",
        "id": "quZqrllgwC58",
        "outputId": "441a680c-5b7c-470d-9ff3-a45b2e634ad2",
        "colab": {
          "base_uri": "https://localhost:8080/",
          "height": 544
        }
      },
      "execution_count": null,
      "outputs": [
        {
          "output_type": "display_data",
          "data": {
            "text/plain": [
              "<IPython.core.display.SVG object>"
            ],
            "image/svg+xml": "<svg xmlns=\"http://www.w3.org/2000/svg\" xmlns:xlink=\"http://www.w3.org/1999/xlink\" id=\"mermaid-svg\" width=\"100%\" class=\"flowchart\" style=\"max-width: 447.46875px;\" viewBox=\"0 0 447.46875 523.40625\" role=\"graphics-document document\" aria-roledescription=\"flowchart-v2\"><style xmlns=\"http://www.w3.org/1999/xhtml\">@import url(&quot;https://cdnjs.cloudflare.com/ajax/libs/font-awesome/6.7.2/css/all.min.css&quot;);</style><style>#mermaid-svg{font-family:&quot;trebuchet ms&quot;,verdana,arial,sans-serif;font-size:16px;fill:#333;}@keyframes edge-animation-frame{from{stroke-dashoffset:0;}}@keyframes dash{to{stroke-dashoffset:0;}}#mermaid-svg .edge-animation-slow{stroke-dasharray:9,5!important;stroke-dashoffset:900;animation:dash 50s linear infinite;stroke-linecap:round;}#mermaid-svg .edge-animation-fast{stroke-dasharray:9,5!important;stroke-dashoffset:900;animation:dash 20s linear infinite;stroke-linecap:round;}#mermaid-svg .error-icon{fill:#552222;}#mermaid-svg .error-text{fill:#552222;stroke:#552222;}#mermaid-svg .edge-thickness-normal{stroke-width:1px;}#mermaid-svg .edge-thickness-thick{stroke-width:3.5px;}#mermaid-svg .edge-pattern-solid{stroke-dasharray:0;}#mermaid-svg .edge-thickness-invisible{stroke-width:0;fill:none;}#mermaid-svg .edge-pattern-dashed{stroke-dasharray:3;}#mermaid-svg .edge-pattern-dotted{stroke-dasharray:2;}#mermaid-svg .marker{fill:#333333;stroke:#333333;}#mermaid-svg .marker.cross{stroke:#333333;}#mermaid-svg svg{font-family:&quot;trebuchet ms&quot;,verdana,arial,sans-serif;font-size:16px;}#mermaid-svg p{margin:0;}#mermaid-svg .label{font-family:&quot;trebuchet ms&quot;,verdana,arial,sans-serif;color:#333;}#mermaid-svg .cluster-label text{fill:#333;}#mermaid-svg .cluster-label span{color:#333;}#mermaid-svg .cluster-label span p{background-color:transparent;}#mermaid-svg .label text,#mermaid-svg span{fill:#333;color:#333;}#mermaid-svg .node rect,#mermaid-svg .node circle,#mermaid-svg .node ellipse,#mermaid-svg .node polygon,#mermaid-svg .node path{fill:#ECECFF;stroke:#9370DB;stroke-width:1px;}#mermaid-svg .rough-node .label text,#mermaid-svg .node .label text,#mermaid-svg .image-shape .label,#mermaid-svg .icon-shape .label{text-anchor:middle;}#mermaid-svg .node .katex path{fill:#000;stroke:#000;stroke-width:1px;}#mermaid-svg .rough-node .label,#mermaid-svg .node .label,#mermaid-svg .image-shape .label,#mermaid-svg .icon-shape .label{text-align:center;}#mermaid-svg .node.clickable{cursor:pointer;}#mermaid-svg .root .anchor path{fill:#333333!important;stroke-width:0;stroke:#333333;}#mermaid-svg .arrowheadPath{fill:#333333;}#mermaid-svg .edgePath .path{stroke:#333333;stroke-width:2.0px;}#mermaid-svg .flowchart-link{stroke:#333333;fill:none;}#mermaid-svg .edgeLabel{background-color:rgba(232,232,232, 0.8);text-align:center;}#mermaid-svg .edgeLabel p{background-color:rgba(232,232,232, 0.8);}#mermaid-svg .edgeLabel rect{opacity:0.5;background-color:rgba(232,232,232, 0.8);fill:rgba(232,232,232, 0.8);}#mermaid-svg .labelBkg{background-color:rgba(232, 232, 232, 0.5);}#mermaid-svg .cluster rect{fill:#ffffde;stroke:#aaaa33;stroke-width:1px;}#mermaid-svg .cluster text{fill:#333;}#mermaid-svg .cluster span{color:#333;}#mermaid-svg div.mermaidTooltip{position:absolute;text-align:center;max-width:200px;padding:2px;font-family:&quot;trebuchet ms&quot;,verdana,arial,sans-serif;font-size:12px;background:hsl(80, 100%, 96.2745098039%);border:1px solid #aaaa33;border-radius:2px;pointer-events:none;z-index:100;}#mermaid-svg .flowchartTitleText{text-anchor:middle;font-size:18px;fill:#333;}#mermaid-svg rect.text{fill:none;stroke-width:0;}#mermaid-svg .icon-shape,#mermaid-svg .image-shape{background-color:rgba(232,232,232, 0.8);text-align:center;}#mermaid-svg .icon-shape p,#mermaid-svg .image-shape p{background-color:rgba(232,232,232, 0.8);padding:2px;}#mermaid-svg .icon-shape rect,#mermaid-svg .image-shape rect{opacity:0.5;background-color:rgba(232,232,232, 0.8);fill:rgba(232,232,232, 0.8);}#mermaid-svg .label-icon{display:inline-block;height:1em;overflow:visible;vertical-align:-0.125em;}#mermaid-svg .node .label-icon path{fill:currentColor;stroke:revert;stroke-width:revert;}#mermaid-svg :root{--mermaid-font-family:&quot;trebuchet ms&quot;,verdana,arial,sans-serif;}</style><g><marker id=\"mermaid-svg_flowchart-v2-pointEnd\" class=\"marker flowchart-v2\" viewBox=\"0 0 10 10\" refX=\"5\" refY=\"5\" markerUnits=\"userSpaceOnUse\" markerWidth=\"8\" markerHeight=\"8\" orient=\"auto\"><path d=\"M 0 0 L 10 5 L 0 10 z\" class=\"arrowMarkerPath\" style=\"stroke-width: 1; stroke-dasharray: 1, 0;\"/></marker><marker id=\"mermaid-svg_flowchart-v2-pointStart\" class=\"marker flowchart-v2\" viewBox=\"0 0 10 10\" refX=\"4.5\" refY=\"5\" markerUnits=\"userSpaceOnUse\" markerWidth=\"8\" markerHeight=\"8\" orient=\"auto\"><path d=\"M 0 5 L 10 10 L 10 0 z\" class=\"arrowMarkerPath\" style=\"stroke-width: 1; stroke-dasharray: 1, 0;\"/></marker><marker id=\"mermaid-svg_flowchart-v2-circleEnd\" class=\"marker flowchart-v2\" viewBox=\"0 0 10 10\" refX=\"11\" refY=\"5\" markerUnits=\"userSpaceOnUse\" markerWidth=\"11\" markerHeight=\"11\" orient=\"auto\"><circle cx=\"5\" cy=\"5\" r=\"5\" class=\"arrowMarkerPath\" style=\"stroke-width: 1; stroke-dasharray: 1, 0;\"/></marker><marker id=\"mermaid-svg_flowchart-v2-circleStart\" class=\"marker flowchart-v2\" viewBox=\"0 0 10 10\" refX=\"-1\" refY=\"5\" markerUnits=\"userSpaceOnUse\" markerWidth=\"11\" markerHeight=\"11\" orient=\"auto\"><circle cx=\"5\" cy=\"5\" r=\"5\" class=\"arrowMarkerPath\" style=\"stroke-width: 1; stroke-dasharray: 1, 0;\"/></marker><marker id=\"mermaid-svg_flowchart-v2-crossEnd\" class=\"marker cross flowchart-v2\" viewBox=\"0 0 11 11\" refX=\"12\" refY=\"5.2\" markerUnits=\"userSpaceOnUse\" markerWidth=\"11\" markerHeight=\"11\" orient=\"auto\"><path d=\"M 1,1 l 9,9 M 10,1 l -9,9\" class=\"arrowMarkerPath\" style=\"stroke-width: 2; stroke-dasharray: 1, 0;\"/></marker><marker id=\"mermaid-svg_flowchart-v2-crossStart\" class=\"marker cross flowchart-v2\" viewBox=\"0 0 11 11\" refX=\"-1\" refY=\"5.2\" markerUnits=\"userSpaceOnUse\" markerWidth=\"11\" markerHeight=\"11\" orient=\"auto\"><path d=\"M 1,1 l 9,9 M 10,1 l -9,9\" class=\"arrowMarkerPath\" style=\"stroke-width: 2; stroke-dasharray: 1, 0;\"/></marker><g class=\"root\"><g class=\"clusters\"/><g class=\"edgePaths\"><path d=\"M230.406,62L230.406,66.167C230.406,70.333,230.406,78.667,230.477,86.417C230.547,94.167,230.687,101.334,230.758,104.917L230.828,108.501\" id=\"L_A_B_0\" class=\" edge-thickness-normal edge-pattern-solid edge-thickness-normal edge-pattern-solid flowchart-link\" style=\"\" marker-end=\"url(#mermaid-svg_flowchart-v2-pointEnd)\"/><path d=\"M188.466,241.466L175.395,254.623C162.324,267.78,136.182,294.093,123.11,312.75C110.039,331.406,110.039,342.406,110.039,347.906L110.039,353.406\" id=\"L_B_C_0\" class=\" edge-thickness-normal edge-pattern-solid edge-thickness-normal edge-pattern-solid flowchart-link\" style=\"\" marker-end=\"url(#mermaid-svg_flowchart-v2-pointEnd)\"/><path d=\"M273.346,241.466L286.251,254.623C299.155,267.78,324.964,294.093,337.869,312.75C350.773,331.406,350.773,342.406,350.773,347.906L350.773,353.406\" id=\"L_B_D_0\" class=\" edge-thickness-normal edge-pattern-solid edge-thickness-normal edge-pattern-solid flowchart-link\" style=\"\" marker-end=\"url(#mermaid-svg_flowchart-v2-pointEnd)\"/><path d=\"M110.039,411.406L110.039,415.573C110.039,419.74,110.039,428.073,119.072,436.142C128.105,444.211,146.17,452.015,155.203,455.918L164.236,459.82\" id=\"L_C_E_0\" class=\" edge-thickness-normal edge-pattern-solid edge-thickness-normal edge-pattern-solid flowchart-link\" style=\"\" marker-end=\"url(#mermaid-svg_flowchart-v2-pointEnd)\"/><path d=\"M350.773,411.406L350.773,415.573C350.773,419.74,350.773,428.073,341.741,436.142C332.708,444.211,314.642,452.015,305.609,455.918L296.577,459.82\" id=\"L_D_E_0\" class=\" edge-thickness-normal edge-pattern-solid edge-thickness-normal edge-pattern-solid flowchart-link\" style=\"\" marker-end=\"url(#mermaid-svg_flowchart-v2-pointEnd)\"/></g><g class=\"edgeLabels\"><g class=\"edgeLabel\"><g class=\"label\" transform=\"translate(0, 0)\"><foreignObject width=\"0\" height=\"0\"><div xmlns=\"http://www.w3.org/1999/xhtml\" class=\"labelBkg\" style=\"display: table-cell; white-space: nowrap; line-height: 1.5; max-width: 200px; text-align: center;\"><span class=\"edgeLabel \"/></div></foreignObject></g></g><g class=\"edgeLabel\" transform=\"translate(110.0390625, 320.40625)\"><g class=\"label\" transform=\"translate(-16.15625, -12)\"><foreignObject width=\"32.3125\" height=\"24\"><div xmlns=\"http://www.w3.org/1999/xhtml\" class=\"labelBkg\" style=\"display: table-cell; white-space: nowrap; line-height: 1.5; max-width: 200px; text-align: center;\"><span class=\"edgeLabel \"><p>True</p></span></div></foreignObject></g></g><g class=\"edgeLabel\" transform=\"translate(350.7734375, 320.40625)\"><g class=\"label\" transform=\"translate(-19.5625, -12)\"><foreignObject width=\"39.125\" height=\"24\"><div xmlns=\"http://www.w3.org/1999/xhtml\" class=\"labelBkg\" style=\"display: table-cell; white-space: nowrap; line-height: 1.5; max-width: 200px; text-align: center;\"><span class=\"edgeLabel \"><p>False</p></span></div></foreignObject></g></g><g class=\"edgeLabel\"><g class=\"label\" transform=\"translate(0, 0)\"><foreignObject width=\"0\" height=\"0\"><div xmlns=\"http://www.w3.org/1999/xhtml\" class=\"labelBkg\" style=\"display: table-cell; white-space: nowrap; line-height: 1.5; max-width: 200px; text-align: center;\"><span class=\"edgeLabel \"/></div></foreignObject></g></g><g class=\"edgeLabel\"><g class=\"label\" transform=\"translate(0, 0)\"><foreignObject width=\"0\" height=\"0\"><div xmlns=\"http://www.w3.org/1999/xhtml\" class=\"labelBkg\" style=\"display: table-cell; white-space: nowrap; line-height: 1.5; max-width: 200px; text-align: center;\"><span class=\"edgeLabel \"/></div></foreignObject></g></g></g><g class=\"nodes\"><g class=\"node default  \" id=\"flowchart-A-0\" transform=\"translate(230.40625, 35)\"><rect class=\"basic label-container\" style=\"\" x=\"-83.796875\" y=\"-27\" width=\"167.59375\" height=\"54\"/><g class=\"label\" style=\"\" transform=\"translate(-53.796875, -12)\"><rect/><foreignObject width=\"107.59375\" height=\"24\"><div xmlns=\"http://www.w3.org/1999/xhtml\" style=\"display: table-cell; white-space: nowrap; line-height: 1.5; max-width: 200px; text-align: center;\"><span class=\"nodeLabel \"><p>Program Starts</p></span></div></foreignObject></g></g><g class=\"node default  \" id=\"flowchart-B-1\" transform=\"translate(230.40625, 197.703125)\"><polygon points=\"85.703125,0 171.40625,-85.703125 85.703125,-171.40625 0,-85.703125\" class=\"label-container\" transform=\"translate(-85.203125, 85.703125)\" style=\"fill:#e1f5fe !important\"/><g class=\"label\" style=\"\" transform=\"translate(-58.703125, -12)\"><rect/><foreignObject width=\"117.40625\" height=\"24\"><div xmlns=\"http://www.w3.org/1999/xhtml\" style=\"display: table-cell; white-space: nowrap; line-height: 1.5; max-width: 200px; text-align: center;\"><span class=\"nodeLabel \"><p>Check Condition</p></span></div></foreignObject></g></g><g class=\"node default  \" id=\"flowchart-C-3\" transform=\"translate(110.0390625, 384.40625)\"><rect class=\"basic label-container\" style=\"fill:#c8e6c9 !important\" x=\"-102.0390625\" y=\"-27\" width=\"204.078125\" height=\"54\"/><g class=\"label\" style=\"\" transform=\"translate(-72.0390625, -12)\"><rect/><foreignObject width=\"144.078125\" height=\"24\"><div xmlns=\"http://www.w3.org/1999/xhtml\" style=\"display: table-cell; white-space: nowrap; line-height: 1.5; max-width: 200px; text-align: center;\"><span class=\"nodeLabel \"><p>Execute Code Block</p></span></div></foreignObject></g></g><g class=\"node default  \" id=\"flowchart-D-5\" transform=\"translate(350.7734375, 384.40625)\"><rect class=\"basic label-container\" style=\"fill:#ffcdd2 !important\" x=\"-88.6953125\" y=\"-27\" width=\"177.390625\" height=\"54\"/><g class=\"label\" style=\"\" transform=\"translate(-58.6953125, -12)\"><rect/><foreignObject width=\"117.390625\" height=\"24\"><div xmlns=\"http://www.w3.org/1999/xhtml\" style=\"display: table-cell; white-space: nowrap; line-height: 1.5; max-width: 200px; text-align: center;\"><span class=\"nodeLabel \"><p>Skip Code Block</p></span></div></foreignObject></g></g><g class=\"node default  \" id=\"flowchart-E-7\" transform=\"translate(230.40625, 488.40625)\"><rect class=\"basic label-container\" style=\"\" x=\"-94.921875\" y=\"-27\" width=\"189.84375\" height=\"54\"/><g class=\"label\" style=\"\" transform=\"translate(-64.921875, -12)\"><rect/><foreignObject width=\"129.84375\" height=\"24\"><div xmlns=\"http://www.w3.org/1999/xhtml\" style=\"display: table-cell; white-space: nowrap; line-height: 1.5; max-width: 200px; text-align: center;\"><span class=\"nodeLabel \"><p>Continue Program</p></span></div></foreignObject></g></g></g></g></g></svg>"
          },
          "metadata": {}
        }
      ]
    },
    {
      "cell_type": "markdown",
      "source": [
        "## if-else Statements ⚖️\n",
        "Handling Multiple Possibilities\n",
        "\n",
        "### The Problem with Basic if Statements\n",
        "\n",
        "What happens when we want our program to do something different when the condition is false? With just an `if` statement, nothing happens:\n",
        "\n",
        "```java\n",
        "boolean hasID = false;\n",
        "if (hasID) {\n",
        "    System.out.println(\"Welcome to Moe's!\");\n",
        "}\n",
        "// If hasID is false, nothing prints - awkward silence!\n",
        "```\n",
        "\n",
        "### Enter the if-else Statement\n",
        "\n",
        "The `if-else` statement lets us handle both possibilities - what to do when the condition is true AND what to do when it's false.\n",
        "\n",
        "**Syntax:**\n",
        "```java\n",
        "if (condition) {\n",
        "    // Code that runs if condition is true\n",
        "} else {\n",
        "    // Code that runs if condition is false\n",
        "}\n",
        "```\n",
        "\n",
        "### Age Checking Example\n",
        "\n",
        "Let's create a proper ID checking system for Moe's:\n",
        "\n",
        "```java\n",
        "int customerAge = 19;\n",
        "\n",
        "if (customerAge >= 21) {\n",
        "    System.out.println(\"Welcome to Moe's! What'll it be?\");\n",
        "} else {\n",
        "    System.out.println(\"Sorry kid, come back in a few years.\");\n",
        "}\n",
        "```\n",
        "\n",
        "**What happens:**\n",
        "- Customer is 19 years old\n",
        "- 19 >= 21? **False**\n",
        "- Skip the first block, run the `else` block\n",
        "- Prints: \"Sorry kid, come back in a few years.\"\n",
        "\n",
        "### But What About More Than Two Options?\n",
        "\n",
        "Real life often has more than just two possibilities. What if we want to handle:\n",
        "- Kids under 18: \"No entry\"\n",
        "- Adults 18-20: \"Welcome, but no alcohol\"\n",
        "- Adults 21+: \"Welcome, full menu available\"\n",
        "\n",
        "This is where `else if` comes to the rescue!\n",
        "\n",
        "### The else if Statement\n",
        "\n",
        "The `else if` statement allows us to chain multiple conditions together, checking them in order until one is true.\n",
        "\n",
        "**Syntax:**\n",
        "```java\n",
        "if (condition1) {\n",
        "    // Code for condition1\n",
        "} else if (condition2) {\n",
        "    // Code for condition2\n",
        "} else if (condition3) {\n",
        "    // Code for condition3\n",
        "} else {\n",
        "    // Code if none of the above are true\n",
        "}\n",
        "```\n",
        "\n",
        "### Enhanced Age Checking with else if\n",
        "\n",
        "```java\n",
        "int customerAge = 19;\n",
        "\n",
        "if (customerAge < 18) {\n",
        "    System.out.println(\"Sorry, you must be 18 to enter.\");\n",
        "} else if (customerAge >= 18 && customerAge < 21) {\n",
        "    System.out.println(\"Welcome! Food and soft drinks only.\");\n",
        "} else if (customerAge >= 21) {\n",
        "    System.out.println(\"Welcome to Moe's! Full menu available!\");\n",
        "}\n",
        "```\n",
        "\n",
        "**What happens:**\n",
        "- Customer is 19 years old\n",
        "- 19 < 18? **False** - skip first block\n",
        "- 19 >= 18 && 19 < 21? **True** - run this block\n",
        "- Prints: \"Welcome! Food and soft drinks only.\"\n",
        "- Remaining conditions are skipped\n",
        "\n",
        "### Member Pricing with Multiple Tiers\n",
        "\n",
        "```java\n",
        "String membershipLevel = \"Gold\";\n",
        "double beerPrice = 5.00;\n",
        "\n",
        "if (membershipLevel.equals(\"Platinum\")) {\n",
        "    beerPrice = beerPrice * 0.5;  // 50% discount\n",
        "    System.out.println(\"Platinum member price: $\" + beerPrice);\n",
        "} else if (membershipLevel.equals(\"Gold\")) {\n",
        "    beerPrice = beerPrice * 0.7;  // 30% discount\n",
        "    System.out.println(\"Gold member price: $\" + beerPrice);\n",
        "} else if (membershipLevel.equals(\"Silver\")) {\n",
        "    beerPrice = beerPrice * 0.9;  // 10% discount\n",
        "    System.out.println(\"Silver member price: $\" + beerPrice);\n",
        "} else {\n",
        "    System.out.println(\"Regular price: $\" + beerPrice);\n",
        "}\n",
        "```\n",
        "\n",
        "**Result:** \"Gold member price: $3.5\"\n",
        "\n",
        "\n",
        "### Key Points About if-else-if Chains\n",
        "\n",
        "**Order matters:**\n",
        "- Conditions are checked from top to bottom\n",
        "- Once a condition is true, the rest are skipped\n",
        "- Put more specific conditions first\n",
        "\n",
        "**Exactly one block runs:**\n",
        "- The first condition that evaluates to true\n",
        "- If none are true, the `else` block runs (if present)\n",
        "- If no `else` block exists and no conditions are true, nothing happens\n",
        "\n",
        "**The `else` is optional:**\n",
        "- You can have `if` followed by multiple `else if` statements\n",
        "- The final `else` catches anything that doesn't match the other conditions\n",
        "\n",
        "**Think of it like a decision tree:**\n",
        "Your program works down the list of possibilities, taking the first exit that applies. Once it finds a match, it's done - no need to check the rest!\n",
        "\n",
        "**Common mistake to avoid:**\n",
        "```java\n",
        "// WRONG - overlapping conditions\n",
        "if (score >= 60) {\n",
        "    grade = 'D';\n",
        "} else if (score >= 70) {  // This will never run!\n",
        "    grade = 'C';\n",
        "}\n",
        "\n",
        "// CORRECT - specific to general\n",
        "if (score >= 90) {\n",
        "    grade = 'A';\n",
        "} else if (score >= 80) {\n",
        "    grade = 'B';\n",
        "} else if (score >= 70) {\n",
        "    grade = 'C';\n",
        "} else if (score >= 60) {\n",
        "    grade = 'D';\n",
        "}\n",
        "```"
      ],
      "metadata": {
        "id": "CnpZwzBfizKK"
      }
    },
    {
      "cell_type": "code",
      "source": [
        "# @title\n",
        "mm(\"\"\"\n",
        "graph TD\n",
        "    K[Program Starts] --> L{First Condition}\n",
        "    L -->|True| M[Execute Block 1]\n",
        "    L -->|False| N{Second Condition}\n",
        "    N -->|True| O[Execute Block 2]\n",
        "    N -->|False| P{Third Condition}\n",
        "    P -->|True| Q[Execute Block 3]\n",
        "    P -->|False| R[Execute else Block]\n",
        "    M --> S[Continue]\n",
        "    O --> S\n",
        "    Q --> S\n",
        "    R --> S\n",
        "\n",
        "\n",
        "\n",
        "    style L fill:#e1f5fe\n",
        "    style N fill:#e1f5fe\n",
        "    style P fill:#e1f5fe\"\"\")"
      ],
      "metadata": {
        "cellView": "form",
        "id": "CAgecZ7kwYXj",
        "outputId": "584e0b1c-1021-4683-c463-c44f5b2b596e",
        "colab": {
          "base_uri": "https://localhost:8080/",
          "height": 1000
        }
      },
      "execution_count": null,
      "outputs": [
        {
          "output_type": "display_data",
          "data": {
            "text/plain": [
              "<IPython.core.display.SVG object>"
            ],
            "image/svg+xml": "<svg xmlns=\"http://www.w3.org/2000/svg\" xmlns:xlink=\"http://www.w3.org/1999/xlink\" id=\"mermaid-svg\" width=\"100%\" class=\"flowchart\" style=\"max-width: 885.390625px;\" viewBox=\"0 0 885.390625 999.96875\" role=\"graphics-document document\" aria-roledescription=\"flowchart-v2\"><style xmlns=\"http://www.w3.org/1999/xhtml\">@import url(&quot;https://cdnjs.cloudflare.com/ajax/libs/font-awesome/6.7.2/css/all.min.css&quot;);</style><style>#mermaid-svg{font-family:&quot;trebuchet ms&quot;,verdana,arial,sans-serif;font-size:16px;fill:#333;}@keyframes edge-animation-frame{from{stroke-dashoffset:0;}}@keyframes dash{to{stroke-dashoffset:0;}}#mermaid-svg .edge-animation-slow{stroke-dasharray:9,5!important;stroke-dashoffset:900;animation:dash 50s linear infinite;stroke-linecap:round;}#mermaid-svg .edge-animation-fast{stroke-dasharray:9,5!important;stroke-dashoffset:900;animation:dash 20s linear infinite;stroke-linecap:round;}#mermaid-svg .error-icon{fill:#552222;}#mermaid-svg .error-text{fill:#552222;stroke:#552222;}#mermaid-svg .edge-thickness-normal{stroke-width:1px;}#mermaid-svg .edge-thickness-thick{stroke-width:3.5px;}#mermaid-svg .edge-pattern-solid{stroke-dasharray:0;}#mermaid-svg .edge-thickness-invisible{stroke-width:0;fill:none;}#mermaid-svg .edge-pattern-dashed{stroke-dasharray:3;}#mermaid-svg .edge-pattern-dotted{stroke-dasharray:2;}#mermaid-svg .marker{fill:#333333;stroke:#333333;}#mermaid-svg .marker.cross{stroke:#333333;}#mermaid-svg svg{font-family:&quot;trebuchet ms&quot;,verdana,arial,sans-serif;font-size:16px;}#mermaid-svg p{margin:0;}#mermaid-svg .label{font-family:&quot;trebuchet ms&quot;,verdana,arial,sans-serif;color:#333;}#mermaid-svg .cluster-label text{fill:#333;}#mermaid-svg .cluster-label span{color:#333;}#mermaid-svg .cluster-label span p{background-color:transparent;}#mermaid-svg .label text,#mermaid-svg span{fill:#333;color:#333;}#mermaid-svg .node rect,#mermaid-svg .node circle,#mermaid-svg .node ellipse,#mermaid-svg .node polygon,#mermaid-svg .node path{fill:#ECECFF;stroke:#9370DB;stroke-width:1px;}#mermaid-svg .rough-node .label text,#mermaid-svg .node .label text,#mermaid-svg .image-shape .label,#mermaid-svg .icon-shape .label{text-anchor:middle;}#mermaid-svg .node .katex path{fill:#000;stroke:#000;stroke-width:1px;}#mermaid-svg .rough-node .label,#mermaid-svg .node .label,#mermaid-svg .image-shape .label,#mermaid-svg .icon-shape .label{text-align:center;}#mermaid-svg .node.clickable{cursor:pointer;}#mermaid-svg .root .anchor path{fill:#333333!important;stroke-width:0;stroke:#333333;}#mermaid-svg .arrowheadPath{fill:#333333;}#mermaid-svg .edgePath .path{stroke:#333333;stroke-width:2.0px;}#mermaid-svg .flowchart-link{stroke:#333333;fill:none;}#mermaid-svg .edgeLabel{background-color:rgba(232,232,232, 0.8);text-align:center;}#mermaid-svg .edgeLabel p{background-color:rgba(232,232,232, 0.8);}#mermaid-svg .edgeLabel rect{opacity:0.5;background-color:rgba(232,232,232, 0.8);fill:rgba(232,232,232, 0.8);}#mermaid-svg .labelBkg{background-color:rgba(232, 232, 232, 0.5);}#mermaid-svg .cluster rect{fill:#ffffde;stroke:#aaaa33;stroke-width:1px;}#mermaid-svg .cluster text{fill:#333;}#mermaid-svg .cluster span{color:#333;}#mermaid-svg div.mermaidTooltip{position:absolute;text-align:center;max-width:200px;padding:2px;font-family:&quot;trebuchet ms&quot;,verdana,arial,sans-serif;font-size:12px;background:hsl(80, 100%, 96.2745098039%);border:1px solid #aaaa33;border-radius:2px;pointer-events:none;z-index:100;}#mermaid-svg .flowchartTitleText{text-anchor:middle;font-size:18px;fill:#333;}#mermaid-svg rect.text{fill:none;stroke-width:0;}#mermaid-svg .icon-shape,#mermaid-svg .image-shape{background-color:rgba(232,232,232, 0.8);text-align:center;}#mermaid-svg .icon-shape p,#mermaid-svg .image-shape p{background-color:rgba(232,232,232, 0.8);padding:2px;}#mermaid-svg .icon-shape rect,#mermaid-svg .image-shape rect{opacity:0.5;background-color:rgba(232,232,232, 0.8);fill:rgba(232,232,232, 0.8);}#mermaid-svg .label-icon{display:inline-block;height:1em;overflow:visible;vertical-align:-0.125em;}#mermaid-svg .node .label-icon path{fill:currentColor;stroke:revert;stroke-width:revert;}#mermaid-svg :root{--mermaid-font-family:&quot;trebuchet ms&quot;,verdana,arial,sans-serif;}</style><g><marker id=\"mermaid-svg_flowchart-v2-pointEnd\" class=\"marker flowchart-v2\" viewBox=\"0 0 10 10\" refX=\"5\" refY=\"5\" markerUnits=\"userSpaceOnUse\" markerWidth=\"8\" markerHeight=\"8\" orient=\"auto\"><path d=\"M 0 0 L 10 5 L 0 10 z\" class=\"arrowMarkerPath\" style=\"stroke-width: 1; stroke-dasharray: 1, 0;\"/></marker><marker id=\"mermaid-svg_flowchart-v2-pointStart\" class=\"marker flowchart-v2\" viewBox=\"0 0 10 10\" refX=\"4.5\" refY=\"5\" markerUnits=\"userSpaceOnUse\" markerWidth=\"8\" markerHeight=\"8\" orient=\"auto\"><path d=\"M 0 5 L 10 10 L 10 0 z\" class=\"arrowMarkerPath\" style=\"stroke-width: 1; stroke-dasharray: 1, 0;\"/></marker><marker id=\"mermaid-svg_flowchart-v2-circleEnd\" class=\"marker flowchart-v2\" viewBox=\"0 0 10 10\" refX=\"11\" refY=\"5\" markerUnits=\"userSpaceOnUse\" markerWidth=\"11\" markerHeight=\"11\" orient=\"auto\"><circle cx=\"5\" cy=\"5\" r=\"5\" class=\"arrowMarkerPath\" style=\"stroke-width: 1; stroke-dasharray: 1, 0;\"/></marker><marker id=\"mermaid-svg_flowchart-v2-circleStart\" class=\"marker flowchart-v2\" viewBox=\"0 0 10 10\" refX=\"-1\" refY=\"5\" markerUnits=\"userSpaceOnUse\" markerWidth=\"11\" markerHeight=\"11\" orient=\"auto\"><circle cx=\"5\" cy=\"5\" r=\"5\" class=\"arrowMarkerPath\" style=\"stroke-width: 1; stroke-dasharray: 1, 0;\"/></marker><marker id=\"mermaid-svg_flowchart-v2-crossEnd\" class=\"marker cross flowchart-v2\" viewBox=\"0 0 11 11\" refX=\"12\" refY=\"5.2\" markerUnits=\"userSpaceOnUse\" markerWidth=\"11\" markerHeight=\"11\" orient=\"auto\"><path d=\"M 1,1 l 9,9 M 10,1 l -9,9\" class=\"arrowMarkerPath\" style=\"stroke-width: 2; stroke-dasharray: 1, 0;\"/></marker><marker id=\"mermaid-svg_flowchart-v2-crossStart\" class=\"marker cross flowchart-v2\" viewBox=\"0 0 11 11\" refX=\"-1\" refY=\"5.2\" markerUnits=\"userSpaceOnUse\" markerWidth=\"11\" markerHeight=\"11\" orient=\"auto\"><path d=\"M 1,1 l 9,9 M 10,1 l -9,9\" class=\"arrowMarkerPath\" style=\"stroke-width: 2; stroke-dasharray: 1, 0;\"/></marker><g class=\"root\"><g class=\"clusters\"/><g class=\"edgePaths\"><path d=\"M437.582,62L437.582,66.167C437.582,70.333,437.582,78.667,437.652,86.417C437.723,94.167,437.863,101.334,437.933,104.917L438.004,108.501\" id=\"L_K_L_0\" class=\" edge-thickness-normal edge-pattern-solid edge-thickness-normal edge-pattern-solid flowchart-link\" style=\"\" marker-end=\"url(#mermaid-svg_flowchart-v2-pointEnd)\"/><path d=\"M379.342,210.917L332.013,226.79C284.684,242.663,190.026,274.41,142.696,311.476C95.367,348.542,95.367,390.927,95.367,433.313C95.367,475.698,95.367,518.083,95.367,558.984C95.367,599.885,95.367,639.302,95.367,678.719C95.367,718.135,95.367,757.552,95.367,782.76C95.367,807.969,95.367,818.969,95.367,824.469L95.367,829.969\" id=\"L_L_M_0\" class=\" edge-thickness-normal edge-pattern-solid edge-thickness-normal edge-pattern-solid flowchart-link\" style=\"\" marker-end=\"url(#mermaid-svg_flowchart-v2-pointEnd)\"/><path d=\"M476.818,230.921L489.006,243.46C501.195,255.999,525.572,281.078,537.835,299.2C550.098,317.323,550.247,328.49,550.321,334.073L550.396,339.657\" id=\"L_L_N_0\" class=\" edge-thickness-normal edge-pattern-solid edge-thickness-normal edge-pattern-solid flowchart-link\" style=\"\" marker-end=\"url(#mermaid-svg_flowchart-v2-pointEnd)\"/><path d=\"M492.404,465.924L463.687,481.681C434.97,497.439,377.536,528.954,348.819,564.42C320.102,599.885,320.102,639.302,320.102,678.719C320.102,718.135,320.102,757.552,320.102,782.76C320.102,807.969,320.102,818.969,320.102,824.469L320.102,829.969\" id=\"L_N_O_0\" class=\" edge-thickness-normal edge-pattern-solid edge-thickness-normal edge-pattern-solid flowchart-link\" style=\"\" marker-end=\"url(#mermaid-svg_flowchart-v2-pointEnd)\"/><path d=\"M592.744,481.674L604.339,494.806C615.935,507.939,639.126,534.204,650.795,552.92C662.465,571.636,662.614,582.802,662.689,588.386L662.763,593.969\" id=\"L_N_P_0\" class=\" edge-thickness-normal edge-pattern-solid edge-thickness-normal edge-pattern-solid flowchart-link\" style=\"\" marker-end=\"url(#mermaid-svg_flowchart-v2-pointEnd)\"/><path d=\"M622.324,719.976L609.409,732.808C596.495,745.64,570.665,771.305,557.751,789.637C544.836,807.969,544.836,818.969,544.836,824.469L544.836,829.969\" id=\"L_P_Q_0\" class=\" edge-thickness-normal edge-pattern-solid edge-thickness-normal edge-pattern-solid flowchart-link\" style=\"\" marker-end=\"url(#mermaid-svg_flowchart-v2-pointEnd)\"/><path d=\"M703.309,719.976L716.057,732.808C728.805,745.64,754.301,771.305,767.049,789.637C779.797,807.969,779.797,818.969,779.797,824.469L779.797,829.969\" id=\"L_P_R_0\" class=\" edge-thickness-normal edge-pattern-solid edge-thickness-normal edge-pattern-solid flowchart-link\" style=\"\" marker-end=\"url(#mermaid-svg_flowchart-v2-pointEnd)\"/><path d=\"M95.367,887.969L95.367,892.135C95.367,896.302,95.367,904.635,140.555,915.773C185.742,926.91,276.117,940.851,321.305,947.821L366.492,954.791\" id=\"L_M_S_0\" class=\" edge-thickness-normal edge-pattern-solid edge-thickness-normal edge-pattern-solid flowchart-link\" style=\"\" marker-end=\"url(#mermaid-svg_flowchart-v2-pointEnd)\"/><path d=\"M320.102,887.969L320.102,892.135C320.102,896.302,320.102,904.635,328.5,912.689C336.899,920.742,353.697,928.515,362.095,932.402L370.494,936.289\" id=\"L_O_S_0\" class=\" edge-thickness-normal edge-pattern-solid edge-thickness-normal edge-pattern-solid flowchart-link\" style=\"\" marker-end=\"url(#mermaid-svg_flowchart-v2-pointEnd)\"/><path d=\"M544.836,887.969L544.836,892.135C544.836,896.302,544.836,904.635,536.437,912.689C528.038,920.742,511.241,928.515,502.842,932.402L494.443,936.289\" id=\"L_Q_S_0\" class=\" edge-thickness-normal edge-pattern-solid edge-thickness-normal edge-pattern-solid flowchart-link\" style=\"\" marker-end=\"url(#mermaid-svg_flowchart-v2-pointEnd)\"/><path d=\"M779.797,887.969L779.797,892.135C779.797,896.302,779.797,904.635,732.905,915.822C686.014,927.009,592.231,941.05,545.34,948.07L498.448,955.091\" id=\"L_R_S_0\" class=\" edge-thickness-normal edge-pattern-solid edge-thickness-normal edge-pattern-solid flowchart-link\" style=\"\" marker-end=\"url(#mermaid-svg_flowchart-v2-pointEnd)\"/></g><g class=\"edgeLabels\"><g class=\"edgeLabel\"><g class=\"label\" transform=\"translate(0, 0)\"><foreignObject width=\"0\" height=\"0\"><div xmlns=\"http://www.w3.org/1999/xhtml\" class=\"labelBkg\" style=\"display: table-cell; white-space: nowrap; line-height: 1.5; max-width: 200px; text-align: center;\"><span class=\"edgeLabel \"/></div></foreignObject></g></g><g class=\"edgeLabel\" transform=\"translate(95.3671875, 560.46875)\"><g class=\"label\" transform=\"translate(-16.15625, -12)\"><foreignObject width=\"32.3125\" height=\"24\"><div xmlns=\"http://www.w3.org/1999/xhtml\" class=\"labelBkg\" style=\"display: table-cell; white-space: nowrap; line-height: 1.5; max-width: 200px; text-align: center;\"><span class=\"edgeLabel \"><p>True</p></span></div></foreignObject></g></g><g class=\"edgeLabel\" transform=\"translate(549.94921875, 306.15625)\"><g class=\"label\" transform=\"translate(-19.5625, -12)\"><foreignObject width=\"39.125\" height=\"24\"><div xmlns=\"http://www.w3.org/1999/xhtml\" class=\"labelBkg\" style=\"display: table-cell; white-space: nowrap; line-height: 1.5; max-width: 200px; text-align: center;\"><span class=\"edgeLabel \"><p>False</p></span></div></foreignObject></g></g><g class=\"edgeLabel\" transform=\"translate(320.1015625, 678.71875)\"><g class=\"label\" transform=\"translate(-16.15625, -12)\"><foreignObject width=\"32.3125\" height=\"24\"><div xmlns=\"http://www.w3.org/1999/xhtml\" class=\"labelBkg\" style=\"display: table-cell; white-space: nowrap; line-height: 1.5; max-width: 200px; text-align: center;\"><span class=\"edgeLabel \"><p>True</p></span></div></foreignObject></g></g><g class=\"edgeLabel\" transform=\"translate(662.31640625, 560.46875)\"><g class=\"label\" transform=\"translate(-19.5625, -12)\"><foreignObject width=\"39.125\" height=\"24\"><div xmlns=\"http://www.w3.org/1999/xhtml\" class=\"labelBkg\" style=\"display: table-cell; white-space: nowrap; line-height: 1.5; max-width: 200px; text-align: center;\"><span class=\"edgeLabel \"><p>False</p></span></div></foreignObject></g></g><g class=\"edgeLabel\" transform=\"translate(544.8359375, 796.96875)\"><g class=\"label\" transform=\"translate(-16.15625, -12)\"><foreignObject width=\"32.3125\" height=\"24\"><div xmlns=\"http://www.w3.org/1999/xhtml\" class=\"labelBkg\" style=\"display: table-cell; white-space: nowrap; line-height: 1.5; max-width: 200px; text-align: center;\"><span class=\"edgeLabel \"><p>True</p></span></div></foreignObject></g></g><g class=\"edgeLabel\" transform=\"translate(779.796875, 796.96875)\"><g class=\"label\" transform=\"translate(-19.5625, -12)\"><foreignObject width=\"39.125\" height=\"24\"><div xmlns=\"http://www.w3.org/1999/xhtml\" class=\"labelBkg\" style=\"display: table-cell; white-space: nowrap; line-height: 1.5; max-width: 200px; text-align: center;\"><span class=\"edgeLabel \"><p>False</p></span></div></foreignObject></g></g><g class=\"edgeLabel\"><g class=\"label\" transform=\"translate(0, 0)\"><foreignObject width=\"0\" height=\"0\"><div xmlns=\"http://www.w3.org/1999/xhtml\" class=\"labelBkg\" style=\"display: table-cell; white-space: nowrap; line-height: 1.5; max-width: 200px; text-align: center;\"><span class=\"edgeLabel \"/></div></foreignObject></g></g><g class=\"edgeLabel\"><g class=\"label\" transform=\"translate(0, 0)\"><foreignObject width=\"0\" height=\"0\"><div xmlns=\"http://www.w3.org/1999/xhtml\" class=\"labelBkg\" style=\"display: table-cell; white-space: nowrap; line-height: 1.5; max-width: 200px; text-align: center;\"><span class=\"edgeLabel \"/></div></foreignObject></g></g><g class=\"edgeLabel\"><g class=\"label\" transform=\"translate(0, 0)\"><foreignObject width=\"0\" height=\"0\"><div xmlns=\"http://www.w3.org/1999/xhtml\" class=\"labelBkg\" style=\"display: table-cell; white-space: nowrap; line-height: 1.5; max-width: 200px; text-align: center;\"><span class=\"edgeLabel \"/></div></foreignObject></g></g><g class=\"edgeLabel\"><g class=\"label\" transform=\"translate(0, 0)\"><foreignObject width=\"0\" height=\"0\"><div xmlns=\"http://www.w3.org/1999/xhtml\" class=\"labelBkg\" style=\"display: table-cell; white-space: nowrap; line-height: 1.5; max-width: 200px; text-align: center;\"><span class=\"edgeLabel \"/></div></foreignObject></g></g></g><g class=\"nodes\"><g class=\"node default  \" id=\"flowchart-K-0\" transform=\"translate(437.58203125, 35)\"><rect class=\"basic label-container\" style=\"\" x=\"-83.796875\" y=\"-27\" width=\"167.59375\" height=\"54\"/><g class=\"label\" style=\"\" transform=\"translate(-53.796875, -12)\"><rect/><foreignObject width=\"107.59375\" height=\"24\"><div xmlns=\"http://www.w3.org/1999/xhtml\" style=\"display: table-cell; white-space: nowrap; line-height: 1.5; max-width: 200px; text-align: center;\"><span class=\"nodeLabel \"><p>Program Starts</p></span></div></foreignObject></g></g><g class=\"node default  \" id=\"flowchart-L-1\" transform=\"translate(437.58203125, 190.578125)\"><polygon points=\"78.578125,0 157.15625,-78.578125 78.578125,-157.15625 0,-78.578125\" class=\"label-container\" transform=\"translate(-78.078125, 78.578125)\" style=\"fill:#e1f5fe !important\"/><g class=\"label\" style=\"\" transform=\"translate(-51.578125, -12)\"><rect/><foreignObject width=\"103.15625\" height=\"24\"><div xmlns=\"http://www.w3.org/1999/xhtml\" style=\"display: table-cell; white-space: nowrap; line-height: 1.5; max-width: 200px; text-align: center;\"><span class=\"nodeLabel \"><p>First Condition</p></span></div></foreignObject></g></g><g class=\"node default  \" id=\"flowchart-M-3\" transform=\"translate(95.3671875, 860.96875)\"><rect class=\"basic label-container\" style=\"\" x=\"-87.3671875\" y=\"-27\" width=\"174.734375\" height=\"54\"/><g class=\"label\" style=\"\" transform=\"translate(-57.3671875, -12)\"><rect/><foreignObject width=\"114.734375\" height=\"24\"><div xmlns=\"http://www.w3.org/1999/xhtml\" style=\"display: table-cell; white-space: nowrap; line-height: 1.5; max-width: 200px; text-align: center;\"><span class=\"nodeLabel \"><p>Execute Block 1</p></span></div></foreignObject></g></g><g class=\"node default  \" id=\"flowchart-N-5\" transform=\"translate(549.94921875, 433.3125)\"><polygon points=\"90.15625,0 180.3125,-90.15625 90.15625,-180.3125 0,-90.15625\" class=\"label-container\" transform=\"translate(-89.65625, 90.15625)\" style=\"fill:#e1f5fe !important\"/><g class=\"label\" style=\"\" transform=\"translate(-63.15625, -12)\"><rect/><foreignObject width=\"126.3125\" height=\"24\"><div xmlns=\"http://www.w3.org/1999/xhtml\" style=\"display: table-cell; white-space: nowrap; line-height: 1.5; max-width: 200px; text-align: center;\"><span class=\"nodeLabel \"><p>Second Condition</p></span></div></foreignObject></g></g><g class=\"node default  \" id=\"flowchart-O-7\" transform=\"translate(320.1015625, 860.96875)\"><rect class=\"basic label-container\" style=\"\" x=\"-87.3671875\" y=\"-27\" width=\"174.734375\" height=\"54\"/><g class=\"label\" style=\"\" transform=\"translate(-57.3671875, -12)\"><rect/><foreignObject width=\"114.734375\" height=\"24\"><div xmlns=\"http://www.w3.org/1999/xhtml\" style=\"display: table-cell; white-space: nowrap; line-height: 1.5; max-width: 200px; text-align: center;\"><span class=\"nodeLabel \"><p>Execute Block 2</p></span></div></foreignObject></g></g><g class=\"node default  \" id=\"flowchart-P-9\" transform=\"translate(662.31640625, 678.71875)\"><polygon points=\"81.25,0 162.5,-81.25 81.25,-162.5 0,-81.25\" class=\"label-container\" transform=\"translate(-80.75, 81.25)\" style=\"fill:#e1f5fe !important\"/><g class=\"label\" style=\"\" transform=\"translate(-54.25, -12)\"><rect/><foreignObject width=\"108.5\" height=\"24\"><div xmlns=\"http://www.w3.org/1999/xhtml\" style=\"display: table-cell; white-space: nowrap; line-height: 1.5; max-width: 200px; text-align: center;\"><span class=\"nodeLabel \"><p>Third Condition</p></span></div></foreignObject></g></g><g class=\"node default  \" id=\"flowchart-Q-11\" transform=\"translate(544.8359375, 860.96875)\"><rect class=\"basic label-container\" style=\"\" x=\"-87.3671875\" y=\"-27\" width=\"174.734375\" height=\"54\"/><g class=\"label\" style=\"\" transform=\"translate(-57.3671875, -12)\"><rect/><foreignObject width=\"114.734375\" height=\"24\"><div xmlns=\"http://www.w3.org/1999/xhtml\" style=\"display: table-cell; white-space: nowrap; line-height: 1.5; max-width: 200px; text-align: center;\"><span class=\"nodeLabel \"><p>Execute Block 3</p></span></div></foreignObject></g></g><g class=\"node default  \" id=\"flowchart-R-13\" transform=\"translate(779.796875, 860.96875)\"><rect class=\"basic label-container\" style=\"\" x=\"-97.59375\" y=\"-27\" width=\"195.1875\" height=\"54\"/><g class=\"label\" style=\"\" transform=\"translate(-67.59375, -12)\"><rect/><foreignObject width=\"135.1875\" height=\"24\"><div xmlns=\"http://www.w3.org/1999/xhtml\" style=\"display: table-cell; white-space: nowrap; line-height: 1.5; max-width: 200px; text-align: center;\"><span class=\"nodeLabel \"><p>Execute else Block</p></span></div></foreignObject></g></g><g class=\"node default  \" id=\"flowchart-S-15\" transform=\"translate(432.46875, 964.96875)\"><rect class=\"basic label-container\" style=\"\" x=\"-62.0234375\" y=\"-27\" width=\"124.046875\" height=\"54\"/><g class=\"label\" style=\"\" transform=\"translate(-32.0234375, -12)\"><rect/><foreignObject width=\"64.046875\" height=\"24\"><div xmlns=\"http://www.w3.org/1999/xhtml\" style=\"display: table-cell; white-space: nowrap; line-height: 1.5; max-width: 200px; text-align: center;\"><span class=\"nodeLabel \"><p>Continue</p></span></div></foreignObject></g></g></g></g></g></svg>"
          },
          "metadata": {}
        }
      ]
    },
    {
      "cell_type": "markdown",
      "source": [
        "## Problem \\#1 - Fix the Conditional\n",
        "\n",
        "**The Situation**\n",
        "Moe hired a new bouncer to help check customers at the door. The bouncer started writing a program but made a syntax error. Your job is to fix the error and add one simple age check!\n",
        "\n",
        "**The Code**\n"
      ],
      "metadata": {
        "id": "MsqSmApD6P5X"
      }
    },
    {
      "cell_type": "code",
      "source": [
        "%%writefile MoesBouncer.java\n",
        "public class MoesBouncer {\n",
        "    public static void main(String[] args) {\n",
        "        // Customer information\n",
        "        boolean hasID = true;\n",
        "        int customerAge = 25;\n",
        "\n",
        "        // TODO 1: Fix this syntax error!\n",
        "        if hasID {\n",
        "            System.out.println(\"ID checked, you're good to go!\");\n",
        "        } else {\n",
        "            System.out.println(\"No ID, no service!\");\n",
        "        }\n",
        "\n",
        "        // TODO 2: Add age verification\n",
        "        // Write an if-else statement that checks if customerAge >= 21\n",
        "        // If true: print \"Age verified - welcome to Moe's!\"\n",
        "        // If false: print \"Sorry, you must be 21 or older!\"\n",
        "\n",
        "    }\n",
        "}"
      ],
      "metadata": {
        "colab": {
          "base_uri": "https://localhost:8080/"
        },
        "id": "NpqMxkZ26csG",
        "outputId": "ce7beffe-1633-41a1-8232-9be910851b24"
      },
      "execution_count": null,
      "outputs": [
        {
          "output_type": "stream",
          "name": "stdout",
          "text": [
            "Writing MoesBouncer.java\n"
          ]
        }
      ]
    },
    {
      "cell_type": "code",
      "source": [
        "!javac MoesBouncer.java\n",
        "!java MoesBouncer"
      ],
      "metadata": {
        "id": "35XJCo686iSe"
      },
      "execution_count": null,
      "outputs": []
    },
    {
      "cell_type": "markdown",
      "source": [
        "**Expected Output**\n",
        "```\n",
        "ID checked, you're good to go!\n",
        "Age verified - welcome to Moe's!\n",
        "```"
      ],
      "metadata": {
        "id": "ztQgpyuh6mux"
      }
    },
    {
      "cell_type": "markdown",
      "source": [
        "## Comparison Operators 🔍\n",
        "Building Conditions That Make Decisions\n",
        "\n",
        "So far we've used boolean variables like `hasID` or `isRegular` in our if statements. But what if we want to compare numbers, check ages, or compare text? That's where comparison operators come in!\n",
        "\n",
        "Comparison operators let us create boolean conditions by comparing two values. They always result in either `true` or `false`.\n",
        "\n",
        "### The Six Comparison Operators\n",
        "\n",
        "| Operator | Meaning | Example | Result |\n",
        "|----------|---------|---------|---------|\n",
        "| `==` | Equal to | `age == 21` | true if age is exactly 21 |\n",
        "| `!=` | Not equal to | `age != 21` | true if age is anything except 21 |\n",
        "| `>` | Greater than | `age > 21` | true if age is 22, 23, 24, etc. |\n",
        "| `<` | Less than | `age < 21` | true if age is 20, 19, 18, etc. |\n",
        "| `>=` | Greater than or equal | `age >= 21` | true if age is 21 or higher |\n",
        "| `<=` | Less than or equal | `age <= 21` | true if age is 21 or lower |\n",
        "\n",
        "### Important: Use == (Not =) for Equality!\n",
        "\n",
        "**Common Mistake:**\n",
        "```java\n",
        "if (age = 21) {  // WRONG! This assigns 21 to age\n",
        "```\n",
        "\n",
        "**Correct Way:**\n",
        "```java\n",
        "if (age == 21) {  // RIGHT! This compares age to 21\n",
        "```\n",
        "\n",
        "Remember: `=` assigns a value, `==` compares values!\n",
        "\n",
        "### Moe's Tavern Examples\n",
        "\n",
        "**Age Verification:**\n",
        "```java\n",
        "int customerAge = 25;\n",
        "if (customerAge >= 21) {\n",
        "    System.out.println(\"Legal drinking age - welcome!\");\n",
        "}\n",
        "```\n",
        "\n",
        "**Checking Tab Amounts:**\n",
        "```java\n",
        "double tabTotal = 45.50;\n",
        "if (tabTotal > 50.00) {\n",
        "    System.out.println(\"Big spender! Free peanuts on the house!\");\n",
        "}\n",
        "```\n",
        "\n",
        "**Drink Size Pricing:**\n",
        "```java\n",
        "char drinkSize = 'L';\n",
        "if (drinkSize == 'L') {\n",
        "    System.out.println(\"Large beer - $8.00\");\n",
        "}\n",
        "```\n",
        "\n",
        "**Closing Time Check:**\n",
        "```java\n",
        "int currentHour = 23;  // 11 PM\n",
        "if (currentHour >= 23) {\n",
        "    System.out.println(\"Last call! Bar closes soon!\");\n",
        "}\n",
        "```\n",
        "\n",
        "\n",
        "**Note about Strings:** Comparing strings requires a special method - we'll learn that in a future lesson!\n",
        "\n",
        "Think of comparison operators as Moe's way of making judgment calls - is this customer old enough? Has this person spent enough for a discount? Is it late enough for last call? These operators help your program make the same kinds of decisions!"
      ],
      "metadata": {
        "id": "lOknJO3xjwXd"
      }
    },
    {
      "cell_type": "markdown",
      "source": [
        "## Comparison Examples in Action 💰\n",
        "\n",
        "Let's see how comparison operators work in realistic Moe's Tavern scenarios. This example shows how to make business decisions using code."
      ],
      "metadata": {
        "id": "yeLuJWwzjxVk"
      }
    },
    {
      "cell_type": "code",
      "source": [
        "%%writefile MoesSystem.java\n",
        "public class MoesSystem {\n",
        "    public static void main(String[] args) {\n",
        "        // Customer information\n",
        "        int customerAge = 23;\n",
        "        int loyaltyPoints = 150;\n",
        "        double tabAmount = 45.00;\n",
        "\n",
        "        // Age verification\n",
        "        if (customerAge >= 21) {\n",
        "            System.out.println(\"✓ Legal drinking age confirmed\");\n",
        "        } else {\n",
        "            System.out.println(\"✗ Customer must be 21+ to drink alcohol\");\n",
        "        }\n",
        "\n",
        "        // Loyalty program check\n",
        "        if (loyaltyPoints >= 100) {\n",
        "            System.out.println(\"✓ VIP member - loyalty rewards available!\");\n",
        "        }\n",
        "\n",
        "        // Big spender bonus\n",
        "        if (tabAmount > 40.00) {\n",
        "            System.out.println(\"✓ Free appetizer earned!\");\n",
        "        }\n",
        "    }\n",
        "}\n"
      ],
      "metadata": {
        "colab": {
          "base_uri": "https://localhost:8080/"
        },
        "id": "0qmolQvAkIAF",
        "outputId": "825ba65b-b178-4abe-8459-6369e6ec879e"
      },
      "execution_count": null,
      "outputs": [
        {
          "output_type": "stream",
          "name": "stdout",
          "text": [
            "Writing MoesSystem.java\n"
          ]
        }
      ]
    },
    {
      "cell_type": "code",
      "source": [
        "!javac MoesSystem.java\n",
        "!java MoesSystem"
      ],
      "metadata": {
        "colab": {
          "base_uri": "https://localhost:8080/"
        },
        "id": "Wmif_Donklew",
        "outputId": "89243b98-ccbe-4352-85a2-30b60476f54a"
      },
      "execution_count": null,
      "outputs": [
        {
          "output_type": "stream",
          "name": "stdout",
          "text": [
            "✓ Legal drinking age confirmed\n",
            "✓ VIP member - loyalty rewards available!\n",
            "✓ Free appetizer earned!\n"
          ]
        }
      ]
    },
    {
      "cell_type": "markdown",
      "source": [
        "## Problem \\#2 - Complete the Pricing System\n",
        "\n",
        "**The Situation**\n",
        "Moe wants a simple pricing system that gives discounts based on time of day. Help him complete the logic!\n",
        "\n",
        "**The Code**"
      ],
      "metadata": {
        "id": "KbeSNT_nks5b"
      }
    },
    {
      "cell_type": "code",
      "source": [
        "%%writefile MoesPricing.java\n",
        "public class MoesPricing {\n",
        "    public static void main(String[] args) {\n",
        "        // Customer information\n",
        "        int currentHour = 18;  // 6 PM\n",
        "        double baseBeerPrice = 5.00;\n",
        "        double finalPrice = baseBeerPrice;\n",
        "\n",
        "        // TODO 1: Complete the happy hour pricing\n",
        "        // Happy hour is from 5 PM (17) until 7 PM (19)\n",
        "        if (//Complete me!) {\n",
        "            // This is happy hour (5-7 PM)\n",
        "            // Calculate 50% discount: finalPrice = baseBeerPrice * 0.5;\n",
        "\n",
        "        } else {\n",
        "            // Regular pricing - keep baseBeerPrice\n",
        "        }\n",
        "\n",
        "        // TODO 2: Display the results\n",
        "        // Print the current hour\n",
        "        // Print whether it's happy hour or regular pricing\n",
        "        // Print the final price\n",
        "\n",
        "    }\n",
        "}"
      ],
      "metadata": {
        "colab": {
          "base_uri": "https://localhost:8080/"
        },
        "id": "-ioCGFiUk2CO",
        "outputId": "912f02f2-0060-4716-8aa2-bb58bca98488"
      },
      "execution_count": null,
      "outputs": [
        {
          "output_type": "stream",
          "name": "stdout",
          "text": [
            "Writing MoesPricing.java\n"
          ]
        }
      ]
    },
    {
      "cell_type": "code",
      "source": [
        "!javac MoesPricing.java\n",
        "!java MoesPricing"
      ],
      "metadata": {
        "id": "Q6NqohHqk35B"
      },
      "execution_count": null,
      "outputs": []
    },
    {
      "cell_type": "markdown",
      "source": [
        "**Expected Output**\n",
        "```\n",
        "Current hour: 18\n",
        "Happy hour pricing active!\n",
        "Final price: $2.5\n",
        "```"
      ],
      "metadata": {
        "id": "sI8qAPNm63QO"
      }
    },
    {
      "cell_type": "markdown",
      "source": [
        "## Compound Conditionals - AND (&&) 🤝\n",
        "\n",
        "Sometimes one condition isn't enough. At Moe's Tavern, you often need to check several things:\n",
        "- Is the customer 21+ AND do they have ID?\n",
        "- Is it happy hour AND is the customer a regular?\n",
        "\n",
        "### The AND Operator (&&)\n",
        "\n",
        "The `&&` operator means \"AND\" - **BOTH conditions must be true** for the entire expression to be true.\n",
        "\n",
        "**Syntax:**\n",
        "```java\n",
        "if (condition1 && condition2) {\n",
        "    // Code runs only if BOTH conditions are true\n",
        "}\n",
        "```\n",
        "\n",
        "### Truth Table for AND (&&)\n",
        "\n",
        "| Condition 1 | Condition 2 | Result |\n",
        "|-------------|-------------|---------|\n",
        "| true | true | **true** ✓ |\n",
        "| true | false | false |\n",
        "| false | true | false |\n",
        "| false | false | false |\n",
        "\n",
        "Only when both sides are true does the whole thing become true!\n",
        "\n",
        "### Moe's Tavern Examples\n",
        "\n",
        "**Basic ID and Age Check:**\n",
        "```java\n",
        "boolean hasID = true;\n",
        "int customerAge = 25;\n",
        "\n",
        "if (hasID && customerAge >= 21) {\n",
        "    System.out.println(\"Welcome to Moe's Tavern!\");\n",
        "} else {\n",
        "    System.out.println(\"Sorry, can't serve you.\");\n",
        "}\n",
        "```\n",
        "\n",
        "\n",
        "### Common Mistake\n",
        "\n",
        "**WRONG:** Using single & instead of double &&\n",
        "```java\n",
        "if (hasID & age >= 21) {  // Single & is wrong!\n",
        "```\n",
        "\n",
        "**RIGHT:** Always use double && for logical AND\n",
        "```java\n",
        "if (hasID && age >= 21) {  // Double && is correct!\n",
        "```\n",
        "\n",
        "Think of && like a strict bouncer - you must pass ALL checks to get in! 🚪✅"
      ],
      "metadata": {
        "id": "gilvhjV_licp"
      }
    },
    {
      "cell_type": "markdown",
      "source": [
        "## Compound Conditionals - OR (||) 🔄\n",
        "When At Least One Condition Must Be True\n",
        "\n",
        "### The OR Operator (||)\n",
        "\n",
        "The `||` operator means \"OR\" - **at least ONE condition must be true** for the entire expression to be true.\n",
        "\n",
        "**Syntax:**\n",
        "```java\n",
        "if (condition1 || condition2) {\n",
        "    // Code runs if EITHER condition is true (or both)\n",
        "}\n",
        "```\n",
        "\n",
        "### Truth Table for OR (||)\n",
        "\n",
        "| Condition 1 | Condition 2 | Result |\n",
        "|-------------|-------------|---------|\n",
        "| true | true | **true** ✓ |\n",
        "| true | false | **true** ✓ |\n",
        "| false | true | **true** ✓ |\n",
        "| false | false | false |\n",
        "\n",
        "Only when both sides are false does the whole thing become false!\n",
        "\n",
        "### Moe's Tavern Examples\n",
        "\n",
        "**Extended Hours:**\n",
        "```java\n",
        "boolean isWeekend = true;\n",
        "boolean isHoliday = false;\n",
        "\n",
        "if (isWeekend || isHoliday) {\n",
        "    System.out.println(\"Extended hours - open until 2 AM!\");\n",
        "} else {\n",
        "    System.out.println(\"Regular hours - closing at midnight!\");\n",
        "}\n",
        "```\n",
        "\n",
        "**Emergency Closing:**\n",
        "```java\n",
        "boolean fireCall = false;\n",
        "boolean medicalEmergency = false;\n",
        "boolean policeCall = true;\n",
        "\n",
        "if (fireCall || medicalEmergency || policeCall) {\n",
        "    System.out.println(\"🚨 EMERGENCY - Tavern closing immediately\");\n",
        "}\n",
        "```\n",
        "\n",
        "### Combining AND and OR\n",
        "\n",
        "Use parentheses for complex logic:\n",
        "```java\n",
        "boolean isRegular = true;\n",
        "double spending = 15.00;\n",
        "int loyaltyPoints = 80;\n",
        "\n",
        "// Free appetizer if: (regular AND spent $10+) OR (spent $25+) OR (100+ points)\n",
        "if ((isRegular && spending >= 10.00) || spending >= 25.00 || loyaltyPoints >= 100) {\n",
        "    System.out.println(\"🍿 Free appetizer earned!\");\n",
        "}\n",
        "```\n",
        "\n",
        "### Common Mistake\n",
        "\n",
        "**WRONG:** Using single | instead of double ||\n",
        "```java\n",
        "if (isWeekend | isHoliday) {  // Single | is wrong!\n",
        "```\n",
        "\n",
        "**RIGHT:** Always use double || for logical OR\n",
        "```java\n",
        "if (isWeekend || isHoliday) {  // Double || is correct!\n",
        "```\n",
        "\n",
        "Think of || like a flexible doorman - you can get in if you meet ANY requirement! 🚪😊"
      ],
      "metadata": {
        "id": "lwWQ5xCblovk"
      }
    },
    {
      "cell_type": "markdown",
      "source": [
        "## Introduction to Arrays 📦\n",
        "\n",
        "Imagine Moe wants to track his drink menu. Using individual variables gets messy quickly:\n",
        "\n",
        "```java\n",
        "String drink1 = \"Duff Beer\";\n",
        "String drink2 = \"Guinness\";\n",
        "String drink3 = \"Wine\";\n",
        "String drink4 = \"Whiskey\";\n",
        "String drink5 = \"Soda\";\n",
        "\n",
        "double price1 = 3.50;\n",
        "double price2 = 5.50;\n",
        "double price3 = 7.00;\n",
        "double price4 = 8.00;\n",
        "double price5 = 2.00;\n",
        "```\n",
        "\n",
        "What if Moe adds 20 more drinks? This approach doesn't scale!\n",
        "\n",
        "### Enter Arrays!\n",
        "\n",
        "An **array** is like a container that holds multiple values of the same type. Think of it as:\n",
        "- A beer flight tray holding multiple glasses\n",
        "- A shelf holding multiple bottles\n",
        "- A list holding multiple names\n",
        "\n",
        "### Array Declaration and Initialization\n",
        "\n",
        "**Basic Syntax:**\n",
        "```java\n",
        "dataType[] arrayName = {value1, value2, value3};\n",
        "```\n",
        "\n",
        "**Moe's Menu Examples:**\n",
        "```java\n",
        "String[] drinkNames = {\"Duff Beer\", \"Guinness\", \"Wine\", \"Whiskey\", \"Soda\"};\n",
        "double[] drinkPrices = {3.50, 5.50, 7.00, 8.00, 2.00};\n",
        "int[] stockQuantity = {50, 25, 30, 15, 100};\n",
        "```\n",
        "\n",
        "### Key Array Concepts\n",
        "\n",
        "**Same Data Type:** All elements must be the same type\n",
        "- ✅ `String[] names = {\"Barney\", \"Homer\", \"Moe\"};`\n",
        "- ❌ `String[] mixed = {\"Barney\", 25, true};` // Different types!\n",
        "\n",
        "**Fixed Size:** Once created, the size cannot change\n",
        "- The array `drinkNames` will always hold exactly 5 strings\n",
        "\n",
        "**Ordered:** Elements have a specific position (index)\n",
        "- First element is at position 0\n",
        "- Second element is at position 1\n",
        "- And so on...\n",
        "\n",
        "### More Moe's Tavern Uses\n",
        "\n",
        "**Customer Names for Reservations:**\n",
        "```java\n",
        "String[] reservations = {\"Simpson\", \"Gumble\", \"Wiggum\", \"Flanders\"};\n",
        "```\n",
        "\n",
        "**Daily Temperature Readings:**\n",
        "```java\n",
        "int[] hourlyTemp = {68, 70, 72, 75, 73, 71, 69};\n",
        "```\n",
        "\n",
        "**Happy Hour Discounts:**\n",
        "```java\n",
        "double[] discountRates = {0.5, 0.3, 0.2};  // 50%, 30%, 20% off\n",
        "```\n",
        "\n",
        "**Table Numbers:**\n",
        "```java\n",
        "int[] availableTables = {1, 3, 7, 12, 15};\n",
        "```\n",
        "\n",
        "### Array Benefits\n",
        "\n",
        "- **Organization.** Related data stays together\n",
        "- **Efficiency.** Easy to process multiple values\n",
        "- **Scalability** Can handle many items with the same code\n",
        "- **Maintainability.** Changes to the data structure are centralized\n",
        "\n",
        "Think of arrays as Moe organizing his bar - instead of scattered bottles everywhere, he puts similar drinks together on organized shelves! 🍺📋"
      ],
      "metadata": {
        "id": "l9kC28_kl2Ui"
      }
    },
    {
      "cell_type": "markdown",
      "source": [
        "## Array Declaration and Access 🎯\n",
        "Creating and Using Arrays\n",
        "\n",
        "### Creating Arrays\n",
        "In Java, there are several distinct ways of creating and initializing arrays. As we progress through the course, we'll learn when to use each one. For now, you should just know that they all work!\n",
        "\n",
        "**Method 1: Declare and Initialize Together**\n",
        "```java\n",
        "String[] beerTypes = {\"Duff\", \"Budweiser\", \"Guinness\"};\n",
        "double[] prices = {3.50, 4.00, 5.50};\n",
        "int[] quantities = {50, 25, 30};\n",
        "```\n",
        "\n",
        "**Method 2: Declare First, Initialize Later**\n",
        "```java\n",
        "String[] customerNames;\n",
        "customerNames = {\"Barney\", \"Homer\", \"Moe\"};\n",
        "```\n",
        "\n",
        "**Method 3: Create Empty Array (Fixed Size)**\n",
        "```java\n",
        "String[] reservations = new String[10];  // Empty array with 10 spots\n",
        "int[] dailySales = new int[7];           // Empty array for 7 days\n",
        "```\n",
        "\n",
        "### Array Indexing - STARTS AT 0!\n",
        "\n",
        "This is crucial: Arrays start counting at **0**, not 1!\n",
        "\n",
        "```java\n",
        "String[] drinks = {\"Beer\", \"Wine\", \"Soda\"};\n",
        "//                   0      1      2     <- These are the indices\n",
        "```\n",
        "\n",
        "### Accessing Array Elements\n",
        "\n",
        "Use square brackets `[]` with the index number:\n",
        "\n",
        "```java\n",
        "String[] drinks = {\"Beer\", \"Wine\", \"Soda\"};\n",
        "\n",
        "System.out.println(\"Most popular: \" + drinks[0]);     // \"Beer\"\n",
        "System.out.println(\"For wine lovers: \" + drinks[1]); // \"Wine\"\n",
        "System.out.println(\"For drivers: \" + drinks[2]);     // \"Soda\"\n",
        "```\n",
        "\n",
        "### Moe's Menu System Example"
      ],
      "metadata": {
        "id": "KG1uu31El-CH"
      }
    },
    {
      "cell_type": "code",
      "source": [
        "%%writefile MoesMenu.java\n",
        "public class MoesMenu {\n",
        "    public static void main(String[] args) {\n",
        "        // Create Moe's drink menu\n",
        "        String[] drinkNames = {\"Duff Beer\", \"House Wine\", \"Well Whiskey\", \"Soda\"};\n",
        "        double[] prices = {3.50, 6.00, 5.00, 2.00};\n",
        "\n",
        "        // Display menu items\n",
        "        System.out.println(\"=== MOE'S TAVERN MENU ===\");\n",
        "        System.out.println(\"1. \" + drinkNames[0] + \" - $\" + prices[0]);\n",
        "        System.out.println(\"2. \" + drinkNames[1] + \" - $\" + prices[1]);\n",
        "        System.out.println(\"3. \" + drinkNames[2] + \" - $\" + prices[2]);\n",
        "        System.out.println(\"4. \" + drinkNames[3] + \" - $\" + prices[3]);\n",
        "\n",
        "        // Feature today's special (first item)\n",
        "        System.out.println(\"\\nToday's Featured Drink: \" + drinkNames[0]);\n",
        "    }\n",
        "}\n"
      ],
      "metadata": {
        "colab": {
          "base_uri": "https://localhost:8080/"
        },
        "id": "GMsQSLXomHaS",
        "outputId": "4c0d6656-fff4-4d9e-8189-d3f180905cc7"
      },
      "execution_count": null,
      "outputs": [
        {
          "output_type": "stream",
          "name": "stdout",
          "text": [
            "Writing MoesMenu.java\n"
          ]
        }
      ]
    },
    {
      "cell_type": "code",
      "source": [
        "!javac MoesMenu.java\n",
        "!java MoesMenu"
      ],
      "metadata": {
        "id": "Kn8Tz9t1mIm5"
      },
      "execution_count": null,
      "outputs": []
    },
    {
      "cell_type": "markdown",
      "source": [
        "\n",
        "### Modifying Array Elements\n",
        "\n",
        "You can change values after creation:\n",
        "\n",
        "```java\n",
        "int[] stockLevels = {50, 25, 30};\n",
        "System.out.println(\"Duff stock: \" + stockLevels[0]);  // 50\n",
        "\n",
        "// Sell some Duff beers\n",
        "stockLevels[0] = stockLevels[0] - 5;\n",
        "System.out.println(\"Duff stock after sales: \" + stockLevels[0]);  // 45\n",
        "```\n",
        "\n",
        "### Common Index Mistakes\n",
        "\n",
        "**Remember: Arrays start at 0!**\n",
        "\n",
        "```java\n",
        "String[] drinks = {\"Beer\", \"Wine\", \"Soda\"};\n",
        "\n",
        "// ✅ CORRECT\n",
        "System.out.println(drinks[0]);  // First element: \"Beer\"\n",
        "System.out.println(drinks[1]);  // Second element: \"Wine\"\n",
        "System.out.println(drinks[2]);  // Third element: \"Soda\"\n",
        "\n",
        "// ❌ WRONG - This will crash!\n",
        "System.out.println(drinks[3]);  // No fourth element!\n",
        "```\n",
        "\n",
        "### Array Index Visualization\n",
        "\n",
        "```\n",
        "Array: [\"Duff\", \"Guinness\", \"Wine\", \"Soda\"]\n",
        "Index:    0        1         2       3\n",
        "\n",
        "drinks[0] = \"Duff\"      ✓ Valid\n",
        "drinks[1] = \"Guinness\"  ✓ Valid  \n",
        "drinks[2] = \"Wine\"      ✓ Valid\n",
        "drinks[3] = \"Soda\"      ✓ Valid\n",
        "drinks[4] = ???         ❌ Crash! (Index out of bounds)\n",
        "```\n",
        "\n",
        "Think of array indices like table numbers at Moe's - if he has tables 0, 1, 2, and 3, asking for table 4 doesn't make sense! 🍺📍"
      ],
      "metadata": {
        "id": "FUQrc-sDmBRi"
      }
    },
    {
      "cell_type": "code",
      "source": [
        "# @title\n",
        "mm(\"\"\"\n",
        "graph TD\n",
        "    subgraph \"Array Structure\"\n",
        "        D1[\"drinks[0] = 'Duff'\"]\n",
        "        D2[\"drinks[1] = 'Guinness'\"]\n",
        "        D3[\"drinks[2] = 'Wine'\"]\n",
        "        D4[\"drinks[3] = 'Soda'\"]\n",
        "\n",
        "        E1[\"Index: 0\"] --> D1\n",
        "        E2[\"Index: 1\"] --> D2\n",
        "        E3[\"Index: 2\"] --> D3\n",
        "        E4[\"Index: 3\"] --> D4\n",
        "    end\n",
        "\n",
        "    subgraph \"Array Properties\"\n",
        "        F1[\"drinks.length = 4\"]\n",
        "        F2[\"First element: drinks[0]\"]\n",
        "        F3[\"Last element: drinks[drinks.length - 1]\"]\n",
        "    end\n",
        "\n",
        "    style D1 fill:#c8e6c9\n",
        "    style D2 fill:#c8e6c9\n",
        "    style D3 fill:#c8e6c9\n",
        "    style D4 fill:#c8e6c9\"\"\")"
      ],
      "metadata": {
        "cellView": "form",
        "id": "TADjYaHGwqoy",
        "outputId": "a9ae48ca-4d5b-4bba-8679-41f6b3517ad6",
        "colab": {
          "base_uri": "https://localhost:8080/",
          "height": 473
        }
      },
      "execution_count": null,
      "outputs": [
        {
          "output_type": "display_data",
          "data": {
            "text/plain": [
              "<IPython.core.display.SVG object>"
            ],
            "image/svg+xml": "<svg xmlns=\"http://www.w3.org/2000/svg\" xmlns:xlink=\"http://www.w3.org/1999/xlink\" id=\"mermaid-svg\" width=\"100%\" class=\"flowchart\" style=\"max-width: 880.34375px;\" viewBox=\"0 0 880.34375 452\" role=\"graphics-document document\" aria-roledescription=\"flowchart-v2\"><style xmlns=\"http://www.w3.org/1999/xhtml\">@import url(&quot;https://cdnjs.cloudflare.com/ajax/libs/font-awesome/6.7.2/css/all.min.css&quot;);</style><style>#mermaid-svg{font-family:&quot;trebuchet ms&quot;,verdana,arial,sans-serif;font-size:16px;fill:#333;}@keyframes edge-animation-frame{from{stroke-dashoffset:0;}}@keyframes dash{to{stroke-dashoffset:0;}}#mermaid-svg .edge-animation-slow{stroke-dasharray:9,5!important;stroke-dashoffset:900;animation:dash 50s linear infinite;stroke-linecap:round;}#mermaid-svg .edge-animation-fast{stroke-dasharray:9,5!important;stroke-dashoffset:900;animation:dash 20s linear infinite;stroke-linecap:round;}#mermaid-svg .error-icon{fill:#552222;}#mermaid-svg .error-text{fill:#552222;stroke:#552222;}#mermaid-svg .edge-thickness-normal{stroke-width:1px;}#mermaid-svg .edge-thickness-thick{stroke-width:3.5px;}#mermaid-svg .edge-pattern-solid{stroke-dasharray:0;}#mermaid-svg .edge-thickness-invisible{stroke-width:0;fill:none;}#mermaid-svg .edge-pattern-dashed{stroke-dasharray:3;}#mermaid-svg .edge-pattern-dotted{stroke-dasharray:2;}#mermaid-svg .marker{fill:#333333;stroke:#333333;}#mermaid-svg .marker.cross{stroke:#333333;}#mermaid-svg svg{font-family:&quot;trebuchet ms&quot;,verdana,arial,sans-serif;font-size:16px;}#mermaid-svg p{margin:0;}#mermaid-svg .label{font-family:&quot;trebuchet ms&quot;,verdana,arial,sans-serif;color:#333;}#mermaid-svg .cluster-label text{fill:#333;}#mermaid-svg .cluster-label span{color:#333;}#mermaid-svg .cluster-label span p{background-color:transparent;}#mermaid-svg .label text,#mermaid-svg span{fill:#333;color:#333;}#mermaid-svg .node rect,#mermaid-svg .node circle,#mermaid-svg .node ellipse,#mermaid-svg .node polygon,#mermaid-svg .node path{fill:#ECECFF;stroke:#9370DB;stroke-width:1px;}#mermaid-svg .rough-node .label text,#mermaid-svg .node .label text,#mermaid-svg .image-shape .label,#mermaid-svg .icon-shape .label{text-anchor:middle;}#mermaid-svg .node .katex path{fill:#000;stroke:#000;stroke-width:1px;}#mermaid-svg .rough-node .label,#mermaid-svg .node .label,#mermaid-svg .image-shape .label,#mermaid-svg .icon-shape .label{text-align:center;}#mermaid-svg .node.clickable{cursor:pointer;}#mermaid-svg .root .anchor path{fill:#333333!important;stroke-width:0;stroke:#333333;}#mermaid-svg .arrowheadPath{fill:#333333;}#mermaid-svg .edgePath .path{stroke:#333333;stroke-width:2.0px;}#mermaid-svg .flowchart-link{stroke:#333333;fill:none;}#mermaid-svg .edgeLabel{background-color:rgba(232,232,232, 0.8);text-align:center;}#mermaid-svg .edgeLabel p{background-color:rgba(232,232,232, 0.8);}#mermaid-svg .edgeLabel rect{opacity:0.5;background-color:rgba(232,232,232, 0.8);fill:rgba(232,232,232, 0.8);}#mermaid-svg .labelBkg{background-color:rgba(232, 232, 232, 0.5);}#mermaid-svg .cluster rect{fill:#ffffde;stroke:#aaaa33;stroke-width:1px;}#mermaid-svg .cluster text{fill:#333;}#mermaid-svg .cluster span{color:#333;}#mermaid-svg div.mermaidTooltip{position:absolute;text-align:center;max-width:200px;padding:2px;font-family:&quot;trebuchet ms&quot;,verdana,arial,sans-serif;font-size:12px;background:hsl(80, 100%, 96.2745098039%);border:1px solid #aaaa33;border-radius:2px;pointer-events:none;z-index:100;}#mermaid-svg .flowchartTitleText{text-anchor:middle;font-size:18px;fill:#333;}#mermaid-svg rect.text{fill:none;stroke-width:0;}#mermaid-svg .icon-shape,#mermaid-svg .image-shape{background-color:rgba(232,232,232, 0.8);text-align:center;}#mermaid-svg .icon-shape p,#mermaid-svg .image-shape p{background-color:rgba(232,232,232, 0.8);padding:2px;}#mermaid-svg .icon-shape rect,#mermaid-svg .image-shape rect{opacity:0.5;background-color:rgba(232,232,232, 0.8);fill:rgba(232,232,232, 0.8);}#mermaid-svg .label-icon{display:inline-block;height:1em;overflow:visible;vertical-align:-0.125em;}#mermaid-svg .node .label-icon path{fill:currentColor;stroke:revert;stroke-width:revert;}#mermaid-svg :root{--mermaid-font-family:&quot;trebuchet ms&quot;,verdana,arial,sans-serif;}</style><g><marker id=\"mermaid-svg_flowchart-v2-pointEnd\" class=\"marker flowchart-v2\" viewBox=\"0 0 10 10\" refX=\"5\" refY=\"5\" markerUnits=\"userSpaceOnUse\" markerWidth=\"8\" markerHeight=\"8\" orient=\"auto\"><path d=\"M 0 0 L 10 5 L 0 10 z\" class=\"arrowMarkerPath\" style=\"stroke-width: 1; stroke-dasharray: 1, 0;\"/></marker><marker id=\"mermaid-svg_flowchart-v2-pointStart\" class=\"marker flowchart-v2\" viewBox=\"0 0 10 10\" refX=\"4.5\" refY=\"5\" markerUnits=\"userSpaceOnUse\" markerWidth=\"8\" markerHeight=\"8\" orient=\"auto\"><path d=\"M 0 5 L 10 10 L 10 0 z\" class=\"arrowMarkerPath\" style=\"stroke-width: 1; stroke-dasharray: 1, 0;\"/></marker><marker id=\"mermaid-svg_flowchart-v2-circleEnd\" class=\"marker flowchart-v2\" viewBox=\"0 0 10 10\" refX=\"11\" refY=\"5\" markerUnits=\"userSpaceOnUse\" markerWidth=\"11\" markerHeight=\"11\" orient=\"auto\"><circle cx=\"5\" cy=\"5\" r=\"5\" class=\"arrowMarkerPath\" style=\"stroke-width: 1; stroke-dasharray: 1, 0;\"/></marker><marker id=\"mermaid-svg_flowchart-v2-circleStart\" class=\"marker flowchart-v2\" viewBox=\"0 0 10 10\" refX=\"-1\" refY=\"5\" markerUnits=\"userSpaceOnUse\" markerWidth=\"11\" markerHeight=\"11\" orient=\"auto\"><circle cx=\"5\" cy=\"5\" r=\"5\" class=\"arrowMarkerPath\" style=\"stroke-width: 1; stroke-dasharray: 1, 0;\"/></marker><marker id=\"mermaid-svg_flowchart-v2-crossEnd\" class=\"marker cross flowchart-v2\" viewBox=\"0 0 11 11\" refX=\"12\" refY=\"5.2\" markerUnits=\"userSpaceOnUse\" markerWidth=\"11\" markerHeight=\"11\" orient=\"auto\"><path d=\"M 1,1 l 9,9 M 10,1 l -9,9\" class=\"arrowMarkerPath\" style=\"stroke-width: 2; stroke-dasharray: 1, 0;\"/></marker><marker id=\"mermaid-svg_flowchart-v2-crossStart\" class=\"marker cross flowchart-v2\" viewBox=\"0 0 11 11\" refX=\"-1\" refY=\"5.2\" markerUnits=\"userSpaceOnUse\" markerWidth=\"11\" markerHeight=\"11\" orient=\"auto\"><path d=\"M 1,1 l 9,9 M 10,1 l -9,9\" class=\"arrowMarkerPath\" style=\"stroke-width: 2; stroke-dasharray: 1, 0;\"/></marker><g class=\"root\"><g class=\"clusters\"/><g class=\"edgePaths\"/><g class=\"edgeLabels\"/><g class=\"nodes\"><g class=\"root\" transform=\"translate(0, 40)\"><g class=\"clusters\"><g class=\"cluster \" id=\"subGraph1\" data-look=\"classic\"><rect style=\"\" x=\"8\" y=\"8\" width=\"335\" height=\"356\"/><g class=\"cluster-label \" transform=\"translate(117.703125, 8)\"><foreignObject width=\"115.59375\" height=\"24\"><div xmlns=\"http://www.w3.org/1999/xhtml\" style=\"display: table-cell; white-space: nowrap; line-height: 1.5; max-width: 200px; text-align: center;\"><span class=\"nodeLabel \"><p>Array Properties</p></span></div></foreignObject></g></g></g><g class=\"edgePaths\"/><g class=\"edgeLabels\"/><g class=\"nodes\"><g class=\"node default  \" id=\"flowchart-F1-12\" transform=\"translate(175.5, 70)\"><rect class=\"basic label-container\" style=\"\" x=\"-88.9296875\" y=\"-27\" width=\"177.859375\" height=\"54\"/><g class=\"label\" style=\"\" transform=\"translate(-58.9296875, -12)\"><rect/><foreignObject width=\"117.859375\" height=\"24\"><div xmlns=\"http://www.w3.org/1999/xhtml\" style=\"display: table-cell; white-space: nowrap; line-height: 1.5; max-width: 200px; text-align: center;\"><span class=\"nodeLabel \"><p>drinks.length = 4</p></span></div></foreignObject></g></g><g class=\"node default  \" id=\"flowchart-F2-13\" transform=\"translate(175.5, 174)\"><rect class=\"basic label-container\" style=\"\" x=\"-110.9140625\" y=\"-27\" width=\"221.828125\" height=\"54\"/><g class=\"label\" style=\"\" transform=\"translate(-80.9140625, -12)\"><rect/><foreignObject width=\"161.828125\" height=\"24\"><div xmlns=\"http://www.w3.org/1999/xhtml\" style=\"display: table-cell; white-space: nowrap; line-height: 1.5; max-width: 200px; text-align: center;\"><span class=\"nodeLabel \"><p>First element: drinks[0]</p></span></div></foreignObject></g></g><g class=\"node default  \" id=\"flowchart-F3-14\" transform=\"translate(175.5, 290)\"><rect class=\"basic label-container\" style=\"\" x=\"-130\" y=\"-39\" width=\"260\" height=\"78\"/><g class=\"label\" style=\"\" transform=\"translate(-100, -24)\"><rect/><foreignObject width=\"200\" height=\"48\"><div xmlns=\"http://www.w3.org/1999/xhtml\" style=\"display: table; white-space: break-spaces; line-height: 1.5; max-width: 200px; text-align: center; width: 200px;\"><span class=\"nodeLabel \"><p>Last element: drinks[drinks.length - 1]</p></span></div></foreignObject></g></g></g></g><g class=\"root\" transform=\"translate(385, 0)\"><g class=\"clusters\"><g class=\"cluster \" id=\"subGraph0\" data-look=\"classic\"><rect style=\"\" x=\"8\" y=\"8\" width=\"479.34375\" height=\"436\"/><g class=\"cluster-label \" transform=\"translate(193.875, 8)\"><foreignObject width=\"107.59375\" height=\"24\"><div xmlns=\"http://www.w3.org/1999/xhtml\" style=\"display: table-cell; white-space: nowrap; line-height: 1.5; max-width: 200px; text-align: center;\"><span class=\"nodeLabel \"><p>Array Structure</p></span></div></foreignObject></g></g></g><g class=\"edgePaths\"><path d=\"M162.438,70L168.688,70C174.938,70,187.438,70,202.482,70C217.526,70,235.115,70,243.909,70L252.703,70\" id=\"L_E1_D1_0\" class=\" edge-thickness-normal edge-pattern-solid edge-thickness-normal edge-pattern-solid flowchart-link\" style=\"\" marker-end=\"url(#mermaid-svg_flowchart-v2-pointEnd)\"/><path d=\"M162.438,174L168.688,174C174.938,174,187.438,174,199.271,174C211.104,174,222.271,174,227.854,174L233.438,174\" id=\"L_E2_D2_0\" class=\" edge-thickness-normal edge-pattern-solid edge-thickness-normal edge-pattern-solid flowchart-link\" style=\"\" marker-end=\"url(#mermaid-svg_flowchart-v2-pointEnd)\"/><path d=\"M162.438,278L168.688,278C174.938,278,187.438,278,201.866,278C216.294,278,232.651,278,240.829,278L249.008,278\" id=\"L_E3_D3_0\" class=\" edge-thickness-normal edge-pattern-solid edge-thickness-normal edge-pattern-solid flowchart-link\" style=\"\" marker-end=\"url(#mermaid-svg_flowchart-v2-pointEnd)\"/><path d=\"M162.438,382L168.688,382C174.938,382,187.438,382,201.789,382C216.141,382,232.344,382,240.445,382L248.547,382\" id=\"L_E4_D4_0\" class=\" edge-thickness-normal edge-pattern-solid edge-thickness-normal edge-pattern-solid flowchart-link\" style=\"\" marker-end=\"url(#mermaid-svg_flowchart-v2-pointEnd)\"/></g><g class=\"edgeLabels\"><g class=\"edgeLabel\"><g class=\"label\" transform=\"translate(0, 0)\"><foreignObject width=\"0\" height=\"0\"><div xmlns=\"http://www.w3.org/1999/xhtml\" class=\"labelBkg\" style=\"display: table-cell; white-space: nowrap; line-height: 1.5; max-width: 200px; text-align: center;\"><span class=\"edgeLabel \"/></div></foreignObject></g></g><g class=\"edgeLabel\"><g class=\"label\" transform=\"translate(0, 0)\"><foreignObject width=\"0\" height=\"0\"><div xmlns=\"http://www.w3.org/1999/xhtml\" class=\"labelBkg\" style=\"display: table-cell; white-space: nowrap; line-height: 1.5; max-width: 200px; text-align: center;\"><span class=\"edgeLabel \"/></div></foreignObject></g></g><g class=\"edgeLabel\"><g class=\"label\" transform=\"translate(0, 0)\"><foreignObject width=\"0\" height=\"0\"><div xmlns=\"http://www.w3.org/1999/xhtml\" class=\"labelBkg\" style=\"display: table-cell; white-space: nowrap; line-height: 1.5; max-width: 200px; text-align: center;\"><span class=\"edgeLabel \"/></div></foreignObject></g></g><g class=\"edgeLabel\"><g class=\"label\" transform=\"translate(0, 0)\"><foreignObject width=\"0\" height=\"0\"><div xmlns=\"http://www.w3.org/1999/xhtml\" class=\"labelBkg\" style=\"display: table-cell; white-space: nowrap; line-height: 1.5; max-width: 200px; text-align: center;\"><span class=\"edgeLabel \"/></div></foreignObject></g></g></g><g class=\"nodes\"><g class=\"node default  \" id=\"flowchart-D1-0\" transform=\"translate(343.640625, 70)\"><rect class=\"basic label-container\" style=\"fill:#c8e6c9 !important\" x=\"-86.9375\" y=\"-27\" width=\"173.875\" height=\"54\"/><g class=\"label\" style=\"\" transform=\"translate(-56.9375, -12)\"><rect/><foreignObject width=\"113.875\" height=\"24\"><div xmlns=\"http://www.w3.org/1999/xhtml\" style=\"display: table-cell; white-space: nowrap; line-height: 1.5; max-width: 200px; text-align: center;\"><span class=\"nodeLabel \"><p>drinks[0] = 'Duff'</p></span></div></foreignObject></g></g><g class=\"node default  \" id=\"flowchart-E1-4\" transform=\"translate(103.96875, 70)\"><rect class=\"basic label-container\" style=\"\" x=\"-58.46875\" y=\"-27\" width=\"116.9375\" height=\"54\"/><g class=\"label\" style=\"\" transform=\"translate(-28.46875, -12)\"><rect/><foreignObject width=\"56.9375\" height=\"24\"><div xmlns=\"http://www.w3.org/1999/xhtml\" style=\"display: table-cell; white-space: nowrap; line-height: 1.5; max-width: 200px; text-align: center;\"><span class=\"nodeLabel \"><p>Index: 0</p></span></div></foreignObject></g></g><g class=\"node default  \" id=\"flowchart-E2-6\" transform=\"translate(103.96875, 174)\"><rect class=\"basic label-container\" style=\"\" x=\"-58.46875\" y=\"-27\" width=\"116.9375\" height=\"54\"/><g class=\"label\" style=\"\" transform=\"translate(-28.46875, -12)\"><rect/><foreignObject width=\"56.9375\" height=\"24\"><div xmlns=\"http://www.w3.org/1999/xhtml\" style=\"display: table-cell; white-space: nowrap; line-height: 1.5; max-width: 200px; text-align: center;\"><span class=\"nodeLabel \"><p>Index: 1</p></span></div></foreignObject></g></g><g class=\"node default  \" id=\"flowchart-D2-1\" transform=\"translate(343.640625, 174)\"><rect class=\"basic label-container\" style=\"fill:#c8e6c9 !important\" x=\"-106.203125\" y=\"-27\" width=\"212.40625\" height=\"54\"/><g class=\"label\" style=\"\" transform=\"translate(-76.203125, -12)\"><rect/><foreignObject width=\"152.40625\" height=\"24\"><div xmlns=\"http://www.w3.org/1999/xhtml\" style=\"display: table-cell; white-space: nowrap; line-height: 1.5; max-width: 200px; text-align: center;\"><span class=\"nodeLabel \"><p>drinks[1] = 'Guinness'</p></span></div></foreignObject></g></g><g class=\"node default  \" id=\"flowchart-E3-8\" transform=\"translate(103.96875, 278)\"><rect class=\"basic label-container\" style=\"\" x=\"-58.46875\" y=\"-27\" width=\"116.9375\" height=\"54\"/><g class=\"label\" style=\"\" transform=\"translate(-28.46875, -12)\"><rect/><foreignObject width=\"56.9375\" height=\"24\"><div xmlns=\"http://www.w3.org/1999/xhtml\" style=\"display: table-cell; white-space: nowrap; line-height: 1.5; max-width: 200px; text-align: center;\"><span class=\"nodeLabel \"><p>Index: 2</p></span></div></foreignObject></g></g><g class=\"node default  \" id=\"flowchart-D3-2\" transform=\"translate(343.640625, 278)\"><rect class=\"basic label-container\" style=\"fill:#c8e6c9 !important\" x=\"-90.6328125\" y=\"-27\" width=\"181.265625\" height=\"54\"/><g class=\"label\" style=\"\" transform=\"translate(-60.6328125, -12)\"><rect/><foreignObject width=\"121.265625\" height=\"24\"><div xmlns=\"http://www.w3.org/1999/xhtml\" style=\"display: table-cell; white-space: nowrap; line-height: 1.5; max-width: 200px; text-align: center;\"><span class=\"nodeLabel \"><p>drinks[2] = 'Wine'</p></span></div></foreignObject></g></g><g class=\"node default  \" id=\"flowchart-E4-10\" transform=\"translate(103.96875, 382)\"><rect class=\"basic label-container\" style=\"\" x=\"-58.46875\" y=\"-27\" width=\"116.9375\" height=\"54\"/><g class=\"label\" style=\"\" transform=\"translate(-28.46875, -12)\"><rect/><foreignObject width=\"56.9375\" height=\"24\"><div xmlns=\"http://www.w3.org/1999/xhtml\" style=\"display: table-cell; white-space: nowrap; line-height: 1.5; max-width: 200px; text-align: center;\"><span class=\"nodeLabel \"><p>Index: 3</p></span></div></foreignObject></g></g><g class=\"node default  \" id=\"flowchart-D4-3\" transform=\"translate(343.640625, 382)\"><rect class=\"basic label-container\" style=\"fill:#c8e6c9 !important\" x=\"-91.09375\" y=\"-27\" width=\"182.1875\" height=\"54\"/><g class=\"label\" style=\"\" transform=\"translate(-61.09375, -12)\"><rect/><foreignObject width=\"122.1875\" height=\"24\"><div xmlns=\"http://www.w3.org/1999/xhtml\" style=\"display: table-cell; white-space: nowrap; line-height: 1.5; max-width: 200px; text-align: center;\"><span class=\"nodeLabel \"><p>drinks[3] = 'Soda'</p></span></div></foreignObject></g></g></g></g></g></g></g></svg>"
          },
          "metadata": {}
        }
      ]
    },
    {
      "cell_type": "markdown",
      "source": [
        "## Array .length Property 📏\n",
        "\n",
        "Every array has a built-in property called `length` that tells you how many elements it contains.\n",
        "\n",
        "**Syntax:**\n",
        "```java\n",
        "arrayName.length\n",
        "```\n",
        "\n",
        "**Important:** It's `length` (no parentheses), not `length()`!\n",
        "\n",
        "### Basic Examples\n",
        "\n",
        "```java\n",
        "String[] tapBeers = {\"Duff\", \"Budweiser\", \"Miller\"};\n",
        "System.out.println(\"Moe's has \" + tapBeers.length + \" beers on tap\");\n",
        "// Output: Moe's has 3 beers on tap\n",
        "\n",
        "String[] customers = {\"Barney\", \"Homer\", \"Carl\", \"Lenny\"};\n",
        "System.out.println(\"Customers tonight: \" + customers.length);\n",
        "// Output: Customers tonight: 4\n",
        "```\n",
        "\n",
        "### Finding the Last Element\n",
        "\n",
        "Since arrays start at index 0, the last element is always at index `length - 1`:\n",
        "\n",
        "```java\n",
        "String[] drinks = {\"Beer\", \"Wine\", \"Soda\"};\n",
        "// Indices:      0      1      2\n",
        "\n",
        "int lastIndex = drinks.length - 1;  // 3 - 1 = 2\n",
        "System.out.println(\"Last option: \" + drinks[lastIndex]);  // \"Soda\"\n",
        "```\n",
        "\n",
        "### Quick Inventory Check\n",
        "\n",
        "```java\n",
        "String[] menu = {\"Duff\", \"Guinness\", \"Wine\", \"Whiskey\"};\n",
        "int[] stock = {45, 12, 25, 30};\n",
        "\n",
        "System.out.println(\"Menu items: \" + menu.length);\n",
        "System.out.println(\"Stock entries: \" + stock.length);\n",
        "\n",
        "if (menu.length == stock.length) {\n",
        "    System.out.println(\"✓ Inventory data matches\");\n",
        "} else {\n",
        "    System.out.println(\"⚠️ Data mismatch!\");\n",
        "}\n",
        "```\n",
        "\n",
        "### Key Points\n",
        "\n",
        "- **No Parentheses:** `array.length` not `array.length()`\n",
        "- **Last Index:** Always `array.length - 1`\n",
        "- **Useful for:** Getting counts, finding last elements, checking data consistency\n",
        "\n",
        "Think of `.length` as asking \"How many?\" - it gives you the count instantly! 🍺🔢"
      ],
      "metadata": {
        "id": "IOg2fS1Qm3aU"
      }
    },
    {
      "cell_type": "markdown",
      "source": [
        "## Problem: Build Moe's Menu Display System\n",
        "\n",
        "**The Situation**  \n",
        "Moe wants to create a simple menu display system using arrays. Help him practice working with different types of arrays and accessing specific elements!\n",
        "\n",
        "**The Code**\n"
      ],
      "metadata": {
        "id": "KcN8U9jCEU5n"
      }
    },
    {
      "cell_type": "code",
      "source": [
        "%%writefile MoesMenuSystem.java\n",
        "public class MoesMenuSystem {\n",
        "    public static void main(String[] args) {\n",
        "\n",
        "        System.out.println(\"=== MOE'S TAVERN MENU ===\");\n",
        "\n",
        "        // TODO 1: Create three arrays for Moe's menu\n",
        "        // Create a String array called \"drinkNames\" with: \"Duff Beer\", \"House Wine\", \"Soda\", \"Whiskey\"\n",
        "        // Create a double array called \"prices\" with: 3.50, 6.00, 2.00, 7.50\n",
        "        // Create an int array called \"stockLevels\" with: 25, 15, 50, 12\n",
        "\n",
        "\n",
        "        // TODO 2: Display basic menu information\n",
        "        // Print how many items are on the menu using .length\n",
        "        // Format: \"Menu has X items available\"\n",
        "\n",
        "\n",
        "        // TODO 3: Show the first and last menu items\n",
        "        // Display the first drink name and price\n",
        "        // Display the last drink name and price\n",
        "        // Format: \"First item: [name] - $[price]\"\n",
        "        // Format: \"Last item: [name] - $[price]\"\n",
        "        // HINT: last index is array.length - 1\n",
        "\n",
        "\n",
        "        // TODO 4: Compare two specific drinks\n",
        "        // Compare the price of the first drink vs the third drink\n",
        "        // Print which one is more expensive\n",
        "        // Format: \"[drink name] costs more than [drink name]\"\n",
        "\n",
        "\n",
        "        // TODO 5: Check stock levels\n",
        "        // Display the stock level for the second item (index 1)\n",
        "        // If stock is less than 20, print \"LOW STOCK WARNING!\"\n",
        "        // Otherwise print \"Stock level OK\"\n",
        "\n",
        "    }\n",
        "}\n"
      ],
      "metadata": {
        "colab": {
          "base_uri": "https://localhost:8080/"
        },
        "id": "U3OmGyxQEgCF",
        "outputId": "ce479056-f01c-437c-bb01-8b2d69032250"
      },
      "execution_count": null,
      "outputs": [
        {
          "output_type": "stream",
          "name": "stdout",
          "text": [
            "Writing MoesMenuSystem.java\n"
          ]
        }
      ]
    },
    {
      "cell_type": "code",
      "source": [
        "!javac MoesMenuSystem.java\n",
        "!java MoesMenuSystem"
      ],
      "metadata": {
        "id": "tV81ntTnElKP"
      },
      "execution_count": null,
      "outputs": []
    },
    {
      "cell_type": "markdown",
      "source": [
        "**Expected Output**  \n",
        "\n",
        "```\n",
        "=== MOE'S TAVERN MENU ===\n",
        "\n",
        "Menu has 4 items available.\n",
        "\n",
        "First item: Duff Beer - $3.50\n",
        "Last item: Whiskey - $7.50\n",
        "\n",
        "Duff Beer costs more than Soda.\n",
        "\n",
        "Checking stock for House Wine...\n",
        "Current stock: 15\n",
        "LOW STOCK WARNING!\n",
        "```\n",
        "\n",
        "**Hints**\n",
        "- Array indices start at 0, so the first element is array[0]\n",
        "- The last element is at index array.length - 1\n",
        "- Use if-else to compare values and make decisions\n",
        "- Remember to create your arrays before trying to use them!"
      ],
      "metadata": {
        "id": "_9BnorM0EZTg"
      }
    },
    {
      "cell_type": "markdown",
      "source": [
        "## Introduction to Loops 🔄\n",
        "\n",
        "Imagine Moe wants to greet 10 customers. Without loops, you'd write:\n",
        "\n",
        "```java\n",
        "System.out.println(\"Welcome customer #1!\");\n",
        "System.out.println(\"Welcome customer #2!\");\n",
        "System.out.println(\"Welcome customer #3!\");\n",
        "System.out.println(\"Welcome customer #4!\");\n",
        "System.out.println(\"Welcome customer #5!\");\n",
        "// ... and so on for all 10 customers\n",
        "```\n",
        "\n",
        "This is tedious, error-prone, and doesn't scale well!\n",
        "\n",
        "### What Are Loops?\n",
        "\n",
        "**Loops** let you repeat code multiple times without writing it over and over. They're like giving Moe instructions: \"Do this greeting for every customer who walks in.\"\n",
        "\n",
        "### When Moe's Tavern Uses Repetition\n",
        "\n",
        "**Daily Operations:**\n",
        "- Check the ID of every customer entering\n",
        "- Take orders from each person at the bar\n",
        "- Clean each glass after closing\n",
        "- Count money in the register\n",
        "\n",
        "**Business Management:**\n",
        "- Print receipts for all daily transactions\n",
        "- Check inventory levels for all drinks\n",
        "- Send loyalty point updates to all members\n",
        "- Calculate tips for all servers\n",
        "\n",
        "### Types of Loops in Java\n",
        "\n",
        "**for loops:** When you know how many times to repeat\n",
        "- \"Serve 5 customers\"\n",
        "- \"Check all 10 beer taps\"  \n",
        "- \"Process every item in the menu\"\n",
        "\n",
        "**while loops:** When you repeat until a condition changes\n",
        "- \"Keep serving until closing time\"\n",
        "- \"Take orders while customers are waiting\"\n",
        "- \"Keep the music playing while people are dancing\"\n",
        "\n",
        "### Loop Benefits\n",
        "\n",
        "**Less Code:** Write once, repeat many times\n",
        "**Fewer Errors:** No copy-paste mistakes\n",
        "**Flexibility:** Easy to change how many times something repeats\n",
        "**Scalability:** Works with any amount of data\n",
        "\n",
        "Instead of this repetitive mess:\n",
        "```java\n",
        "System.out.println(\"Checking \" + drinks[0]);\n",
        "System.out.println(\"Checking \" + drinks[1]);\n",
        "System.out.println(\"Checking \" + drinks[2]);\n",
        "System.out.println(\"Checking \" + drinks[3]);\n",
        "System.out.println(\"Checking \" + drinks[4]);\n",
        "```\n",
        "\n",
        "We can use a loop:\n",
        "```java\n",
        "for (int i = 0; i < drinks.length; i++) {\n",
        "    System.out.println(\"Checking \" + drinks[i]);\n",
        "}\n",
        "```\n",
        "\n",
        "**Much cleaner, and it works with any number of drinks!**\n",
        "\n",
        "Think of loops as Moe's way of being efficient - instead of writing out every single task, he creates a routine that he can repeat as many times as needed! 🍺⚡"
      ],
      "metadata": {
        "id": "Oky5IRu3narr"
      }
    },
    {
      "cell_type": "markdown",
      "source": [
        "## for Loops - Basic Structure 🏗️\n",
        "The basic syntax of a **for loop** is as follows:\n",
        "\n",
        "```java\n",
        "for (initialization; condition; increment) {\n",
        "    // Code to repeat\n",
        "}\n",
        "```\n",
        "\n",
        "### Breaking Down the Parts\n",
        "\n",
        "**1. Initialization:** `int i = 0`\n",
        "- Creates a counter variable (usually `i` for \"index\")\n",
        "- Sets the starting value\n",
        "- Runs only once at the beginning\n",
        "\n",
        "**2. Condition:** `i < 5`\n",
        "- Checked before each loop iteration\n",
        "- If true, the loop runs\n",
        "- If false, the loop stops\n",
        "\n",
        "**3. Increment:** `i++`\n",
        "- Runs after each loop iteration\n",
        "- Usually increases the counter (`i++` means `i = i + 1`)\n",
        "\n",
        "**4. Loop Body:** `{ /* code */ }`\n",
        "- The code that gets repeated\n",
        "\n",
        "### Simple Counting Example\n",
        "\n",
        "```java\n",
        "for (int customer = 1; customer <= 5; customer++) {\n",
        "    System.out.println(\"Serving customer #\" + customer);\n",
        "}\n",
        "```\n",
        "\n",
        "**What happens:**\n",
        "1. `customer` starts at 1\n",
        "2. Check: is 1 <= 5? Yes, so print \"Serving customer #1\"\n",
        "3. Increment: customer becomes 2\n",
        "4. Check: is 2 <= 5? Yes, so print \"Serving customer #2\"\n",
        "5. Continue until customer becomes 6\n",
        "6. Check: is 6 <= 5? No, so stop the loop\n",
        "\n",
        "**Output:**\n",
        "```\n",
        "Serving customer #1\n",
        "Serving customer #2\n",
        "Serving customer #3\n",
        "Serving customer #4\n",
        "Serving customer #5\n",
        "```\n",
        "\n",
        "### Moe's Closing Time Routine\n",
        "\n",
        "```java\n",
        "System.out.println(\"Starting closing procedures...\");\n",
        "\n",
        "for (int table = 1; table <= 8; table++) {\n",
        "    System.out.println(\"Cleaning table #\" + table);\n",
        "}\n",
        "\n",
        "System.out.println(\"All tables cleaned!\");\n",
        "```\n",
        "\n",
        "### Common for Loop Patterns\n",
        "\n",
        "**Counting up from 0:**\n",
        "```java\n",
        "for (int i = 0; i < 10; i++) {\n",
        "    System.out.println(\"Count: \" + i);  // Prints 0, 1, 2, ..., 9\n",
        "}\n",
        "```\n",
        "\n",
        "**Counting up from 1:**\n",
        "```java\n",
        "for (int i = 1; i <= 10; i++) {\n",
        "    System.out.println(\"Count: \" + i);  // Prints 1, 2, 3, ..., 10\n",
        "}\n",
        "```\n",
        "\n",
        "**Counting by 2s:**\n",
        "```java\n",
        "for (int i = 0; i < 10; i += 2) {\n",
        "    System.out.println(\"Even number: \" + i);  // Prints 0, 2, 4, 6, 8\n",
        "}\n",
        "```\n",
        "\n",
        "### Understanding i++\n",
        "\n",
        "`i++` is shorthand for `i = i + 1`:\n",
        "\n",
        "```java\n",
        "// These are equivalent:\n",
        "i++;\n",
        "i = i + 1;\n",
        "i += 1;\n",
        "```\n",
        "\n",
        "### for Loop Visualization\n",
        "\n",
        "```\n",
        "for (int i = 0; i < 3; i++)\n",
        "\n",
        "Iteration 1: i = 0, check 0 < 3 (true), run code, then i becomes 1\n",
        "Iteration 2: i = 1, check 1 < 3 (true), run code, then i becomes 2  \n",
        "Iteration 3: i = 2, check 2 < 3 (true), run code, then i becomes 3\n",
        "Iteration 4: i = 3, check 3 < 3 (false), STOP\n",
        "```\n",
        "\n",
        "Think of a for loop like Moe following a recipe: \"Do this step, then move to the next number, keep going until you reach the end!\" 🍺🔢"
      ],
      "metadata": {
        "id": "BBgZfH5TnzK-"
      }
    },
    {
      "cell_type": "code",
      "source": [
        "# @title\n",
        "mm(\"\"\"\n",
        "graph TD\n",
        "    G1[Initialize: i = 0] --> G2{Condition: i < array.length}\n",
        "    G2 -->|True| G3[Execute Loop Body]\n",
        "    G3 --> G4[Increment: i++]\n",
        "    G4 --> G2\n",
        "    G2 -->|False| G5[Exit Loop]\n",
        "\n",
        "    style G2 fill:#e1f5fe\n",
        "    style G3 fill:#c8e6c9\"\"\")"
      ],
      "metadata": {
        "cellView": "form",
        "id": "EZatU3gww9Ps",
        "outputId": "2f25b2b5-5603-4c26-d228-accaed76ad98",
        "colab": {
          "base_uri": "https://localhost:8080/",
          "height": 609
        }
      },
      "execution_count": null,
      "outputs": [
        {
          "output_type": "display_data",
          "data": {
            "text/plain": [
              "<IPython.core.display.SVG object>"
            ],
            "image/svg+xml": "<svg xmlns=\"http://www.w3.org/2000/svg\" xmlns:xlink=\"http://www.w3.org/1999/xlink\" id=\"mermaid-svg\" width=\"100%\" class=\"flowchart\" style=\"max-width: 446.421875px;\" viewBox=\"0 0 446.421875 587.59375\" role=\"graphics-document document\" aria-roledescription=\"flowchart-v2\"><style xmlns=\"http://www.w3.org/1999/xhtml\">@import url(&quot;https://cdnjs.cloudflare.com/ajax/libs/font-awesome/6.7.2/css/all.min.css&quot;);</style><style>#mermaid-svg{font-family:&quot;trebuchet ms&quot;,verdana,arial,sans-serif;font-size:16px;fill:#333;}@keyframes edge-animation-frame{from{stroke-dashoffset:0;}}@keyframes dash{to{stroke-dashoffset:0;}}#mermaid-svg .edge-animation-slow{stroke-dasharray:9,5!important;stroke-dashoffset:900;animation:dash 50s linear infinite;stroke-linecap:round;}#mermaid-svg .edge-animation-fast{stroke-dasharray:9,5!important;stroke-dashoffset:900;animation:dash 20s linear infinite;stroke-linecap:round;}#mermaid-svg .error-icon{fill:#552222;}#mermaid-svg .error-text{fill:#552222;stroke:#552222;}#mermaid-svg .edge-thickness-normal{stroke-width:1px;}#mermaid-svg .edge-thickness-thick{stroke-width:3.5px;}#mermaid-svg .edge-pattern-solid{stroke-dasharray:0;}#mermaid-svg .edge-thickness-invisible{stroke-width:0;fill:none;}#mermaid-svg .edge-pattern-dashed{stroke-dasharray:3;}#mermaid-svg .edge-pattern-dotted{stroke-dasharray:2;}#mermaid-svg .marker{fill:#333333;stroke:#333333;}#mermaid-svg .marker.cross{stroke:#333333;}#mermaid-svg svg{font-family:&quot;trebuchet ms&quot;,verdana,arial,sans-serif;font-size:16px;}#mermaid-svg p{margin:0;}#mermaid-svg .label{font-family:&quot;trebuchet ms&quot;,verdana,arial,sans-serif;color:#333;}#mermaid-svg .cluster-label text{fill:#333;}#mermaid-svg .cluster-label span{color:#333;}#mermaid-svg .cluster-label span p{background-color:transparent;}#mermaid-svg .label text,#mermaid-svg span{fill:#333;color:#333;}#mermaid-svg .node rect,#mermaid-svg .node circle,#mermaid-svg .node ellipse,#mermaid-svg .node polygon,#mermaid-svg .node path{fill:#ECECFF;stroke:#9370DB;stroke-width:1px;}#mermaid-svg .rough-node .label text,#mermaid-svg .node .label text,#mermaid-svg .image-shape .label,#mermaid-svg .icon-shape .label{text-anchor:middle;}#mermaid-svg .node .katex path{fill:#000;stroke:#000;stroke-width:1px;}#mermaid-svg .rough-node .label,#mermaid-svg .node .label,#mermaid-svg .image-shape .label,#mermaid-svg .icon-shape .label{text-align:center;}#mermaid-svg .node.clickable{cursor:pointer;}#mermaid-svg .root .anchor path{fill:#333333!important;stroke-width:0;stroke:#333333;}#mermaid-svg .arrowheadPath{fill:#333333;}#mermaid-svg .edgePath .path{stroke:#333333;stroke-width:2.0px;}#mermaid-svg .flowchart-link{stroke:#333333;fill:none;}#mermaid-svg .edgeLabel{background-color:rgba(232,232,232, 0.8);text-align:center;}#mermaid-svg .edgeLabel p{background-color:rgba(232,232,232, 0.8);}#mermaid-svg .edgeLabel rect{opacity:0.5;background-color:rgba(232,232,232, 0.8);fill:rgba(232,232,232, 0.8);}#mermaid-svg .labelBkg{background-color:rgba(232, 232, 232, 0.5);}#mermaid-svg .cluster rect{fill:#ffffde;stroke:#aaaa33;stroke-width:1px;}#mermaid-svg .cluster text{fill:#333;}#mermaid-svg .cluster span{color:#333;}#mermaid-svg div.mermaidTooltip{position:absolute;text-align:center;max-width:200px;padding:2px;font-family:&quot;trebuchet ms&quot;,verdana,arial,sans-serif;font-size:12px;background:hsl(80, 100%, 96.2745098039%);border:1px solid #aaaa33;border-radius:2px;pointer-events:none;z-index:100;}#mermaid-svg .flowchartTitleText{text-anchor:middle;font-size:18px;fill:#333;}#mermaid-svg rect.text{fill:none;stroke-width:0;}#mermaid-svg .icon-shape,#mermaid-svg .image-shape{background-color:rgba(232,232,232, 0.8);text-align:center;}#mermaid-svg .icon-shape p,#mermaid-svg .image-shape p{background-color:rgba(232,232,232, 0.8);padding:2px;}#mermaid-svg .icon-shape rect,#mermaid-svg .image-shape rect{opacity:0.5;background-color:rgba(232,232,232, 0.8);fill:rgba(232,232,232, 0.8);}#mermaid-svg .label-icon{display:inline-block;height:1em;overflow:visible;vertical-align:-0.125em;}#mermaid-svg .node .label-icon path{fill:currentColor;stroke:revert;stroke-width:revert;}#mermaid-svg :root{--mermaid-font-family:&quot;trebuchet ms&quot;,verdana,arial,sans-serif;}</style><g><marker id=\"mermaid-svg_flowchart-v2-pointEnd\" class=\"marker flowchart-v2\" viewBox=\"0 0 10 10\" refX=\"5\" refY=\"5\" markerUnits=\"userSpaceOnUse\" markerWidth=\"8\" markerHeight=\"8\" orient=\"auto\"><path d=\"M 0 0 L 10 5 L 0 10 z\" class=\"arrowMarkerPath\" style=\"stroke-width: 1; stroke-dasharray: 1, 0;\"/></marker><marker id=\"mermaid-svg_flowchart-v2-pointStart\" class=\"marker flowchart-v2\" viewBox=\"0 0 10 10\" refX=\"4.5\" refY=\"5\" markerUnits=\"userSpaceOnUse\" markerWidth=\"8\" markerHeight=\"8\" orient=\"auto\"><path d=\"M 0 5 L 10 10 L 10 0 z\" class=\"arrowMarkerPath\" style=\"stroke-width: 1; stroke-dasharray: 1, 0;\"/></marker><marker id=\"mermaid-svg_flowchart-v2-circleEnd\" class=\"marker flowchart-v2\" viewBox=\"0 0 10 10\" refX=\"11\" refY=\"5\" markerUnits=\"userSpaceOnUse\" markerWidth=\"11\" markerHeight=\"11\" orient=\"auto\"><circle cx=\"5\" cy=\"5\" r=\"5\" class=\"arrowMarkerPath\" style=\"stroke-width: 1; stroke-dasharray: 1, 0;\"/></marker><marker id=\"mermaid-svg_flowchart-v2-circleStart\" class=\"marker flowchart-v2\" viewBox=\"0 0 10 10\" refX=\"-1\" refY=\"5\" markerUnits=\"userSpaceOnUse\" markerWidth=\"11\" markerHeight=\"11\" orient=\"auto\"><circle cx=\"5\" cy=\"5\" r=\"5\" class=\"arrowMarkerPath\" style=\"stroke-width: 1; stroke-dasharray: 1, 0;\"/></marker><marker id=\"mermaid-svg_flowchart-v2-crossEnd\" class=\"marker cross flowchart-v2\" viewBox=\"0 0 11 11\" refX=\"12\" refY=\"5.2\" markerUnits=\"userSpaceOnUse\" markerWidth=\"11\" markerHeight=\"11\" orient=\"auto\"><path d=\"M 1,1 l 9,9 M 10,1 l -9,9\" class=\"arrowMarkerPath\" style=\"stroke-width: 2; stroke-dasharray: 1, 0;\"/></marker><marker id=\"mermaid-svg_flowchart-v2-crossStart\" class=\"marker cross flowchart-v2\" viewBox=\"0 0 11 11\" refX=\"-1\" refY=\"5.2\" markerUnits=\"userSpaceOnUse\" markerWidth=\"11\" markerHeight=\"11\" orient=\"auto\"><path d=\"M 1,1 l 9,9 M 10,1 l -9,9\" class=\"arrowMarkerPath\" style=\"stroke-width: 2; stroke-dasharray: 1, 0;\"/></marker><g class=\"root\"><g class=\"clusters\"/><g class=\"edgePaths\"><path d=\"M320.125,62L320.125,66.167C320.125,70.333,320.125,78.667,320.195,86.417C320.266,94.167,320.406,101.334,320.476,104.917L320.547,108.501\" id=\"L_G1_G2_0\" class=\" edge-thickness-normal edge-pattern-solid edge-thickness-normal edge-pattern-solid flowchart-link\" style=\"\" marker-end=\"url(#mermaid-svg_flowchart-v2-pointEnd)\"/><path d=\"M252.441,279.91L228.264,297.357C204.088,314.804,155.735,349.699,131.559,372.646C107.383,395.594,107.383,406.594,107.383,412.094L107.383,417.594\" id=\"L_G2_G3_0\" class=\" edge-thickness-normal edge-pattern-solid edge-thickness-normal edge-pattern-solid flowchart-link\" style=\"\" marker-end=\"url(#mermaid-svg_flowchart-v2-pointEnd)\"/><path d=\"M107.383,475.594L107.383,479.76C107.383,483.927,107.383,492.26,119.215,500.382C131.046,508.504,154.71,516.415,166.541,520.37L178.373,524.326\" id=\"L_G3_G4_0\" class=\" edge-thickness-normal edge-pattern-solid edge-thickness-normal edge-pattern-solid flowchart-link\" style=\"\" marker-end=\"url(#mermaid-svg_flowchart-v2-pointEnd)\"/><path d=\"M343.7,525.594L356.164,521.427C368.628,517.26,393.556,508.927,406.02,496.094C418.484,483.26,418.484,465.927,418.484,446.594C418.484,427.26,418.484,405.927,410.159,382.112C401.834,358.298,385.183,332.001,376.858,318.853L368.533,305.705\" id=\"L_G4_G2_0\" class=\" edge-thickness-normal edge-pattern-solid edge-thickness-normal edge-pattern-solid flowchart-link\" style=\"\" marker-end=\"url(#mermaid-svg_flowchart-v2-pointEnd)\"/><path d=\"M320.625,348.094L320.542,354.177C320.458,360.26,320.292,372.427,320.208,384.01C320.125,395.594,320.125,406.594,320.125,412.094L320.125,417.594\" id=\"L_G2_G5_0\" class=\" edge-thickness-normal edge-pattern-solid edge-thickness-normal edge-pattern-solid flowchart-link\" style=\"\" marker-end=\"url(#mermaid-svg_flowchart-v2-pointEnd)\"/></g><g class=\"edgeLabels\"><g class=\"edgeLabel\"><g class=\"label\" transform=\"translate(0, 0)\"><foreignObject width=\"0\" height=\"0\"><div xmlns=\"http://www.w3.org/1999/xhtml\" class=\"labelBkg\" style=\"display: table-cell; white-space: nowrap; line-height: 1.5; max-width: 200px; text-align: center;\"><span class=\"edgeLabel \"/></div></foreignObject></g></g><g class=\"edgeLabel\" transform=\"translate(107.3828125, 384.59375)\"><g class=\"label\" transform=\"translate(-16.15625, -12)\"><foreignObject width=\"32.3125\" height=\"24\"><div xmlns=\"http://www.w3.org/1999/xhtml\" class=\"labelBkg\" style=\"display: table-cell; white-space: nowrap; line-height: 1.5; max-width: 200px; text-align: center;\"><span class=\"edgeLabel \"><p>True</p></span></div></foreignObject></g></g><g class=\"edgeLabel\"><g class=\"label\" transform=\"translate(0, 0)\"><foreignObject width=\"0\" height=\"0\"><div xmlns=\"http://www.w3.org/1999/xhtml\" class=\"labelBkg\" style=\"display: table-cell; white-space: nowrap; line-height: 1.5; max-width: 200px; text-align: center;\"><span class=\"edgeLabel \"/></div></foreignObject></g></g><g class=\"edgeLabel\"><g class=\"label\" transform=\"translate(0, 0)\"><foreignObject width=\"0\" height=\"0\"><div xmlns=\"http://www.w3.org/1999/xhtml\" class=\"labelBkg\" style=\"display: table-cell; white-space: nowrap; line-height: 1.5; max-width: 200px; text-align: center;\"><span class=\"edgeLabel \"/></div></foreignObject></g></g><g class=\"edgeLabel\" transform=\"translate(320.125, 384.59375)\"><g class=\"label\" transform=\"translate(-19.5625, -12)\"><foreignObject width=\"39.125\" height=\"24\"><div xmlns=\"http://www.w3.org/1999/xhtml\" class=\"labelBkg\" style=\"display: table-cell; white-space: nowrap; line-height: 1.5; max-width: 200px; text-align: center;\"><span class=\"edgeLabel \"><p>False</p></span></div></foreignObject></g></g></g><g class=\"nodes\"><g class=\"node default  \" id=\"flowchart-G1-0\" transform=\"translate(320.125, 35)\"><rect class=\"basic label-container\" style=\"\" x=\"-78.6953125\" y=\"-27\" width=\"157.390625\" height=\"54\"/><g class=\"label\" style=\"\" transform=\"translate(-48.6953125, -12)\"><rect/><foreignObject width=\"97.390625\" height=\"24\"><div xmlns=\"http://www.w3.org/1999/xhtml\" style=\"display: table-cell; white-space: nowrap; line-height: 1.5; max-width: 200px; text-align: center;\"><span class=\"nodeLabel \"><p>Initialize: i = 0</p></span></div></foreignObject></g></g><g class=\"node default  \" id=\"flowchart-G2-1\" transform=\"translate(320.125, 229.796875)\"><polygon points=\"117.796875,0 235.59375,-117.796875 117.796875,-235.59375 0,-117.796875\" class=\"label-container\" transform=\"translate(-117.296875, 117.796875)\" style=\"fill:#e1f5fe !important\"/><g class=\"label\" style=\"\" transform=\"translate(-90.796875, -12)\"><rect/><foreignObject width=\"181.59375\" height=\"24\"><div xmlns=\"http://www.w3.org/1999/xhtml\" style=\"display: table-cell; white-space: nowrap; line-height: 1.5; max-width: 200px; text-align: center;\"><span class=\"nodeLabel \"><p>Condition: i &lt; array.length</p></span></div></foreignObject></g></g><g class=\"node default  \" id=\"flowchart-G3-3\" transform=\"translate(107.3828125, 448.59375)\"><rect class=\"basic label-container\" style=\"fill:#c8e6c9 !important\" x=\"-99.3828125\" y=\"-27\" width=\"198.765625\" height=\"54\"/><g class=\"label\" style=\"\" transform=\"translate(-69.3828125, -12)\"><rect/><foreignObject width=\"138.765625\" height=\"24\"><div xmlns=\"http://www.w3.org/1999/xhtml\" style=\"display: table-cell; white-space: nowrap; line-height: 1.5; max-width: 200px; text-align: center;\"><span class=\"nodeLabel \"><p>Execute Loop Body</p></span></div></foreignObject></g></g><g class=\"node default  \" id=\"flowchart-G4-5\" transform=\"translate(262.93359375, 552.59375)\"><rect class=\"basic label-container\" style=\"\" x=\"-81.140625\" y=\"-27\" width=\"162.28125\" height=\"54\"/><g class=\"label\" style=\"\" transform=\"translate(-51.140625, -12)\"><rect/><foreignObject width=\"102.28125\" height=\"24\"><div xmlns=\"http://www.w3.org/1999/xhtml\" style=\"display: table-cell; white-space: nowrap; line-height: 1.5; max-width: 200px; text-align: center;\"><span class=\"nodeLabel \"><p>Increment: i++</p></span></div></foreignObject></g></g><g class=\"node default  \" id=\"flowchart-G5-9\" transform=\"translate(320.125, 448.59375)\"><rect class=\"basic label-container\" style=\"\" x=\"-63.359375\" y=\"-27\" width=\"126.71875\" height=\"54\"/><g class=\"label\" style=\"\" transform=\"translate(-33.359375, -12)\"><rect/><foreignObject width=\"66.71875\" height=\"24\"><div xmlns=\"http://www.w3.org/1999/xhtml\" style=\"display: table-cell; white-space: nowrap; line-height: 1.5; max-width: 200px; text-align: center;\"><span class=\"nodeLabel \"><p>Exit Loop</p></span></div></foreignObject></g></g></g></g></g></svg>"
          },
          "metadata": {}
        }
      ]
    },
    {
      "cell_type": "markdown",
      "source": [
        "## for Loops with Arrays 📋\n",
        "\n",
        "Arrays and for loops work together perfectly! Instead of accessing each array element individually, loops let you process every element with just a few lines of code.\n",
        "\n",
        "### Basic Array Loop Pattern\n",
        "\n",
        "```java\n",
        "for (int i = 0; i < arrayName.length; i++) {\n",
        "    // Use arrayName[i] to access each element\n",
        "}\n",
        "```\n",
        "\n",
        "**Key Points:**\n",
        "- Start at `i = 0` (first array index)\n",
        "- Continue while `i < arrayName.length` (don't go past the end)\n",
        "- Increment with `i++` (move to next element)\n",
        "\n",
        "### Simple Example: Display All Drinks\n",
        "\n",
        "**Without loops (tedious):**\n",
        "```java\n",
        "String[] drinks = {\"Duff\", \"Guinness\", \"Wine\"};\n",
        "System.out.println(\"Available: \" + drinks[0]);\n",
        "System.out.println(\"Available: \" + drinks[1]);\n",
        "System.out.println(\"Available: \" + drinks[2]);\n",
        "```\n",
        "\n",
        "**With loops (elegant):**\n",
        "```java\n",
        "String[] drinks = {\"Duff\", \"Guinness\", \"Wine\"};\n",
        "\n",
        "for (int i = 0; i < drinks.length; i++) {\n",
        "    System.out.println(\"Available: \" + drinks[i]);\n",
        "}\n",
        "```\n",
        "\n",
        "Both produce the same output, but the loop version works with any array size!\n",
        "\n",
        "### Moe's Menu Display\n"
      ],
      "metadata": {
        "id": "NCP6jgkxoE15"
      }
    },
    {
      "cell_type": "code",
      "source": [
        "%%writefile MoesMenuLoop.java\n",
        "public class MoesMenuLoop {\n",
        "    public static void main(String[] args) {\n",
        "        String[] drinkNames = {\"Duff Beer\", \"Guinness\", \"House Wine\", \"Well Whiskey\", \"Soda\"};\n",
        "        double[] prices = {3.50, 5.50, 6.00, 5.00, 2.00};\n",
        "\n",
        "        System.out.println(\"=== MOE'S TAVERN MENU ===\");\n",
        "\n",
        "        for (int i = 0; i < drinkNames.length; i++) {\n",
        "            System.out.println((i + 1) + \". \" + drinkNames[i] + \" - $\" + prices[i]);\n",
        "        }\n",
        "    }\n",
        "}\n"
      ],
      "metadata": {
        "colab": {
          "base_uri": "https://localhost:8080/"
        },
        "id": "OFIAILJhoTev",
        "outputId": "94b00b8e-0372-42b0-8fbd-e06818846376"
      },
      "execution_count": null,
      "outputs": [
        {
          "output_type": "stream",
          "name": "stdout",
          "text": [
            "Writing MoesMenuLoop.java\n"
          ]
        }
      ]
    },
    {
      "cell_type": "code",
      "source": [
        "!javac MoesMenuLoop.java\n",
        "!java MoesMenuLoop"
      ],
      "metadata": {
        "colab": {
          "base_uri": "https://localhost:8080/"
        },
        "id": "uqYy8uGcoUwY",
        "outputId": "809a7e01-96bb-4116-a1f2-5e05c3ee6edc"
      },
      "execution_count": null,
      "outputs": [
        {
          "output_type": "stream",
          "name": "stdout",
          "text": [
            "=== MOE'S TAVERN MENU ===\n",
            "1. Duff Beer - $3.5\n",
            "2. Guinness - $5.5\n",
            "3. House Wine - $6.0\n",
            "4. Well Whiskey - $5.0\n",
            "5. Soda - $2.0\n"
          ]
        }
      ]
    },
    {
      "cell_type": "markdown",
      "source": [
        "### Why Use array.length?\n",
        "\n",
        "Using `array.length` makes your loops flexible:\n",
        "\n",
        "```java\n",
        "// This works for any size array!\n",
        "for (int i = 0; i < drinks.length; i++) {\n",
        "    System.out.println(drinks[i]);\n",
        "}\n",
        "```\n",
        "\n",
        "If you add more drinks to the array, the loop automatically handles them without code changes!\n",
        "\n",
        "### Common Loop Mistakes\n",
        "\n",
        "**Going past array bounds:**\n",
        "```java\n",
        "// WRONG - will crash if i equals drinks.length\n",
        "for (int i = 0; i <= drinks.length; i++) {\n",
        "    System.out.println(drinks[i]);  // Crash when i = drinks.length!\n",
        "}\n",
        "\n",
        "// RIGHT - stops before going too far\n",
        "for (int i = 0; i < drinks.length; i++) {\n",
        "    System.out.println(drinks[i]);  // Safe!\n",
        "}\n",
        "```\n",
        "\n",
        "Think of for loops with arrays like Moe checking every bottle on his shelf systematically - start at the first one, check each in order, and stop when you reach the end! 🍺🔍"
      ],
      "metadata": {
        "id": "V0EzjqlhoPE4"
      }
    },
    {
      "cell_type": "markdown",
      "source": [
        "## Problem - Simple Inventory Check\n",
        "\n",
        "**The Situation**\n",
        "Moe needs to check his inventory and see which items are running low. Help him create a simple stock checker!\n",
        "\n",
        "**The Code:**"
      ],
      "metadata": {
        "id": "jPQB0KN-oatP"
      }
    },
    {
      "cell_type": "code",
      "source": [
        "%%writefile MoesInventory.java\n",
        "public class MoesInventory {\n",
        "    public static void main(String[] args) {\n",
        "        String[] drinkNames = {\"Duff Beer\", \"Guinness\", \"House Wine\"};\n",
        "        int[] stockLevels = {45, 8, 25};\n",
        "\n",
        "        System.out.println(\"=== INVENTORY CHECK ===\");\n",
        "\n",
        "        // TODO 1: Display all inventory with stock alerts\n",
        "        // Use a for loop to check each item\n",
        "        // If stock <= 10: print \"LOW STOCK: [drink] - only [X] left!\"\n",
        "        // Otherwise: print \"OK: [drink] - [X] in stock\"\n",
        "\n",
        "\n",
        "        // TODO 2: Count total items in stock\n",
        "        // Add up all the numbers in stockLevels array\n",
        "        // Print: \"Total items in inventory: [total]\"\n",
        "\n",
        "    }\n",
        "}"
      ],
      "metadata": {
        "colab": {
          "base_uri": "https://localhost:8080/"
        },
        "id": "6pWZoX2lopPt",
        "outputId": "c6a76071-450e-4b6b-8d98-ec9e668016ab"
      },
      "execution_count": null,
      "outputs": [
        {
          "output_type": "stream",
          "name": "stdout",
          "text": [
            "Writing MoesInventorySystem.java\n"
          ]
        }
      ]
    },
    {
      "cell_type": "code",
      "source": [
        "!javac MoesInventory.java\n",
        "!java MoesInventory"
      ],
      "metadata": {
        "id": "WzcbDRfIor68"
      },
      "execution_count": null,
      "outputs": []
    },
    {
      "cell_type": "markdown",
      "source": [
        "**Expected Output**\n",
        "```\n",
        "=== INVENTORY CHECK ===\n",
        "OK: Duff Beer - 45 in stock\n",
        "LOW STOCK: Guinness - only 8 left!\n",
        "OK: House Wine - 25 in stock\n",
        "\n",
        "Total items in inventory: 78\n",
        "```\n"
      ],
      "metadata": {
        "id": "veQFY5i5M8_q"
      }
    },
    {
      "cell_type": "markdown",
      "source": [
        "## while Loops 🔃\n",
        "\n",
        "A `while` loop repeats code as long as a condition remains true. Unlike `for` loops that usually count, `while` loops continue until something changes the condition.\n",
        "\n",
        "**Syntax:**\n",
        "```java\n",
        "while (condition) {\n",
        "    // Code to repeat\n",
        "    // (must eventually change the condition!)\n",
        "}\n",
        "```\n",
        "\n",
        "### When to Use `while` vs `for`\n",
        "\n",
        "**Use for loops when:** You know how many times to repeat\n",
        "- \"Check all 10 tables\"\n",
        "- \"Process every item in the menu\"\n",
        "\n",
        "**Use while loops when:** You repeat until something happens\n",
        "- \"Keep serving until closing time\"\n",
        "- \"Take orders while customers are waiting\"\n",
        "\n",
        "### Example: While Moe is Working..."
      ],
      "metadata": {
        "id": "FIkmFCRNpHjI"
      }
    },
    {
      "cell_type": "code",
      "source": [
        "%%writefile MoesWhileLoop.java\n",
        "public class MoesWhileLoop {\n",
        "    public static void main(String[] args) {\n",
        "        // Moe's closing routine\n",
        "        boolean isOpen = true;\n",
        "        int customersServed = 0;\n",
        "        int maxCustomers = 8;\n",
        "\n",
        "        System.out.println(\"=== MOE'S TAVERN CLOSING ROUTINE ===\");\n",
        "\n",
        "        while (isOpen && customersServed < maxCustomers) {\n",
        "            customersServed++;\n",
        "            System.out.println(\"Serving customer #\" + customersServed);\n",
        "\n",
        "            // Check if we've reached capacity\n",
        "            if (customersServed == maxCustomers) {\n",
        "                isOpen = false;\n",
        "                System.out.println(\"Reached capacity - no more customers tonight!\");\n",
        "            }\n",
        "        }\n",
        "\n",
        "        System.out.println(\"Final count: \" + customersServed + \" customers served\");\n",
        "        System.out.println(\"Tavern is now closed!\");\n",
        "    }\n",
        "}\n"
      ],
      "metadata": {
        "colab": {
          "base_uri": "https://localhost:8080/"
        },
        "id": "Vjo8VhfSpOv3",
        "outputId": "ad451ec8-1618-49a4-95d1-ce4c335487a3"
      },
      "execution_count": null,
      "outputs": [
        {
          "output_type": "stream",
          "name": "stdout",
          "text": [
            "Writing MoesWhileLoop.java\n"
          ]
        }
      ]
    },
    {
      "cell_type": "code",
      "source": [
        "!javac MoesWhileLoop.java\n",
        "!java MoesWhileLoop"
      ],
      "metadata": {
        "colab": {
          "base_uri": "https://localhost:8080/"
        },
        "id": "pOMrJ36PpR8h",
        "outputId": "a8a68910-71eb-43c7-ee5e-b6a0055b755f"
      },
      "execution_count": null,
      "outputs": [
        {
          "output_type": "stream",
          "name": "stdout",
          "text": [
            "=== MOE'S TAVERN CLOSING ROUTINE ===\n",
            "Serving customer #1\n",
            "Serving customer #2\n",
            "Serving customer #3\n",
            "Serving customer #4\n",
            "Serving customer #5\n",
            "Serving customer #6\n",
            "Serving customer #7\n",
            "Serving customer #8\n",
            "Reached capacity - no more customers tonight!\n",
            "Final count: 8 customers served\n",
            "Tavern is now closed!\n"
          ]
        }
      ]
    },
    {
      "cell_type": "markdown",
      "source": [
        "### Important: Avoid Infinite Loops!\n",
        "Unlike for loops, while loops don't have any built in method that guarantees they will finish. This can lead to problems!\n",
        "**WRONG - This runs forever:**\n",
        "```java\n",
        "int count = 0;\n",
        "while (count < 5) {\n",
        "    System.out.println(\"Count: \" + count);\n",
        "    // Forgot to increment count - infinite loop!\n",
        "}\n",
        "```\n",
        "\n",
        "**RIGHT - This stops correctly:**\n",
        "```java\n",
        "int count = 0;\n",
        "while (count < 5) {\n",
        "    System.out.println(\"Count: \" + count);\n",
        "    count++;  // This eventually makes condition false\n",
        "}\n",
        "```\n",
        "\n",
        "### while Loop Best Practices\n",
        "\n",
        "- **Always change the condition:** Make sure something in the loop will eventually make the condition false\n",
        "- **Be careful with boolean flags:** Make sure they get updated when needed\n",
        "- **Consider for loops first:** If you're counting, a for loop might be clearer\n",
        "\n",
        "Think of while loops like Moe saying \"Keep doing this until I tell you to stop\" - just make sure there's a way for the \"stop\" signal to happen! 🍺⏰"
      ],
      "metadata": {
        "id": "EiuvI7tJpKwn"
      }
    },
    {
      "cell_type": "markdown",
      "source": [
        "## Problem: Moe's Closing Time Service\n",
        "\n",
        "**The Situation**  \n",
        "It's closing time at Moe's Tavern! Moe needs to serve his remaining customers before he locks up for the night. He has a list of customers waiting for drinks, but he can only serve them one at a time. Help Moe create a system that uses a while loop to serve customers until specific conditions are met.\n",
        "\n",
        "**The Code**\n",
        "\n"
      ],
      "metadata": {
        "id": "L73vavz-HUWq"
      }
    },
    {
      "cell_type": "code",
      "source": [
        "%%writefile MoesClosingTime.java\n",
        "public class MoesClosingTime {\n",
        "    public static void main(String[] args) {\n",
        "        // Customer queue and tavern status\n",
        "        String[] waitingCustomers = {\"Barney\", \"Homer\", \"Carl\", \"Lenny\", \"Apu\"};\n",
        "        boolean tavernOpen = true;\n",
        "        int currentCustomer = 0;  // Index for which customer we're serving\n",
        "        int maxCustomersTonight = 3;  // Moe is tired and only wants to serve 3 more\n",
        "\n",
        "        System.out.println(\"=== MOE'S CLOSING TIME SERVICE ===\");\n",
        "        System.out.println(\"Customers waiting: \" + waitingCustomers.length);\n",
        "        System.out.println(\"Max customers to serve tonight: \" + maxCustomersTonight);\n",
        "        System.out.println();\n",
        "\n",
        "        // TODO 1: Create a while loop that continues while:\n",
        "        // - The tavern is still open (tavernOpen is true)\n",
        "        // - There are still customers waiting (currentCustomer < waitingCustomers.length)\n",
        "        // - Moe hasn't reached his limit (currentCustomer < maxCustomersTonight)\n",
        "\n",
        "\n",
        "            // TODO 2: Inside the while loop:\n",
        "            // - Print \"Now serving: [customer name]\"\n",
        "            // - Move to the next customer (increment currentCustomer)\n",
        "            // - Check if we've served the maximum customers\n",
        "            //   If so, set tavernOpen to false and print \"Moe is too tired - closing early!\"\n",
        "\n",
        "\n",
        "        // TODO 3: After the while loop, print closing information:\n",
        "        // - How many customers were served\n",
        "        // - If there are customers still waiting, print \"Sorry [X] customers, come back tomorrow!\"\n",
        "        //   where X is the number of customers not served\n",
        "        // - Print \"Tavern is now closed!\"\n",
        "\n",
        "    }\n",
        "}"
      ],
      "metadata": {
        "id": "DSxAv-9fHjFW",
        "outputId": "4447c059-d915-4de7-a45f-2aaaba9f2792",
        "colab": {
          "base_uri": "https://localhost:8080/"
        }
      },
      "execution_count": null,
      "outputs": [
        {
          "output_type": "stream",
          "name": "stdout",
          "text": [
            "Writing MoesClosingTime.java\n"
          ]
        }
      ]
    },
    {
      "cell_type": "code",
      "source": [
        "!javac MoesClosingTime.java\n",
        "!java MoesClosingTime"
      ],
      "metadata": {
        "id": "kct5y32mHn3e"
      },
      "execution_count": null,
      "outputs": []
    },
    {
      "cell_type": "markdown",
      "source": [
        "**Expected Output**  \n",
        "\n",
        "```\n",
        "\n",
        "=== MOE'S CLOSING TIME SERVICE ===\n",
        "Customers waiting: 5\n",
        "Max customers to serve tonight: 3\n",
        "   \n",
        "Now serving: Barney\n",
        "Now serving: Homer\n",
        "Now serving: Carl\n",
        "Moe is too tired - closing early!\n",
        "\n",
        "Customers served tonight: 3\n",
        "Sorry 2 customers, come back tomorrow!\n",
        "Tavern is now closed!\n",
        "```\n",
        "\n",
        "**Hints**\n",
        "- Your while loop condition should check all three requirements with `&&`\n",
        "- Remember to increment `currentCustomer` inside the loop to avoid infinite loops\n",
        "- Use `waitingCustomers[currentCustomer]` to get the current customer's name\n",
        "- Calculate customers not served: `waitingCustomers.length - currentCustomer`\n",
        "- Don't forget to change `tavernOpen` to `false` when reaching the limit!"
      ],
      "metadata": {
        "id": "2GpCZR_YHYMf"
      }
    },
    {
      "cell_type": "markdown",
      "source": [
        "## Lesson Summary & Next Steps 🎓\n",
        "\n",
        "You've completed another major milestone in your Java programming journey. Today you transformed from someone who could only work with individual pieces of data to someone who can build smart, decision-making programs that handle multiple pieces of information!\n",
        "\n",
        "### What We Mastered Today ✅\n",
        "\n",
        "#### **Conditionals - Making Smart Decisions**\n",
        "**if Statements:** Your programs can now respond to different situations\n",
        "```java\n",
        "if (customerAge >= 21) {\n",
        "    System.out.println(\"Welcome to Moe's!\");\n",
        "}\n",
        "```\n",
        "\n",
        "**if-else Statements:** Handle both positive and negative cases\n",
        "```java\n",
        "if (hasID && age >= 21) {\n",
        "    System.out.println(\"Approved for service\");\n",
        "} else {\n",
        "    System.out.println(\"Cannot serve alcohol\");\n",
        "}\n",
        "```\n",
        "\n",
        "**else if Chains:** Handle multiple scenarios elegantly\n",
        "```java\n",
        "if (hour < 17) {\n",
        "    pricing = \"Regular\";\n",
        "} else if (hour < 19) {\n",
        "    pricing = \"Happy Hour\";\n",
        "} else {\n",
        "    pricing = \"Evening\";\n",
        "}\n",
        "```\n",
        "\n",
        "#### **Comparison Operators - Testing Conditions**\n",
        "- `==` (equal), `!=` (not equal)\n",
        "- `>`, `<`, `>=`, `<=` (greater/less than)\n",
        "- Building boolean expressions that evaluate to true/false\n",
        "\n",
        "#### **Compound Conditionals - Complex Logic**\n",
        "**AND (&&):** Both conditions must be true\n",
        "```java\n",
        "if (isMember && totalSpent >= 50.00) {\n",
        "    // VIP treatment\n",
        "}\n",
        "```\n",
        "\n",
        "**OR (||):** At least one condition must be true\n",
        "```java\n",
        "if (isWeekend || isHoliday) {\n",
        "    // Extended hours\n",
        "}\n",
        "```\n",
        "\n",
        "#### **Arrays - Managing Multiple Values**\n",
        "**Declaration and Access:** Storing related data together\n",
        "```java\n",
        "String[] drinks = {\"Duff\", \"Guinness\", \"Wine\"};\n",
        "double price = prices[0];  // Access first element\n",
        "```\n",
        "\n",
        "**Array Properties:** Using `.length` and working with indices\n",
        "```java\n",
        "for (int i = 0; i < drinks.length; i++) {\n",
        "    System.out.println(drinks[i]);\n",
        "}\n",
        "```\n",
        "\n",
        "#### **Loops - Efficient Repetition**\n",
        "**for Loops:** Perfect for processing arrays and counting\n",
        "```java\n",
        "for (int i = 0; i < array.length; i++) {\n",
        "    // Process each element\n",
        "}\n",
        "```\n",
        "\n",
        "**while Loops:** Continue until a condition changes\n",
        "```java\n",
        "while (isOpen && customers < maxCapacity) {\n",
        "    // Keep serving\n",
        "    customers++;\n",
        "}\n",
        "```\n",
        "\n",
        "### Remember: You're Building Real Skills!\n",
        "\n",
        "The concepts you learned today - decision-making, data management, and repetition - are fundamental to all programming. Whether you build websites, mobile apps, games, or business software, you'll use these patterns constantly.\n",
        "\n",
        "You've gone from writing simple output statements to building complete management systems. That's a huge accomplishment!\n",
        "\n",
        "---\n",
        "\n",
        "\"*In programming, as in bartending, it's all about handling whatever comes through the door with the right logic and a good system!\"* - Moe Szyslak (probably) 🍺"
      ],
      "metadata": {
        "id": "9MXGJlkMpxA2"
      }
    },
    {
      "cell_type": "markdown",
      "source": [
        "## Review: Loop of the Recursive Dragon\n",
        "https://brendanpshea.github.io/LotRD/?set=java_02_control.json\n"
      ],
      "metadata": {
        "id": "GRgPZG6mFQEf"
      }
    },
    {
      "cell_type": "markdown",
      "source": [
        "## Code Jumbler: Chapter 2\n",
        "https://brendanpshea.github.io/code_jumbler/?problemSet=jumble_02.json"
      ],
      "metadata": {
        "id": "IdmxCIpDQWkZ"
      }
    },
    {
      "cell_type": "markdown",
      "source": [
        "## Glossary\n",
        "\n",
        "https://quizlet.com/1071619956/java-02-control-structures-flash-cards/?i=psvlh&x=1jqt\n",
        "\n",
        "| Term | Definition |\n",
        "|------|------------|\n",
        "| && | The logical AND operator that returns true only when both conditions are true |\n",
        "| \\|\\| | The logical OR operator that returns true when at least one condition is true |\n",
        "| != | The inequality operator that tests if two values are not equal |\n",
        "| < | The less than operator that tests if the left value is smaller than the right value |\n",
        "| <= | The less than or equal operator that tests if the left value is smaller than or equal to the right value |\n",
        "| == | The equality operator that tests if two values are equal (not assignment) |\n",
        "| > | The greater than operator that tests if the left value is larger than the right value |\n",
        "| >= | The greater than or equal operator that tests if the left value is larger than or equal to the right value |\n",
        "| [] | Square brackets used to access array elements by index or declare array types |\n",
        "| ++ | The increment operator that increases a variable's value by 1 |\n",
        "| -- | The decrement operator that decreases a variable's value by 1 |\n",
        "| array | A data structure that stores multiple values of the same type in indexed positions |\n",
        "| arrayName[index] | The syntax for accessing or modifying an element at a specific position in an array |\n",
        "| condition | A boolean expression that evaluates to either true or false in control structures |\n",
        "| dataType[] | The syntax for declaring an array variable, where dataType specifies what kind of elements the array will hold |\n",
        "| else | A keyword that specifies code to execute when an if condition evaluates to false |\n",
        "| else if | A keyword combination that allows testing additional conditions in sequence after an initial if |\n",
        "| for | A loop keyword that creates a counting loop with initialization, condition, and increment |\n",
        "| for(init; condition; increment) | The syntax structure for creating a for loop with three parts separated by semicolons |\n",
        "| if | A conditional keyword that executes code only when a specified condition is true |\n",
        "| index | The numeric position used to access elements in an array, starting from 0 |\n",
        "| length | A property of arrays that returns the number of elements contained in the array |\n",
        "| loop | A programming structure that repeats code multiple times based on a condition |\n",
        "| new | A keyword used to create new objects or arrays with a specified size |\n",
        "| new dataType[size] | The syntax for creating an empty array of a specified size using the new keyword |\n",
        "| while | A loop keyword that continues executing code as long as a condition remains true |\n",
        "| while(condition) | The syntax structure for creating a while loop that repeats as long as the condition is true |\n",
        "| {value1, value2} | The syntax for initializing an array with literal values enclosed in curly braces |"
      ],
      "metadata": {
        "id": "0mqGPcg7B1R5"
      }
    },
    {
      "cell_type": "code",
      "source": [],
      "metadata": {
        "id": "JyDoJkPwC6kc"
      },
      "execution_count": null,
      "outputs": []
    }
  ]
}